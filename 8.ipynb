{
 "cells": [
  {
   "cell_type": "markdown",
   "metadata": {},
   "source": [
    "<h1>Содержание<span class=\"tocSkip\"></span></h1>\n",
    "<div class=\"toc\"><ul class=\"toc-item\"><li><span><a href=\"#Подготовка-данных\" data-toc-modified-id=\"Подготовка-данных-1\"><span class=\"toc-item-num\">1&nbsp;&nbsp;</span>Подготовка данных</a></span></li><li><span><a href=\"#Анализ-данных\" data-toc-modified-id=\"Анализ-данных-2\"><span class=\"toc-item-num\">2&nbsp;&nbsp;</span>Анализ данных</a></span></li><li><span><a href=\"#Модель\" data-toc-modified-id=\"Модель-3\"><span class=\"toc-item-num\">3&nbsp;&nbsp;</span>Построение модели</a></span></li><li><span><a href=\"#Чек-лист-готовности-проекта\" data-toc-modified-id=\"Чек-лист-готовности-проекта-4\"><span class=\"toc-item-num\">4&nbsp;&nbsp;</span>Чек-лист готовности проекта</a></span></li></ul></div>\n"
   ]
  },
  {
   "cell_type": "markdown",
   "metadata": {},
   "source": [
    "# Восстановление золота из руды"
   ]
  },
  {
   "cell_type": "markdown",
   "metadata": {},
   "source": [
    "Подготовьте прототип модели машинного обучения для «Цифры». Компания разрабатывает решения для эффективной работы промышленных предприятий.\n",
    "\n",
    "Модель должна предсказать коэффициент восстановления золота из золотосодержащей руды. Используйте данные с параметрами добычи и очистки. \n",
    "\n",
    "Модель поможет оптимизировать производство, чтобы не запускать предприятие с убыточными характеристиками.\n",
    "\n",
    "Вам нужно:\n",
    "\n",
    "1. Подготовить данные;\n",
    "2. Провести исследовательский анализ данных;\n",
    "3. Построить и обучить модель.\n",
    "\n",
    "Чтобы выполнить проект, обращайтесь к библиотекам *pandas*, *matplotlib* и *sklearn.* Вам поможет их документация.\n",
    "\n",
    "**Модель должна предсказать коэффициент восстановления золота из золотосодержащей руды.**"
   ]
  },
  {
   "cell_type": "markdown",
   "metadata": {},
   "source": [
    "*rougher* — флотация\n",
    "\n",
    "*primary_cleaner* — первичная очистка\n",
    "\n",
    "*secondary_cleaner* — вторичная очистка\n",
    "\n",
    "*final* — финальные характеристики"
   ]
  },
  {
   "cell_type": "markdown",
   "metadata": {},
   "source": [
    "Данные находятся в трёх файлах:\n",
    "\n",
    "**gold_recovery_train_new.csv** — обучающая выборка;\n",
    "\n",
    "**gold_recovery_test_new.csv** — тестовая выборка;\n",
    "\n",
    "**gold_recovery_full_new.csv** — исходные данные.\n",
    "\n",
    "Данные индексируются датой и временем получения информации (признак date). Соседние по времени параметры часто похожи.\n",
    "Некоторые параметры недоступны, потому что замеряются и/или рассчитываются значительно позже. Из-за этого в тестовой выборке отсутствуют некоторые признаки, которые могут быть в обучающей. Также в тестовом наборе нет целевых признаков.\n",
    "Исходный датасет содержит обучающую и тестовую выборки со всеми признаками.\n"
   ]
  },
  {
   "cell_type": "markdown",
   "metadata": {},
   "source": [
    "## Подготовка данных"
   ]
  },
  {
   "cell_type": "markdown",
   "metadata": {},
   "source": [
    "Импортируем необходимые нам библиотеки"
   ]
  },
  {
   "cell_type": "code",
   "execution_count": 1,
   "metadata": {},
   "outputs": [],
   "source": [
    "import pandas as pd\n",
    "from sklearn.model_selection import train_test_split\n",
    "from sklearn.linear_model import LinearRegression\n",
    "from sklearn.metrics import mean_absolute_error\n",
    "\n",
    "import seaborn as sns\n",
    "import matplotlib.pyplot as plt\n",
    "import numpy as np\n",
    "\n",
    "from sklearn.ensemble import RandomForestRegressor\n",
    "from sklearn.linear_model import LinearRegression\n",
    "from sklearn.model_selection import train_test_split\n",
    "from sklearn.tree import DecisionTreeRegressor\n",
    "from sklearn.metrics import mean_squared_error\n",
    "from sklearn.dummy import DummyRegressor\n",
    "from sklearn.linear_model import LogisticRegression\n",
    "from sklearn.metrics import f1_score\n",
    "from sklearn.metrics import roc_auc_score\n",
    "from sklearn.preprocessing import StandardScaler\n",
    "from sklearn.model_selection import GridSearchCV"
   ]
  },
  {
   "cell_type": "markdown",
   "metadata": {},
   "source": [
    "Запишем разбиеие на обучающую, тестовую и исходную выборки"
   ]
  },
  {
   "cell_type": "code",
   "execution_count": 2,
   "metadata": {},
   "outputs": [],
   "source": [
    "gold_recovery_train = pd.read_csv('/datasets/gold_recovery_train_new.csv') #  обучающая выборка\n",
    "gold_recovery_test = pd.read_csv('/datasets/gold_recovery_test_new.csv') # тестовая выборка\n",
    "gold_recovery_full= pd.read_csv('/datasets/gold_recovery_train_new.csv') # исходная  выборка"
   ]
  },
  {
   "cell_type": "markdown",
   "metadata": {},
   "source": [
    "Получим основную информацию о датасетах"
   ]
  },
  {
   "cell_type": "code",
   "execution_count": 3,
   "metadata": {},
   "outputs": [
    {
     "name": "stdout",
     "output_type": "stream",
     "text": [
      "<class 'pandas.core.frame.DataFrame'>\n",
      "RangeIndex: 14149 entries, 0 to 14148\n",
      "Data columns (total 87 columns):\n",
      "date                                                  14149 non-null object\n",
      "final.output.concentrate_ag                           14148 non-null float64\n",
      "final.output.concentrate_pb                           14148 non-null float64\n",
      "final.output.concentrate_sol                          13938 non-null float64\n",
      "final.output.concentrate_au                           14149 non-null float64\n",
      "final.output.recovery                                 14149 non-null float64\n",
      "final.output.tail_ag                                  14149 non-null float64\n",
      "final.output.tail_pb                                  14049 non-null float64\n",
      "final.output.tail_sol                                 14144 non-null float64\n",
      "final.output.tail_au                                  14149 non-null float64\n",
      "primary_cleaner.input.sulfate                         14129 non-null float64\n",
      "primary_cleaner.input.depressant                      14117 non-null float64\n",
      "primary_cleaner.input.feed_size                       14149 non-null float64\n",
      "primary_cleaner.input.xanthate                        14049 non-null float64\n",
      "primary_cleaner.output.concentrate_ag                 14149 non-null float64\n",
      "primary_cleaner.output.concentrate_pb                 14063 non-null float64\n",
      "primary_cleaner.output.concentrate_sol                13863 non-null float64\n",
      "primary_cleaner.output.concentrate_au                 14149 non-null float64\n",
      "primary_cleaner.output.tail_ag                        14148 non-null float64\n",
      "primary_cleaner.output.tail_pb                        14134 non-null float64\n",
      "primary_cleaner.output.tail_sol                       14103 non-null float64\n",
      "primary_cleaner.output.tail_au                        14149 non-null float64\n",
      "primary_cleaner.state.floatbank8_a_air                14145 non-null float64\n",
      "primary_cleaner.state.floatbank8_a_level              14148 non-null float64\n",
      "primary_cleaner.state.floatbank8_b_air                14145 non-null float64\n",
      "primary_cleaner.state.floatbank8_b_level              14148 non-null float64\n",
      "primary_cleaner.state.floatbank8_c_air                14147 non-null float64\n",
      "primary_cleaner.state.floatbank8_c_level              14148 non-null float64\n",
      "primary_cleaner.state.floatbank8_d_air                14146 non-null float64\n",
      "primary_cleaner.state.floatbank8_d_level              14148 non-null float64\n",
      "rougher.calculation.sulfate_to_au_concentrate         14148 non-null float64\n",
      "rougher.calculation.floatbank10_sulfate_to_au_feed    14148 non-null float64\n",
      "rougher.calculation.floatbank11_sulfate_to_au_feed    14148 non-null float64\n",
      "rougher.calculation.au_pb_ratio                       14149 non-null float64\n",
      "rougher.input.feed_ag                                 14149 non-null float64\n",
      "rougher.input.feed_pb                                 14049 non-null float64\n",
      "rougher.input.feed_rate                               14141 non-null float64\n",
      "rougher.input.feed_size                               14005 non-null float64\n",
      "rougher.input.feed_sol                                14071 non-null float64\n",
      "rougher.input.feed_au                                 14149 non-null float64\n",
      "rougher.input.floatbank10_sulfate                     14120 non-null float64\n",
      "rougher.input.floatbank10_xanthate                    14141 non-null float64\n",
      "rougher.input.floatbank11_sulfate                     14113 non-null float64\n",
      "rougher.input.floatbank11_xanthate                    13721 non-null float64\n",
      "rougher.output.concentrate_ag                         14149 non-null float64\n",
      "rougher.output.concentrate_pb                         14149 non-null float64\n",
      "rougher.output.concentrate_sol                        14127 non-null float64\n",
      "rougher.output.concentrate_au                         14149 non-null float64\n",
      "rougher.output.recovery                               14149 non-null float64\n",
      "rougher.output.tail_ag                                14148 non-null float64\n",
      "rougher.output.tail_pb                                14149 non-null float64\n",
      "rougher.output.tail_sol                               14149 non-null float64\n",
      "rougher.output.tail_au                                14149 non-null float64\n",
      "rougher.state.floatbank10_a_air                       14148 non-null float64\n",
      "rougher.state.floatbank10_a_level                     14148 non-null float64\n",
      "rougher.state.floatbank10_b_air                       14148 non-null float64\n",
      "rougher.state.floatbank10_b_level                     14148 non-null float64\n",
      "rougher.state.floatbank10_c_air                       14148 non-null float64\n",
      "rougher.state.floatbank10_c_level                     14148 non-null float64\n",
      "rougher.state.floatbank10_d_air                       14149 non-null float64\n",
      "rougher.state.floatbank10_d_level                     14149 non-null float64\n",
      "rougher.state.floatbank10_e_air                       13713 non-null float64\n",
      "rougher.state.floatbank10_e_level                     14149 non-null float64\n",
      "rougher.state.floatbank10_f_air                       14149 non-null float64\n",
      "rougher.state.floatbank10_f_level                     14149 non-null float64\n",
      "secondary_cleaner.output.tail_ag                      14147 non-null float64\n",
      "secondary_cleaner.output.tail_pb                      14139 non-null float64\n",
      "secondary_cleaner.output.tail_sol                     12544 non-null float64\n",
      "secondary_cleaner.output.tail_au                      14149 non-null float64\n",
      "secondary_cleaner.state.floatbank2_a_air              13932 non-null float64\n",
      "secondary_cleaner.state.floatbank2_a_level            14148 non-null float64\n",
      "secondary_cleaner.state.floatbank2_b_air              14128 non-null float64\n",
      "secondary_cleaner.state.floatbank2_b_level            14148 non-null float64\n",
      "secondary_cleaner.state.floatbank3_a_air              14145 non-null float64\n",
      "secondary_cleaner.state.floatbank3_a_level            14148 non-null float64\n",
      "secondary_cleaner.state.floatbank3_b_air              14148 non-null float64\n",
      "secondary_cleaner.state.floatbank3_b_level            14148 non-null float64\n",
      "secondary_cleaner.state.floatbank4_a_air              14143 non-null float64\n",
      "secondary_cleaner.state.floatbank4_a_level            14148 non-null float64\n",
      "secondary_cleaner.state.floatbank4_b_air              14148 non-null float64\n",
      "secondary_cleaner.state.floatbank4_b_level            14148 non-null float64\n",
      "secondary_cleaner.state.floatbank5_a_air              14148 non-null float64\n",
      "secondary_cleaner.state.floatbank5_a_level            14148 non-null float64\n",
      "secondary_cleaner.state.floatbank5_b_air              14148 non-null float64\n",
      "secondary_cleaner.state.floatbank5_b_level            14148 non-null float64\n",
      "secondary_cleaner.state.floatbank6_a_air              14147 non-null float64\n",
      "secondary_cleaner.state.floatbank6_a_level            14148 non-null float64\n",
      "dtypes: float64(86), object(1)\n",
      "memory usage: 9.4+ MB\n"
     ]
    }
   ],
   "source": [
    "gold_recovery_train.info()"
   ]
  },
  {
   "cell_type": "code",
   "execution_count": 4,
   "metadata": {},
   "outputs": [
    {
     "name": "stdout",
     "output_type": "stream",
     "text": [
      "<class 'pandas.core.frame.DataFrame'>\n",
      "RangeIndex: 5290 entries, 0 to 5289\n",
      "Data columns (total 53 columns):\n",
      "date                                          5290 non-null object\n",
      "primary_cleaner.input.sulfate                 5286 non-null float64\n",
      "primary_cleaner.input.depressant              5285 non-null float64\n",
      "primary_cleaner.input.feed_size               5290 non-null float64\n",
      "primary_cleaner.input.xanthate                5286 non-null float64\n",
      "primary_cleaner.state.floatbank8_a_air        5290 non-null float64\n",
      "primary_cleaner.state.floatbank8_a_level      5290 non-null float64\n",
      "primary_cleaner.state.floatbank8_b_air        5290 non-null float64\n",
      "primary_cleaner.state.floatbank8_b_level      5290 non-null float64\n",
      "primary_cleaner.state.floatbank8_c_air        5290 non-null float64\n",
      "primary_cleaner.state.floatbank8_c_level      5290 non-null float64\n",
      "primary_cleaner.state.floatbank8_d_air        5290 non-null float64\n",
      "primary_cleaner.state.floatbank8_d_level      5290 non-null float64\n",
      "rougher.input.feed_ag                         5290 non-null float64\n",
      "rougher.input.feed_pb                         5290 non-null float64\n",
      "rougher.input.feed_rate                       5287 non-null float64\n",
      "rougher.input.feed_size                       5289 non-null float64\n",
      "rougher.input.feed_sol                        5269 non-null float64\n",
      "rougher.input.feed_au                         5290 non-null float64\n",
      "rougher.input.floatbank10_sulfate             5285 non-null float64\n",
      "rougher.input.floatbank10_xanthate            5290 non-null float64\n",
      "rougher.input.floatbank11_sulfate             5282 non-null float64\n",
      "rougher.input.floatbank11_xanthate            5265 non-null float64\n",
      "rougher.state.floatbank10_a_air               5290 non-null float64\n",
      "rougher.state.floatbank10_a_level             5290 non-null float64\n",
      "rougher.state.floatbank10_b_air               5290 non-null float64\n",
      "rougher.state.floatbank10_b_level             5290 non-null float64\n",
      "rougher.state.floatbank10_c_air               5290 non-null float64\n",
      "rougher.state.floatbank10_c_level             5290 non-null float64\n",
      "rougher.state.floatbank10_d_air               5290 non-null float64\n",
      "rougher.state.floatbank10_d_level             5290 non-null float64\n",
      "rougher.state.floatbank10_e_air               5290 non-null float64\n",
      "rougher.state.floatbank10_e_level             5290 non-null float64\n",
      "rougher.state.floatbank10_f_air               5290 non-null float64\n",
      "rougher.state.floatbank10_f_level             5290 non-null float64\n",
      "secondary_cleaner.state.floatbank2_a_air      5287 non-null float64\n",
      "secondary_cleaner.state.floatbank2_a_level    5290 non-null float64\n",
      "secondary_cleaner.state.floatbank2_b_air      5288 non-null float64\n",
      "secondary_cleaner.state.floatbank2_b_level    5290 non-null float64\n",
      "secondary_cleaner.state.floatbank3_a_air      5281 non-null float64\n",
      "secondary_cleaner.state.floatbank3_a_level    5290 non-null float64\n",
      "secondary_cleaner.state.floatbank3_b_air      5290 non-null float64\n",
      "secondary_cleaner.state.floatbank3_b_level    5290 non-null float64\n",
      "secondary_cleaner.state.floatbank4_a_air      5290 non-null float64\n",
      "secondary_cleaner.state.floatbank4_a_level    5290 non-null float64\n",
      "secondary_cleaner.state.floatbank4_b_air      5290 non-null float64\n",
      "secondary_cleaner.state.floatbank4_b_level    5290 non-null float64\n",
      "secondary_cleaner.state.floatbank5_a_air      5290 non-null float64\n",
      "secondary_cleaner.state.floatbank5_a_level    5290 non-null float64\n",
      "secondary_cleaner.state.floatbank5_b_air      5290 non-null float64\n",
      "secondary_cleaner.state.floatbank5_b_level    5290 non-null float64\n",
      "secondary_cleaner.state.floatbank6_a_air      5290 non-null float64\n",
      "secondary_cleaner.state.floatbank6_a_level    5290 non-null float64\n",
      "dtypes: float64(52), object(1)\n",
      "memory usage: 2.1+ MB\n"
     ]
    }
   ],
   "source": [
    "gold_recovery_test.info()"
   ]
  },
  {
   "cell_type": "code",
   "execution_count": 5,
   "metadata": {},
   "outputs": [
    {
     "name": "stdout",
     "output_type": "stream",
     "text": [
      "<class 'pandas.core.frame.DataFrame'>\n",
      "RangeIndex: 14149 entries, 0 to 14148\n",
      "Data columns (total 87 columns):\n",
      "date                                                  14149 non-null object\n",
      "final.output.concentrate_ag                           14148 non-null float64\n",
      "final.output.concentrate_pb                           14148 non-null float64\n",
      "final.output.concentrate_sol                          13938 non-null float64\n",
      "final.output.concentrate_au                           14149 non-null float64\n",
      "final.output.recovery                                 14149 non-null float64\n",
      "final.output.tail_ag                                  14149 non-null float64\n",
      "final.output.tail_pb                                  14049 non-null float64\n",
      "final.output.tail_sol                                 14144 non-null float64\n",
      "final.output.tail_au                                  14149 non-null float64\n",
      "primary_cleaner.input.sulfate                         14129 non-null float64\n",
      "primary_cleaner.input.depressant                      14117 non-null float64\n",
      "primary_cleaner.input.feed_size                       14149 non-null float64\n",
      "primary_cleaner.input.xanthate                        14049 non-null float64\n",
      "primary_cleaner.output.concentrate_ag                 14149 non-null float64\n",
      "primary_cleaner.output.concentrate_pb                 14063 non-null float64\n",
      "primary_cleaner.output.concentrate_sol                13863 non-null float64\n",
      "primary_cleaner.output.concentrate_au                 14149 non-null float64\n",
      "primary_cleaner.output.tail_ag                        14148 non-null float64\n",
      "primary_cleaner.output.tail_pb                        14134 non-null float64\n",
      "primary_cleaner.output.tail_sol                       14103 non-null float64\n",
      "primary_cleaner.output.tail_au                        14149 non-null float64\n",
      "primary_cleaner.state.floatbank8_a_air                14145 non-null float64\n",
      "primary_cleaner.state.floatbank8_a_level              14148 non-null float64\n",
      "primary_cleaner.state.floatbank8_b_air                14145 non-null float64\n",
      "primary_cleaner.state.floatbank8_b_level              14148 non-null float64\n",
      "primary_cleaner.state.floatbank8_c_air                14147 non-null float64\n",
      "primary_cleaner.state.floatbank8_c_level              14148 non-null float64\n",
      "primary_cleaner.state.floatbank8_d_air                14146 non-null float64\n",
      "primary_cleaner.state.floatbank8_d_level              14148 non-null float64\n",
      "rougher.calculation.sulfate_to_au_concentrate         14148 non-null float64\n",
      "rougher.calculation.floatbank10_sulfate_to_au_feed    14148 non-null float64\n",
      "rougher.calculation.floatbank11_sulfate_to_au_feed    14148 non-null float64\n",
      "rougher.calculation.au_pb_ratio                       14149 non-null float64\n",
      "rougher.input.feed_ag                                 14149 non-null float64\n",
      "rougher.input.feed_pb                                 14049 non-null float64\n",
      "rougher.input.feed_rate                               14141 non-null float64\n",
      "rougher.input.feed_size                               14005 non-null float64\n",
      "rougher.input.feed_sol                                14071 non-null float64\n",
      "rougher.input.feed_au                                 14149 non-null float64\n",
      "rougher.input.floatbank10_sulfate                     14120 non-null float64\n",
      "rougher.input.floatbank10_xanthate                    14141 non-null float64\n",
      "rougher.input.floatbank11_sulfate                     14113 non-null float64\n",
      "rougher.input.floatbank11_xanthate                    13721 non-null float64\n",
      "rougher.output.concentrate_ag                         14149 non-null float64\n",
      "rougher.output.concentrate_pb                         14149 non-null float64\n",
      "rougher.output.concentrate_sol                        14127 non-null float64\n",
      "rougher.output.concentrate_au                         14149 non-null float64\n",
      "rougher.output.recovery                               14149 non-null float64\n",
      "rougher.output.tail_ag                                14148 non-null float64\n",
      "rougher.output.tail_pb                                14149 non-null float64\n",
      "rougher.output.tail_sol                               14149 non-null float64\n",
      "rougher.output.tail_au                                14149 non-null float64\n",
      "rougher.state.floatbank10_a_air                       14148 non-null float64\n",
      "rougher.state.floatbank10_a_level                     14148 non-null float64\n",
      "rougher.state.floatbank10_b_air                       14148 non-null float64\n",
      "rougher.state.floatbank10_b_level                     14148 non-null float64\n",
      "rougher.state.floatbank10_c_air                       14148 non-null float64\n",
      "rougher.state.floatbank10_c_level                     14148 non-null float64\n",
      "rougher.state.floatbank10_d_air                       14149 non-null float64\n",
      "rougher.state.floatbank10_d_level                     14149 non-null float64\n",
      "rougher.state.floatbank10_e_air                       13713 non-null float64\n",
      "rougher.state.floatbank10_e_level                     14149 non-null float64\n",
      "rougher.state.floatbank10_f_air                       14149 non-null float64\n",
      "rougher.state.floatbank10_f_level                     14149 non-null float64\n",
      "secondary_cleaner.output.tail_ag                      14147 non-null float64\n",
      "secondary_cleaner.output.tail_pb                      14139 non-null float64\n",
      "secondary_cleaner.output.tail_sol                     12544 non-null float64\n",
      "secondary_cleaner.output.tail_au                      14149 non-null float64\n",
      "secondary_cleaner.state.floatbank2_a_air              13932 non-null float64\n",
      "secondary_cleaner.state.floatbank2_a_level            14148 non-null float64\n",
      "secondary_cleaner.state.floatbank2_b_air              14128 non-null float64\n",
      "secondary_cleaner.state.floatbank2_b_level            14148 non-null float64\n",
      "secondary_cleaner.state.floatbank3_a_air              14145 non-null float64\n",
      "secondary_cleaner.state.floatbank3_a_level            14148 non-null float64\n",
      "secondary_cleaner.state.floatbank3_b_air              14148 non-null float64\n",
      "secondary_cleaner.state.floatbank3_b_level            14148 non-null float64\n",
      "secondary_cleaner.state.floatbank4_a_air              14143 non-null float64\n",
      "secondary_cleaner.state.floatbank4_a_level            14148 non-null float64\n",
      "secondary_cleaner.state.floatbank4_b_air              14148 non-null float64\n",
      "secondary_cleaner.state.floatbank4_b_level            14148 non-null float64\n",
      "secondary_cleaner.state.floatbank5_a_air              14148 non-null float64\n",
      "secondary_cleaner.state.floatbank5_a_level            14148 non-null float64\n",
      "secondary_cleaner.state.floatbank5_b_air              14148 non-null float64\n",
      "secondary_cleaner.state.floatbank5_b_level            14148 non-null float64\n",
      "secondary_cleaner.state.floatbank6_a_air              14147 non-null float64\n",
      "secondary_cleaner.state.floatbank6_a_level            14148 non-null float64\n",
      "dtypes: float64(86), object(1)\n",
      "memory usage: 9.4+ MB\n"
     ]
    }
   ],
   "source": [
    "gold_recovery_full.info()"
   ]
  },
  {
   "cell_type": "code",
   "execution_count": 6,
   "metadata": {},
   "outputs": [
    {
     "data": {
      "text/html": [
       "<div>\n",
       "<style scoped>\n",
       "    .dataframe tbody tr th:only-of-type {\n",
       "        vertical-align: middle;\n",
       "    }\n",
       "\n",
       "    .dataframe tbody tr th {\n",
       "        vertical-align: top;\n",
       "    }\n",
       "\n",
       "    .dataframe thead th {\n",
       "        text-align: right;\n",
       "    }\n",
       "</style>\n",
       "<table border=\"1\" class=\"dataframe\">\n",
       "  <thead>\n",
       "    <tr style=\"text-align: right;\">\n",
       "      <th></th>\n",
       "      <th>final.output.concentrate_ag</th>\n",
       "      <th>final.output.concentrate_pb</th>\n",
       "      <th>final.output.concentrate_sol</th>\n",
       "      <th>final.output.concentrate_au</th>\n",
       "      <th>final.output.recovery</th>\n",
       "      <th>final.output.tail_ag</th>\n",
       "      <th>final.output.tail_pb</th>\n",
       "      <th>final.output.tail_sol</th>\n",
       "      <th>final.output.tail_au</th>\n",
       "      <th>primary_cleaner.input.sulfate</th>\n",
       "      <th>...</th>\n",
       "      <th>secondary_cleaner.state.floatbank4_a_air</th>\n",
       "      <th>secondary_cleaner.state.floatbank4_a_level</th>\n",
       "      <th>secondary_cleaner.state.floatbank4_b_air</th>\n",
       "      <th>secondary_cleaner.state.floatbank4_b_level</th>\n",
       "      <th>secondary_cleaner.state.floatbank5_a_air</th>\n",
       "      <th>secondary_cleaner.state.floatbank5_a_level</th>\n",
       "      <th>secondary_cleaner.state.floatbank5_b_air</th>\n",
       "      <th>secondary_cleaner.state.floatbank5_b_level</th>\n",
       "      <th>secondary_cleaner.state.floatbank6_a_air</th>\n",
       "      <th>secondary_cleaner.state.floatbank6_a_level</th>\n",
       "    </tr>\n",
       "  </thead>\n",
       "  <tbody>\n",
       "    <tr>\n",
       "      <td>count</td>\n",
       "      <td>14148.000000</td>\n",
       "      <td>14148.000000</td>\n",
       "      <td>13938.000000</td>\n",
       "      <td>14149.000000</td>\n",
       "      <td>14149.000000</td>\n",
       "      <td>14149.000000</td>\n",
       "      <td>14049.000000</td>\n",
       "      <td>14144.000000</td>\n",
       "      <td>14149.000000</td>\n",
       "      <td>14129.000000</td>\n",
       "      <td>...</td>\n",
       "      <td>14143.000000</td>\n",
       "      <td>14148.000000</td>\n",
       "      <td>14148.000000</td>\n",
       "      <td>14148.000000</td>\n",
       "      <td>14148.000000</td>\n",
       "      <td>14148.000000</td>\n",
       "      <td>14148.000000</td>\n",
       "      <td>14148.000000</td>\n",
       "      <td>14147.000000</td>\n",
       "      <td>14148.000000</td>\n",
       "    </tr>\n",
       "    <tr>\n",
       "      <td>mean</td>\n",
       "      <td>5.142034</td>\n",
       "      <td>10.132960</td>\n",
       "      <td>9.202849</td>\n",
       "      <td>44.003792</td>\n",
       "      <td>66.518832</td>\n",
       "      <td>9.607035</td>\n",
       "      <td>2.597298</td>\n",
       "      <td>10.512122</td>\n",
       "      <td>2.918421</td>\n",
       "      <td>133.320659</td>\n",
       "      <td>...</td>\n",
       "      <td>19.985454</td>\n",
       "      <td>-478.696836</td>\n",
       "      <td>15.487065</td>\n",
       "      <td>-460.229416</td>\n",
       "      <td>16.775136</td>\n",
       "      <td>-483.956022</td>\n",
       "      <td>13.064590</td>\n",
       "      <td>-483.966564</td>\n",
       "      <td>19.577539</td>\n",
       "      <td>-506.798480</td>\n",
       "    </tr>\n",
       "    <tr>\n",
       "      <td>std</td>\n",
       "      <td>1.369586</td>\n",
       "      <td>1.654930</td>\n",
       "      <td>2.790516</td>\n",
       "      <td>4.905261</td>\n",
       "      <td>10.295402</td>\n",
       "      <td>2.319069</td>\n",
       "      <td>0.971843</td>\n",
       "      <td>3.003617</td>\n",
       "      <td>0.903712</td>\n",
       "      <td>39.431659</td>\n",
       "      <td>...</td>\n",
       "      <td>5.657723</td>\n",
       "      <td>50.736021</td>\n",
       "      <td>5.255655</td>\n",
       "      <td>58.843586</td>\n",
       "      <td>5.831906</td>\n",
       "      <td>37.892788</td>\n",
       "      <td>5.765617</td>\n",
       "      <td>39.207913</td>\n",
       "      <td>5.764417</td>\n",
       "      <td>37.079249</td>\n",
       "    </tr>\n",
       "    <tr>\n",
       "      <td>min</td>\n",
       "      <td>0.000000</td>\n",
       "      <td>0.000000</td>\n",
       "      <td>0.000000</td>\n",
       "      <td>0.000000</td>\n",
       "      <td>0.000000</td>\n",
       "      <td>0.000000</td>\n",
       "      <td>0.000000</td>\n",
       "      <td>0.000000</td>\n",
       "      <td>0.000000</td>\n",
       "      <td>0.003112</td>\n",
       "      <td>...</td>\n",
       "      <td>0.000000</td>\n",
       "      <td>-799.709069</td>\n",
       "      <td>0.000000</td>\n",
       "      <td>-799.889113</td>\n",
       "      <td>-0.372054</td>\n",
       "      <td>-797.142475</td>\n",
       "      <td>0.646208</td>\n",
       "      <td>-800.006180</td>\n",
       "      <td>0.195324</td>\n",
       "      <td>-809.398668</td>\n",
       "    </tr>\n",
       "    <tr>\n",
       "      <td>25%</td>\n",
       "      <td>4.211620</td>\n",
       "      <td>9.297355</td>\n",
       "      <td>7.484645</td>\n",
       "      <td>43.276111</td>\n",
       "      <td>62.545817</td>\n",
       "      <td>7.997429</td>\n",
       "      <td>1.905973</td>\n",
       "      <td>8.811324</td>\n",
       "      <td>2.368607</td>\n",
       "      <td>107.006651</td>\n",
       "      <td>...</td>\n",
       "      <td>14.990775</td>\n",
       "      <td>-500.628656</td>\n",
       "      <td>11.894558</td>\n",
       "      <td>-500.149000</td>\n",
       "      <td>11.083980</td>\n",
       "      <td>-500.363177</td>\n",
       "      <td>8.994405</td>\n",
       "      <td>-500.105994</td>\n",
       "      <td>14.989304</td>\n",
       "      <td>-500.745104</td>\n",
       "    </tr>\n",
       "    <tr>\n",
       "      <td>50%</td>\n",
       "      <td>4.994652</td>\n",
       "      <td>10.297144</td>\n",
       "      <td>8.845462</td>\n",
       "      <td>44.872436</td>\n",
       "      <td>67.432775</td>\n",
       "      <td>9.480270</td>\n",
       "      <td>2.592022</td>\n",
       "      <td>10.514621</td>\n",
       "      <td>2.851025</td>\n",
       "      <td>133.018328</td>\n",
       "      <td>...</td>\n",
       "      <td>20.001789</td>\n",
       "      <td>-499.681450</td>\n",
       "      <td>14.975536</td>\n",
       "      <td>-499.388738</td>\n",
       "      <td>17.932223</td>\n",
       "      <td>-499.702452</td>\n",
       "      <td>11.997547</td>\n",
       "      <td>-499.914556</td>\n",
       "      <td>19.984175</td>\n",
       "      <td>-500.061431</td>\n",
       "    </tr>\n",
       "    <tr>\n",
       "      <td>75%</td>\n",
       "      <td>5.859540</td>\n",
       "      <td>11.170603</td>\n",
       "      <td>10.487508</td>\n",
       "      <td>46.166425</td>\n",
       "      <td>72.346428</td>\n",
       "      <td>11.003707</td>\n",
       "      <td>3.241723</td>\n",
       "      <td>11.933009</td>\n",
       "      <td>3.434764</td>\n",
       "      <td>159.825396</td>\n",
       "      <td>...</td>\n",
       "      <td>24.990826</td>\n",
       "      <td>-477.472413</td>\n",
       "      <td>20.059375</td>\n",
       "      <td>-400.039008</td>\n",
       "      <td>21.346550</td>\n",
       "      <td>-487.712108</td>\n",
       "      <td>17.982903</td>\n",
       "      <td>-453.186936</td>\n",
       "      <td>24.991623</td>\n",
       "      <td>-499.536466</td>\n",
       "    </tr>\n",
       "    <tr>\n",
       "      <td>max</td>\n",
       "      <td>16.001945</td>\n",
       "      <td>17.031899</td>\n",
       "      <td>18.124851</td>\n",
       "      <td>52.756638</td>\n",
       "      <td>100.000000</td>\n",
       "      <td>19.552149</td>\n",
       "      <td>5.639565</td>\n",
       "      <td>22.317730</td>\n",
       "      <td>8.197408</td>\n",
       "      <td>250.127834</td>\n",
       "      <td>...</td>\n",
       "      <td>30.115735</td>\n",
       "      <td>-245.239184</td>\n",
       "      <td>24.007913</td>\n",
       "      <td>-145.071088</td>\n",
       "      <td>43.709931</td>\n",
       "      <td>-275.073125</td>\n",
       "      <td>27.926001</td>\n",
       "      <td>-157.396071</td>\n",
       "      <td>32.188906</td>\n",
       "      <td>-104.427459</td>\n",
       "    </tr>\n",
       "  </tbody>\n",
       "</table>\n",
       "<p>8 rows × 86 columns</p>\n",
       "</div>"
      ],
      "text/plain": [
       "       final.output.concentrate_ag  final.output.concentrate_pb  \\\n",
       "count                 14148.000000                 14148.000000   \n",
       "mean                      5.142034                    10.132960   \n",
       "std                       1.369586                     1.654930   \n",
       "min                       0.000000                     0.000000   \n",
       "25%                       4.211620                     9.297355   \n",
       "50%                       4.994652                    10.297144   \n",
       "75%                       5.859540                    11.170603   \n",
       "max                      16.001945                    17.031899   \n",
       "\n",
       "       final.output.concentrate_sol  final.output.concentrate_au  \\\n",
       "count                  13938.000000                 14149.000000   \n",
       "mean                       9.202849                    44.003792   \n",
       "std                        2.790516                     4.905261   \n",
       "min                        0.000000                     0.000000   \n",
       "25%                        7.484645                    43.276111   \n",
       "50%                        8.845462                    44.872436   \n",
       "75%                       10.487508                    46.166425   \n",
       "max                       18.124851                    52.756638   \n",
       "\n",
       "       final.output.recovery  final.output.tail_ag  final.output.tail_pb  \\\n",
       "count           14149.000000          14149.000000          14049.000000   \n",
       "mean               66.518832              9.607035              2.597298   \n",
       "std                10.295402              2.319069              0.971843   \n",
       "min                 0.000000              0.000000              0.000000   \n",
       "25%                62.545817              7.997429              1.905973   \n",
       "50%                67.432775              9.480270              2.592022   \n",
       "75%                72.346428             11.003707              3.241723   \n",
       "max               100.000000             19.552149              5.639565   \n",
       "\n",
       "       final.output.tail_sol  final.output.tail_au  \\\n",
       "count           14144.000000          14149.000000   \n",
       "mean               10.512122              2.918421   \n",
       "std                 3.003617              0.903712   \n",
       "min                 0.000000              0.000000   \n",
       "25%                 8.811324              2.368607   \n",
       "50%                10.514621              2.851025   \n",
       "75%                11.933009              3.434764   \n",
       "max                22.317730              8.197408   \n",
       "\n",
       "       primary_cleaner.input.sulfate  ...  \\\n",
       "count                   14129.000000  ...   \n",
       "mean                      133.320659  ...   \n",
       "std                        39.431659  ...   \n",
       "min                         0.003112  ...   \n",
       "25%                       107.006651  ...   \n",
       "50%                       133.018328  ...   \n",
       "75%                       159.825396  ...   \n",
       "max                       250.127834  ...   \n",
       "\n",
       "       secondary_cleaner.state.floatbank4_a_air  \\\n",
       "count                              14143.000000   \n",
       "mean                                  19.985454   \n",
       "std                                    5.657723   \n",
       "min                                    0.000000   \n",
       "25%                                   14.990775   \n",
       "50%                                   20.001789   \n",
       "75%                                   24.990826   \n",
       "max                                   30.115735   \n",
       "\n",
       "       secondary_cleaner.state.floatbank4_a_level  \\\n",
       "count                                14148.000000   \n",
       "mean                                  -478.696836   \n",
       "std                                     50.736021   \n",
       "min                                   -799.709069   \n",
       "25%                                   -500.628656   \n",
       "50%                                   -499.681450   \n",
       "75%                                   -477.472413   \n",
       "max                                   -245.239184   \n",
       "\n",
       "       secondary_cleaner.state.floatbank4_b_air  \\\n",
       "count                              14148.000000   \n",
       "mean                                  15.487065   \n",
       "std                                    5.255655   \n",
       "min                                    0.000000   \n",
       "25%                                   11.894558   \n",
       "50%                                   14.975536   \n",
       "75%                                   20.059375   \n",
       "max                                   24.007913   \n",
       "\n",
       "       secondary_cleaner.state.floatbank4_b_level  \\\n",
       "count                                14148.000000   \n",
       "mean                                  -460.229416   \n",
       "std                                     58.843586   \n",
       "min                                   -799.889113   \n",
       "25%                                   -500.149000   \n",
       "50%                                   -499.388738   \n",
       "75%                                   -400.039008   \n",
       "max                                   -145.071088   \n",
       "\n",
       "       secondary_cleaner.state.floatbank5_a_air  \\\n",
       "count                              14148.000000   \n",
       "mean                                  16.775136   \n",
       "std                                    5.831906   \n",
       "min                                   -0.372054   \n",
       "25%                                   11.083980   \n",
       "50%                                   17.932223   \n",
       "75%                                   21.346550   \n",
       "max                                   43.709931   \n",
       "\n",
       "       secondary_cleaner.state.floatbank5_a_level  \\\n",
       "count                                14148.000000   \n",
       "mean                                  -483.956022   \n",
       "std                                     37.892788   \n",
       "min                                   -797.142475   \n",
       "25%                                   -500.363177   \n",
       "50%                                   -499.702452   \n",
       "75%                                   -487.712108   \n",
       "max                                   -275.073125   \n",
       "\n",
       "       secondary_cleaner.state.floatbank5_b_air  \\\n",
       "count                              14148.000000   \n",
       "mean                                  13.064590   \n",
       "std                                    5.765617   \n",
       "min                                    0.646208   \n",
       "25%                                    8.994405   \n",
       "50%                                   11.997547   \n",
       "75%                                   17.982903   \n",
       "max                                   27.926001   \n",
       "\n",
       "       secondary_cleaner.state.floatbank5_b_level  \\\n",
       "count                                14148.000000   \n",
       "mean                                  -483.966564   \n",
       "std                                     39.207913   \n",
       "min                                   -800.006180   \n",
       "25%                                   -500.105994   \n",
       "50%                                   -499.914556   \n",
       "75%                                   -453.186936   \n",
       "max                                   -157.396071   \n",
       "\n",
       "       secondary_cleaner.state.floatbank6_a_air  \\\n",
       "count                              14147.000000   \n",
       "mean                                  19.577539   \n",
       "std                                    5.764417   \n",
       "min                                    0.195324   \n",
       "25%                                   14.989304   \n",
       "50%                                   19.984175   \n",
       "75%                                   24.991623   \n",
       "max                                   32.188906   \n",
       "\n",
       "       secondary_cleaner.state.floatbank6_a_level  \n",
       "count                                14148.000000  \n",
       "mean                                  -506.798480  \n",
       "std                                     37.079249  \n",
       "min                                   -809.398668  \n",
       "25%                                   -500.745104  \n",
       "50%                                   -500.061431  \n",
       "75%                                   -499.536466  \n",
       "max                                   -104.427459  \n",
       "\n",
       "[8 rows x 86 columns]"
      ]
     },
     "execution_count": 6,
     "metadata": {},
     "output_type": "execute_result"
    }
   ],
   "source": [
    "gold_recovery_train.describe()"
   ]
  },
  {
   "cell_type": "markdown",
   "metadata": {},
   "source": [
    "Проверим, правильно ли рассчитана эффективность обогащения для признака rougher.output.recovery на обучающей выборке.\n",
    "C — доля золота в концентрате после флотации/очистки;\n",
    "F — доля золота в сырье/концентрате до флотации/очистки;\n",
    "T — доля золота в отвальных хвостах после флотации/очистки.\n",
    "rougher.output.recovery - флотация, параметры продукта, переработка"
   ]
  },
  {
   "cell_type": "code",
   "execution_count": 7,
   "metadata": {},
   "outputs": [
    {
     "data": {
      "text/html": [
       "<div>\n",
       "<style scoped>\n",
       "    .dataframe tbody tr th:only-of-type {\n",
       "        vertical-align: middle;\n",
       "    }\n",
       "\n",
       "    .dataframe tbody tr th {\n",
       "        vertical-align: top;\n",
       "    }\n",
       "\n",
       "    .dataframe thead th {\n",
       "        text-align: right;\n",
       "    }\n",
       "</style>\n",
       "<table border=\"1\" class=\"dataframe\">\n",
       "  <thead>\n",
       "    <tr style=\"text-align: right;\">\n",
       "      <th></th>\n",
       "      <th>date</th>\n",
       "      <th>final.output.concentrate_ag</th>\n",
       "      <th>final.output.concentrate_pb</th>\n",
       "      <th>final.output.concentrate_sol</th>\n",
       "      <th>final.output.concentrate_au</th>\n",
       "      <th>final.output.recovery</th>\n",
       "      <th>final.output.tail_ag</th>\n",
       "      <th>final.output.tail_pb</th>\n",
       "      <th>final.output.tail_sol</th>\n",
       "      <th>final.output.tail_au</th>\n",
       "      <th>...</th>\n",
       "      <th>secondary_cleaner.state.floatbank4_a_air</th>\n",
       "      <th>secondary_cleaner.state.floatbank4_a_level</th>\n",
       "      <th>secondary_cleaner.state.floatbank4_b_air</th>\n",
       "      <th>secondary_cleaner.state.floatbank4_b_level</th>\n",
       "      <th>secondary_cleaner.state.floatbank5_a_air</th>\n",
       "      <th>secondary_cleaner.state.floatbank5_a_level</th>\n",
       "      <th>secondary_cleaner.state.floatbank5_b_air</th>\n",
       "      <th>secondary_cleaner.state.floatbank5_b_level</th>\n",
       "      <th>secondary_cleaner.state.floatbank6_a_air</th>\n",
       "      <th>secondary_cleaner.state.floatbank6_a_level</th>\n",
       "    </tr>\n",
       "  </thead>\n",
       "  <tbody>\n",
       "    <tr>\n",
       "      <td>0</td>\n",
       "      <td>2016-01-15 00:00:00</td>\n",
       "      <td>6.055403</td>\n",
       "      <td>9.889648</td>\n",
       "      <td>5.507324</td>\n",
       "      <td>42.192020</td>\n",
       "      <td>70.541216</td>\n",
       "      <td>10.411962</td>\n",
       "      <td>0.895447</td>\n",
       "      <td>16.904297</td>\n",
       "      <td>2.143149</td>\n",
       "      <td>...</td>\n",
       "      <td>14.016835</td>\n",
       "      <td>-502.488007</td>\n",
       "      <td>12.099931</td>\n",
       "      <td>-504.715942</td>\n",
       "      <td>9.925633</td>\n",
       "      <td>-498.310211</td>\n",
       "      <td>8.079666</td>\n",
       "      <td>-500.470978</td>\n",
       "      <td>14.151341</td>\n",
       "      <td>-605.841980</td>\n",
       "    </tr>\n",
       "    <tr>\n",
       "      <td>1</td>\n",
       "      <td>2016-01-15 01:00:00</td>\n",
       "      <td>6.029369</td>\n",
       "      <td>9.968944</td>\n",
       "      <td>5.257781</td>\n",
       "      <td>42.701629</td>\n",
       "      <td>69.266198</td>\n",
       "      <td>10.462676</td>\n",
       "      <td>0.927452</td>\n",
       "      <td>16.634514</td>\n",
       "      <td>2.224930</td>\n",
       "      <td>...</td>\n",
       "      <td>13.992281</td>\n",
       "      <td>-505.503262</td>\n",
       "      <td>11.950531</td>\n",
       "      <td>-501.331529</td>\n",
       "      <td>10.039245</td>\n",
       "      <td>-500.169983</td>\n",
       "      <td>7.984757</td>\n",
       "      <td>-500.582168</td>\n",
       "      <td>13.998353</td>\n",
       "      <td>-599.787184</td>\n",
       "    </tr>\n",
       "    <tr>\n",
       "      <td>2</td>\n",
       "      <td>2016-01-15 02:00:00</td>\n",
       "      <td>6.055926</td>\n",
       "      <td>10.213995</td>\n",
       "      <td>5.383759</td>\n",
       "      <td>42.657501</td>\n",
       "      <td>68.116445</td>\n",
       "      <td>10.507046</td>\n",
       "      <td>0.953716</td>\n",
       "      <td>16.208849</td>\n",
       "      <td>2.257889</td>\n",
       "      <td>...</td>\n",
       "      <td>14.015015</td>\n",
       "      <td>-502.520901</td>\n",
       "      <td>11.912783</td>\n",
       "      <td>-501.133383</td>\n",
       "      <td>10.070913</td>\n",
       "      <td>-500.129135</td>\n",
       "      <td>8.013877</td>\n",
       "      <td>-500.517572</td>\n",
       "      <td>14.028663</td>\n",
       "      <td>-601.427363</td>\n",
       "    </tr>\n",
       "    <tr>\n",
       "      <td>3</td>\n",
       "      <td>2016-01-15 03:00:00</td>\n",
       "      <td>6.047977</td>\n",
       "      <td>9.977019</td>\n",
       "      <td>4.858634</td>\n",
       "      <td>42.689819</td>\n",
       "      <td>68.347543</td>\n",
       "      <td>10.422762</td>\n",
       "      <td>0.883763</td>\n",
       "      <td>16.532835</td>\n",
       "      <td>2.146849</td>\n",
       "      <td>...</td>\n",
       "      <td>14.036510</td>\n",
       "      <td>-500.857308</td>\n",
       "      <td>11.999550</td>\n",
       "      <td>-501.193686</td>\n",
       "      <td>9.970366</td>\n",
       "      <td>-499.201640</td>\n",
       "      <td>7.977324</td>\n",
       "      <td>-500.255908</td>\n",
       "      <td>14.005551</td>\n",
       "      <td>-599.996129</td>\n",
       "    </tr>\n",
       "    <tr>\n",
       "      <td>4</td>\n",
       "      <td>2016-01-15 04:00:00</td>\n",
       "      <td>6.148599</td>\n",
       "      <td>10.142511</td>\n",
       "      <td>4.939416</td>\n",
       "      <td>42.774141</td>\n",
       "      <td>66.927016</td>\n",
       "      <td>10.360302</td>\n",
       "      <td>0.792826</td>\n",
       "      <td>16.525686</td>\n",
       "      <td>2.055292</td>\n",
       "      <td>...</td>\n",
       "      <td>14.027298</td>\n",
       "      <td>-499.838632</td>\n",
       "      <td>11.953070</td>\n",
       "      <td>-501.053894</td>\n",
       "      <td>9.925709</td>\n",
       "      <td>-501.686727</td>\n",
       "      <td>7.894242</td>\n",
       "      <td>-500.356035</td>\n",
       "      <td>13.996647</td>\n",
       "      <td>-601.496691</td>\n",
       "    </tr>\n",
       "  </tbody>\n",
       "</table>\n",
       "<p>5 rows × 87 columns</p>\n",
       "</div>"
      ],
      "text/plain": [
       "                  date  final.output.concentrate_ag  \\\n",
       "0  2016-01-15 00:00:00                     6.055403   \n",
       "1  2016-01-15 01:00:00                     6.029369   \n",
       "2  2016-01-15 02:00:00                     6.055926   \n",
       "3  2016-01-15 03:00:00                     6.047977   \n",
       "4  2016-01-15 04:00:00                     6.148599   \n",
       "\n",
       "   final.output.concentrate_pb  final.output.concentrate_sol  \\\n",
       "0                     9.889648                      5.507324   \n",
       "1                     9.968944                      5.257781   \n",
       "2                    10.213995                      5.383759   \n",
       "3                     9.977019                      4.858634   \n",
       "4                    10.142511                      4.939416   \n",
       "\n",
       "   final.output.concentrate_au  final.output.recovery  final.output.tail_ag  \\\n",
       "0                    42.192020              70.541216             10.411962   \n",
       "1                    42.701629              69.266198             10.462676   \n",
       "2                    42.657501              68.116445             10.507046   \n",
       "3                    42.689819              68.347543             10.422762   \n",
       "4                    42.774141              66.927016             10.360302   \n",
       "\n",
       "   final.output.tail_pb  final.output.tail_sol  final.output.tail_au  ...  \\\n",
       "0              0.895447              16.904297              2.143149  ...   \n",
       "1              0.927452              16.634514              2.224930  ...   \n",
       "2              0.953716              16.208849              2.257889  ...   \n",
       "3              0.883763              16.532835              2.146849  ...   \n",
       "4              0.792826              16.525686              2.055292  ...   \n",
       "\n",
       "   secondary_cleaner.state.floatbank4_a_air  \\\n",
       "0                                 14.016835   \n",
       "1                                 13.992281   \n",
       "2                                 14.015015   \n",
       "3                                 14.036510   \n",
       "4                                 14.027298   \n",
       "\n",
       "   secondary_cleaner.state.floatbank4_a_level  \\\n",
       "0                                 -502.488007   \n",
       "1                                 -505.503262   \n",
       "2                                 -502.520901   \n",
       "3                                 -500.857308   \n",
       "4                                 -499.838632   \n",
       "\n",
       "   secondary_cleaner.state.floatbank4_b_air  \\\n",
       "0                                 12.099931   \n",
       "1                                 11.950531   \n",
       "2                                 11.912783   \n",
       "3                                 11.999550   \n",
       "4                                 11.953070   \n",
       "\n",
       "   secondary_cleaner.state.floatbank4_b_level  \\\n",
       "0                                 -504.715942   \n",
       "1                                 -501.331529   \n",
       "2                                 -501.133383   \n",
       "3                                 -501.193686   \n",
       "4                                 -501.053894   \n",
       "\n",
       "   secondary_cleaner.state.floatbank5_a_air  \\\n",
       "0                                  9.925633   \n",
       "1                                 10.039245   \n",
       "2                                 10.070913   \n",
       "3                                  9.970366   \n",
       "4                                  9.925709   \n",
       "\n",
       "   secondary_cleaner.state.floatbank5_a_level  \\\n",
       "0                                 -498.310211   \n",
       "1                                 -500.169983   \n",
       "2                                 -500.129135   \n",
       "3                                 -499.201640   \n",
       "4                                 -501.686727   \n",
       "\n",
       "   secondary_cleaner.state.floatbank5_b_air  \\\n",
       "0                                  8.079666   \n",
       "1                                  7.984757   \n",
       "2                                  8.013877   \n",
       "3                                  7.977324   \n",
       "4                                  7.894242   \n",
       "\n",
       "   secondary_cleaner.state.floatbank5_b_level  \\\n",
       "0                                 -500.470978   \n",
       "1                                 -500.582168   \n",
       "2                                 -500.517572   \n",
       "3                                 -500.255908   \n",
       "4                                 -500.356035   \n",
       "\n",
       "   secondary_cleaner.state.floatbank6_a_air  \\\n",
       "0                                 14.151341   \n",
       "1                                 13.998353   \n",
       "2                                 14.028663   \n",
       "3                                 14.005551   \n",
       "4                                 13.996647   \n",
       "\n",
       "   secondary_cleaner.state.floatbank6_a_level  \n",
       "0                                 -605.841980  \n",
       "1                                 -599.787184  \n",
       "2                                 -601.427363  \n",
       "3                                 -599.996129  \n",
       "4                                 -601.496691  \n",
       "\n",
       "[5 rows x 87 columns]"
      ]
     },
     "execution_count": 7,
     "metadata": {},
     "output_type": "execute_result"
    }
   ],
   "source": [
    "gold_recovery_train.head(5)"
   ]
  },
  {
   "cell_type": "code",
   "execution_count": 8,
   "metadata": {},
   "outputs": [
    {
     "name": "stdout",
     "output_type": "stream",
     "text": [
      "0        87.107763\n",
      "1        86.843261\n",
      "2        86.842308\n",
      "3        87.226430\n",
      "4        86.688794\n",
      "           ...    \n",
      "14144    89.574376\n",
      "14145    87.724007\n",
      "14146    88.890579\n",
      "14147    89.858126\n",
      "14148    89.514960\n",
      "Length: 14149, dtype: float64\n"
     ]
    }
   ],
   "source": [
    "F = gold_recovery_train['rougher.input.feed_au']\n",
    "C = gold_recovery_train['rougher.output.concentrate_au']\n",
    "T = gold_recovery_train['rougher.output.tail_au']\n",
    "recovery = C*(F - T)/(F*(C-T)) * 100\n",
    "print(recovery)"
   ]
  },
  {
   "cell_type": "markdown",
   "metadata": {},
   "source": [
    "Посчитаем значением метрики *MAE*"
   ]
  },
  {
   "cell_type": "code",
   "execution_count": 9,
   "metadata": {},
   "outputs": [
    {
     "name": "stdout",
     "output_type": "stream",
     "text": [
      "9.682896147825551e-15\n"
     ]
    }
   ],
   "source": [
    "print(mean_absolute_error(gold_recovery_train['rougher.output.recovery'],recovery))"
   ]
  },
  {
   "cell_type": "markdown",
   "metadata": {},
   "source": [
    "**Вывод** : Для большого количества данных (14+ тысяч строк) это достаточно маленькое значение, значит мы посчитали эффективность обогащения правильно."
   ]
  },
  {
   "cell_type": "markdown",
   "metadata": {},
   "source": [
    "* data  - дата и время получения информации\n",
    "\n",
    "\n",
    "* final.output.concentrate_ag                -           финальный концентрат Argentum-Серебро\n",
    "* final.output.concentrate_pb                -           финальный концентрат Plumbum-Свинец\n",
    "* final.output.concentrate_sol               -           финальный концентрат Solids-Твердых веществ\n",
    "* final.output.concentrate_au                -           финальный концентрат Aurum-Золото\n",
    "\n",
    "\n",
    "* final.output.recovery                      -           эффективность обогащения финального концентрата\n",
    "* final.output.tail_ag                       -           отвальные хвосты Серебра на финальном этапе\n",
    "* final.output.tail_pb                       -           отвальные хвосты Свинца на финальном этапе\n",
    "* final.output.tail_sol                      -           отвальные хвосты Твердых веществ на финальном этапе\n",
    "* final.output.tail_au                       -           отвальные хвосты Золота на финальном этапе\n",
    "\n",
    "\n",
    "* primary_cleaner.input.sulfate              -           первичная очистка. объем реагента Сульфата\n",
    "* primary_cleaner.input.depressant           -           первичная очистка. объем реагента-депрессанта \n",
    "* primary_cleaner.input.feed_size            -           первичная очистка. размер гранул сырья \n",
    "* primary_cleaner.input.xanthate             -           первичная очистка. объем ксантогената \n",
    "\n",
    "\n",
    "* primary_cleaner.output.concentrate_ag      -           первичная очистка. концентрат Серебра на выходе\n",
    "* primary_cleaner.output.concentrate_pb      -           первичная очистка. концентрат Свинца на выходе\n",
    "* primary_cleaner.output.concentrate_sol     -           первичная очистка. концентрат Твердых веществ на выходе\n",
    "* primary_cleaner.output.concentrate_au      -           первичная очистка. концентрат Золота на выходе\n",
    "\n",
    "\n",
    "* primary_cleaner.output.tail_ag             -           первичная очистка. отвальные хвосты Серебра на выходе\n",
    "* primary_cleaner.output.tail_pb             -           первичная очистка. отвальные хвосты Свинца на выходе\n",
    "* primary_cleaner.output.tail_sol            -           первичная очистка. отвальные хвосты Твердых веществ на выходе\n",
    "* primary_cleaner.output.tail_au             -           первичная очистка. отвальные хвосты Золота на выходе\n",
    "\n",
    "\n",
    "* primary_cleaner.state.floatbank8_a_air     -           первичная очистка. объем воздуха в 8_a флотационной установке \n",
    "* primary_cleaner.state.floatbank8_a_level   -           первичная очистка. уровень жидкости в 8_a флотационной установке               \n",
    "* primary_cleaner.state.floatbank8_b_air     -           первичная очистка. объем воздуха в 8_b флотационной установке \n",
    "* primary_cleaner.state.floatbank8_b_level   -           **\n",
    "* primary_cleaner.state.floatbank8_c_air     -           **\n",
    "* primary_cleaner.state.floatbank8_c_level   -           **\n",
    "* primary_cleaner.state.floatbank8_d_air     -           **\n",
    "* primary_cleaner.state.floatbank8_d_level   -           **\n",
    "\n",
    "\n",
    "* rougher.calculation.sulfate_to_au_concentrate         - флотация. расчетные хар-ки.концентрация реагента сульфата к золоту\n",
    "* rougher.calculation.floatbank10_sulfate_to_au_feed    - флотация. расчетные хар-ки.подача реагента сульфата к золоту в 10 флотационной установке\n",
    "* rougher.calculation.floatbank11_sulfate_to_au_feed    - флотация. расчетные хар-ки.подача реагента сульфата к золоту в 11 флотационной установке\n",
    "* rougher.calculation.au_pb_ratio                       - флотация. расчетные хар-ки.соотношение золота к свинцу\n",
    "\n",
    "\n",
    "* rougher.input.feed_ag            - флотация. подача серебра                     \n",
    "* rougher.input.feed_pb            - флотация. подача свинца                   \n",
    "* rougher.input.feed_rate          - флотация. скорость подачи                     \n",
    "* rougher.input.feed_size          - флотация. размер гранул сырья                    \n",
    "* rougher.input.feed_sol           - флотация. подача твердых веществ                     \n",
    "* rougher.input.feed_au            - флотация. подача золота  \n",
    "\n",
    "\n",
    "* rougher.input.floatbank10_sulfate        - флотация. подача реагента сульфата в 10 флотационную установку             \n",
    "* rougher.input.floatbank10_xanthate       - флотация. подача реагента ксантогената в 10 флотационную установку        \n",
    "* rougher.input.floatbank11_sulfate        - флотация. подача реагента сульфата в 11 флотационную установку             \n",
    "* rougher.input.floatbank11_xanthate       - флотация. подача реагента ксантогената в 11 флотационную установку   \n",
    "\n",
    "\n",
    "* rougher.output.concentrate_ag            - флотация. исходящая концетрация серебра               \n",
    "* rougher.output.concentrate_pb               ***   свинца            \n",
    "* rougher.output.concentrate_sol              ***   твердых веществ        \n",
    "* rougher.output.concentrate_au               ***   золота\n",
    "\n",
    "\n",
    "* rougher.output.recovery                  - эффективность обогащения чернового концентрата             \n",
    "* rougher.output.tail_ag                   - флотация. отвальные хвосты серебра              \n",
    "* rougher.output.tail_pb                   - флотация. отвальные хвосты свинца                \n",
    "* rougher.output.tail_sol                  - флотация. отвальные хвосты твердых веществ                  \n",
    "* rougher.output.tail_au                   - флотация. отвальные хвосты золота  \n",
    "\n",
    "\n",
    "* rougher.state.floatbank10_a_air          - флотация. объем вохдуха в 10_a флотационной установке             \n",
    "* rougher.state.floatbank10_a_level        - флотация. уровень жидкости в 10_a флотационной установке              \n",
    "* rougher.state.floatbank10_b_air                       \n",
    "* rougher.state.floatbank10_b_level                     \n",
    "* rougher.state.floatbank10_c_air                       \n",
    "* rougher.state.floatbank10_c_level                     \n",
    "* rougher.state.floatbank10_d_air                       \n",
    "* rougher.state.floatbank10_d_level                     \n",
    "* rougher.state.floatbank10_e_air                       \n",
    "* rougher.state.floatbank10_e_level                    \n",
    "* rougher.state.floatbank10_f_air                       \n",
    "* rougher.state.floatbank10_f_level                     \n",
    "\n",
    "\n",
    "* secondary_cleaner.output.tail_ag        - вторичная очистка. отвальные хвосты серебра             \n",
    "* secondary_cleaner.output.tail_pb        - вторичная очистка. отвальные хвосты свинца             \n",
    "* secondary_cleaner.output.tail_sol       - вторичная очистка. отвальные хвосты твердых веществ              \n",
    "* secondary_cleaner.output.tail_au        - вторичная очистка. отвальные хвосты золота\n",
    "\n",
    "\n",
    "* secondary_cleaner.state.floatbank2_a_air        - вторичная очистка. объем воздуха в 2_a флотационной установке \n",
    "* secondary_cleaner.state.floatbank2_a_level            \n",
    "* secondary_cleaner.state.floatbank2_b_air              \n",
    "* secondary_cleaner.state.floatbank2_b_level            \n",
    "* secondary_cleaner.state.floatbank3_a_air             \n",
    "* secondary_cleaner.state.floatbank3_a_level            \n",
    "* secondary_cleaner.state.floatbank3_b_air              \n",
    "* secondary_cleaner.state.floatbank3_b_level            \n",
    "* secondary_cleaner.state.floatbank4_a_air              \n",
    "* secondary_cleaner.state.floatbank4_a_level            \n",
    "* secondary_cleaner.state.floatbank4_b_air              \n",
    "* secondary_cleaner.state.floatbank4_b_level            \n",
    "* secondary_cleaner.state.floatbank5_a_air              \n",
    "* secondary_cleaner.state.floatbank5_a_level            \n",
    "* secondary_cleaner.state.floatbank5_b_air              \n",
    "* secondary_cleaner.state.floatbank5_b_level            \n",
    "* secondary_cleaner.state.floatbank6_a_air              \n",
    "* secondary_cleaner.state.floatbank6_a_level  "
   ]
  },
  {
   "cell_type": "markdown",
   "metadata": {},
   "source": [
    " В тестовой выборке отсутствуют некоторые признаки (например **secondary_cleaner.output.tail_ag**,   **secondary_cleaner.output.tail_pb**,   **secondary_cleaner.output.tail_sol**,   **secondary_cleaner.output.tail_au**), которые могут быть в обучающей выборке из-за того, что некоторые параметры замеряются и/или рассчитыыаются значительно позже. Также в тестовом наборе нет целевых признаков."
   ]
  },
  {
   "cell_type": "markdown",
   "metadata": {},
   "source": [
    "## Анализ данных"
   ]
  },
  {
   "cell_type": "markdown",
   "metadata": {},
   "source": [
    "Для анализа зависимостей, как менялась концентрация того или иного металла, построим три таблицы для каждого металла."
   ]
  },
  {
   "cell_type": "code",
   "execution_count": 10,
   "metadata": {},
   "outputs": [
    {
     "name": "stdout",
     "output_type": "stream",
     "text": [
      "0    42.192020\n",
      "1    42.701629\n",
      "2    42.657501\n",
      "3    42.689819\n",
      "4    42.774141\n",
      "Name: final.output.concentrate_au, dtype: float64\n",
      "0    34.174427\n",
      "1    34.118526\n",
      "2    33.969464\n",
      "3    28.260743\n",
      "4    33.044932\n",
      "Name: primary_cleaner.output.concentrate_au, dtype: float64\n",
      "0    19.793808\n",
      "1    20.050975\n",
      "2    19.737170\n",
      "3    19.320810\n",
      "4    19.216101\n",
      "Name: rougher.output.concentrate_au, dtype: float64\n"
     ]
    }
   ],
   "source": [
    "Au_final  = gold_recovery_train['final.output.concentrate_au']\n",
    "Au_primary = gold_recovery_train['primary_cleaner.output.concentrate_au']\n",
    "Au_rougher = gold_recovery_train['rougher.output.concentrate_au']\n",
    "#Au = gold_recovery_full['final.output.concentrate_au'\n",
    "\n",
    "print(Au_final.head(5))\n",
    "print(Au_primary.head(5))\n",
    "print(Au_rougher.head(5))\n"
   ]
  },
  {
   "cell_type": "code",
   "execution_count": 11,
   "metadata": {},
   "outputs": [
    {
     "name": "stdout",
     "output_type": "stream",
     "text": [
      "0    6.055403\n",
      "1    6.029369\n",
      "2    6.055926\n",
      "3    6.047977\n",
      "4    6.148599\n",
      "Name: final.output.concentrate_ag, dtype: float64\n",
      "0    8.547551\n",
      "1    8.558743\n",
      "2    8.603505\n",
      "3    7.221879\n",
      "4    9.089428\n",
      "Name: primary_cleaner.output.concentrate_ag, dtype: float64\n",
      "0    11.500771\n",
      "1    11.615865\n",
      "2    11.695753\n",
      "3    11.915047\n",
      "4    12.411054\n",
      "Name: rougher.output.concentrate_ag, dtype: float64\n"
     ]
    }
   ],
   "source": [
    "Ag_final  = gold_recovery_train['final.output.concentrate_ag']\n",
    "Ag_primary = gold_recovery_train['primary_cleaner.output.concentrate_ag']\n",
    "Ag_rougher = gold_recovery_train['rougher.output.concentrate_ag']\n",
    "\n",
    "print(Ag_final.head(5))\n",
    "print(Ag_primary.head(5))\n",
    "print(Ag_rougher.head(5))"
   ]
  },
  {
   "cell_type": "code",
   "execution_count": 12,
   "metadata": {},
   "outputs": [
    {
     "name": "stdout",
     "output_type": "stream",
     "text": [
      "0     9.889648\n",
      "1     9.968944\n",
      "2    10.213995\n",
      "3     9.977019\n",
      "4    10.142511\n",
      "Name: final.output.concentrate_pb, dtype: float64\n",
      "0    10.389648\n",
      "1    10.497069\n",
      "2    10.354494\n",
      "3     8.496563\n",
      "4     9.986786\n",
      "Name: primary_cleaner.output.concentrate_pb, dtype: float64\n",
      "0    7.101074\n",
      "1    7.278807\n",
      "2    7.216833\n",
      "3    7.175616\n",
      "4    7.240205\n",
      "Name: rougher.output.concentrate_pb, dtype: float64\n"
     ]
    }
   ],
   "source": [
    "Pb_final  = gold_recovery_train['final.output.concentrate_pb']\n",
    "Pb_primary = gold_recovery_train['primary_cleaner.output.concentrate_pb']\n",
    "Pb_rougher = gold_recovery_train['rougher.output.concentrate_pb']\n",
    "\n",
    "print(Pb_final.head(5))\n",
    "print(Pb_primary.head(5))\n",
    "print(Pb_rougher.head(5))"
   ]
  },
  {
   "cell_type": "markdown",
   "metadata": {},
   "source": [
    "Построим по 3 графика для каждого металла"
   ]
  },
  {
   "cell_type": "code",
   "execution_count": 13,
   "metadata": {},
   "outputs": [
    {
     "data": {
      "text/plain": [
       "<matplotlib.axes._subplots.AxesSubplot at 0x7f29e3f51050>"
      ]
     },
     "execution_count": 13,
     "metadata": {},
     "output_type": "execute_result"
    },
    {
     "data": {
      "image/png": "[encoded data removed]",
      "text/plain": [
       "<Figure size 432x288 with 1 Axes>"
      ]
     },
     "metadata": {
      "needs_background": "light"
     },
     "output_type": "display_data"
    }
   ],
   "source": [
    "plt.title(\"Гистограмма распределения золота до обработки\")\n",
    "plt.ylabel('Количество записей в таблице')\n",
    "sns.distplot(Au_primary ,axlabel  = 'Значения в таблице',color = 'Red',kde = False, bins = 100)\n",
    "sns.distplot(Au_rougher ,axlabel  = 'Значения в таблице',color = 'Green',kde = False, bins = 100)\n",
    "sns.distplot(Au_final ,axlabel  = 'Значения в таблице',color = 'Blue',kde = False, bins = 100)"
   ]
  },
  {
   "cell_type": "code",
   "execution_count": 14,
   "metadata": {},
   "outputs": [
    {
     "data": {
      "text/plain": [
       "<matplotlib.axes._subplots.AxesSubplot at 0x7f29e4523fd0>"
      ]
     },
     "execution_count": 14,
     "metadata": {},
     "output_type": "execute_result"
    },
    {
     "data": {
      "image/png": "[encoded data removed]",
      "text/plain": [
       "<Figure size 432x288 with 1 Axes>"
      ]
     },
     "metadata": {
      "needs_background": "light"
     },
     "output_type": "display_data"
    }
   ],
   "source": [
    "plt.title(\"Гистограмма распределения серебра до обработки\")\n",
    "plt.ylabel('Количество записей в таблице')\n",
    "sns.distplot(Ag_primary ,axlabel  = 'Значения в таблице',color = 'Red',kde = False, bins = 100)\n",
    "sns.distplot(Ag_rougher ,axlabel  = 'Значения в таблице',color = 'Green',kde = False, bins = 100)\n",
    "sns.distplot(Ag_final ,axlabel  = 'Значения в таблице',color = 'Blue',kde = False, bins = 100)"
   ]
  },
  {
   "cell_type": "code",
   "execution_count": 15,
   "metadata": {},
   "outputs": [
    {
     "data": {
      "text/plain": [
       "<matplotlib.axes._subplots.AxesSubplot at 0x7f29da703290>"
      ]
     },
     "execution_count": 15,
     "metadata": {},
     "output_type": "execute_result"
    },
    {
     "data": {
      "image/png": "[encoded data removed]",
      "text/plain": [
       "<Figure size 432x288 with 1 Axes>"
      ]
     },
     "metadata": {
      "needs_background": "light"
     },
     "output_type": "display_data"
    }
   ],
   "source": [
    "plt.title(\"Гистограмма распределения свинца до обработки\")\n",
    "plt.ylabel('Количество записей в таблице')\n",
    "sns.distplot(Pb_primary ,axlabel  = 'Значения в таблице',color = 'Red',kde = False, bins = 100)\n",
    "sns.distplot(Pb_rougher ,axlabel  = 'Значения в таблице',color = 'Green',kde = False, bins = 100)\n",
    "sns.distplot(Pb_final ,axlabel  = 'Значения в таблице',color = 'Blue',kde = False, bins = 100)"
   ]
  },
  {
   "cell_type": "markdown",
   "metadata": {},
   "source": [
    "**Вывод** : У свинца набор данных менее инертный, чем у остальных металлов. Распределения меняются достаточно слабо. Значения у золота меняются сильнее остальных металлов."
   ]
  },
  {
   "cell_type": "markdown",
   "metadata": {},
   "source": [
    "### Сравним распределения размеров гранул сырья на обучающей и тестовой выборках. "
   ]
  },
  {
   "cell_type": "code",
   "execution_count": 16,
   "metadata": {},
   "outputs": [
    {
     "data": {
      "text/plain": [
       "<matplotlib.axes._subplots.AxesSubplot at 0x7f29da3c18d0>"
      ]
     },
     "execution_count": 16,
     "metadata": {},
     "output_type": "execute_result"
    },
    {
     "data": {
      "image/png": "[encoded data removed]",
      "text/plain": [
       "<Figure size 432x288 with 1 Axes>"
      ]
     },
     "metadata": {
      "needs_background": "light"
     },
     "output_type": "display_data"
    }
   ],
   "source": [
    "primary_feed_test = gold_recovery_test['primary_cleaner.input.feed_size']\n",
    "rougher_feed_test = gold_recovery_test['rougher.input.feed_size']\n",
    "primary_feed_train = gold_recovery_train['primary_cleaner.input.feed_size']\n",
    "rougher_feed_train = gold_recovery_train['rougher.input.feed_size']\n",
    "\n",
    "\n",
    "plt.title(\"Гистограмма сравнения размер гранул в первичной очистке\")\n",
    "plt.ylabel('Количество записей в таблице')\n",
    "sns.distplot(primary_feed_test ,axlabel  = 'Значения в таблице',color = 'Red',kde = False, bins = 100)\n",
    "sns.distplot(primary_feed_train, axlabel  = 'Значения в таблице',color = 'Green',kde = False, bins = 100)"
   ]
  },
  {
   "cell_type": "code",
   "execution_count": 17,
   "metadata": {},
   "outputs": [
    {
     "data": {
      "text/plain": [
       "<matplotlib.axes._subplots.AxesSubplot at 0x7f29da048150>"
      ]
     },
     "execution_count": 17,
     "metadata": {},
     "output_type": "execute_result"
    },
    {
     "data": {
      "image/png": "[encoded data removed]",
      "text/plain": [
       "<Figure size 432x288 with 1 Axes>"
      ]
     },
     "metadata": {
      "needs_background": "light"
     },
     "output_type": "display_data"
    }
   ],
   "source": [
    "plt.title(\"Гистограмма сравнения размер гранул во флотации\")\n",
    "plt.ylabel('Количество записей в таблице')\n",
    "sns.distplot(rougher_feed_test ,axlabel  = 'Значения в таблице',color = 'Red',kde = False, bins = 100)\n",
    "sns.distplot(rougher_feed_train, axlabel  = 'Значения в таблице',color = 'Green',kde = False, bins = 100)"
   ]
  },
  {
   "cell_type": "markdown",
   "metadata": {},
   "source": [
    "**Вывод по обоим графикам** : значения на обоих графиках в обучающей выборке распределены с меньшей плотностью и б*о*льшей частотой. Больше повторяющихся значений."
   ]
  },
  {
   "cell_type": "markdown",
   "metadata": {},
   "source": [
    "### Исследуем суммарную концентрацию всех веществ на разных стадиях"
   ]
  },
  {
   "cell_type": "code",
   "execution_count": 18,
   "metadata": {},
   "outputs": [],
   "source": [
    "Total_rougher_metalls = gold_recovery_full['rougher.output.concentrate_au']+gold_recovery_full['rougher.output.concentrate_ag']+gold_recovery_full['rougher.output.concentrate_pb']\n",
    "Total_primary_metalls = gold_recovery_full['primary_cleaner.output.concentrate_au']+gold_recovery_full['primary_cleaner.output.concentrate_ag']+gold_recovery_full['primary_cleaner.output.concentrate_pb']\n",
    "Total_final_metalls = gold_recovery_full['final.output.concentrate_au']+gold_recovery_full['final.output.concentrate_ag']+gold_recovery_full['final.output.concentrate_pb']"
   ]
  },
  {
   "cell_type": "code",
   "execution_count": 19,
   "metadata": {},
   "outputs": [
    {
     "data": {
      "text/plain": [
       "<matplotlib.axes._subplots.AxesSubplot at 0x7f29da089e50>"
      ]
     },
     "execution_count": 19,
     "metadata": {},
     "output_type": "execute_result"
    },
    {
     "data": {
      "image/png": "[encoded data removed]",
      "text/plain": [
       "<Figure size 432x288 with 1 Axes>"
      ]
     },
     "metadata": {
      "needs_background": "light"
     },
     "output_type": "display_data"
    }
   ],
   "source": [
    "plt.title(\"Гистограмма cравнения суммарных концентраций всех веществ на разных стадиях\")\n",
    "plt.ylabel('Количество записей в таблице')\n",
    "sns.distplot(Total_rougher_metalls ,axlabel  = 'Значения в таблице',color = 'Red',kde = False, bins = 100)\n",
    "sns.distplot(Total_primary_metalls, axlabel  = 'Значения в таблице',color = 'Green',kde = False, bins = 100)\n",
    "sns.distplot(Total_final_metalls, axlabel  = 'Значения в таблице',color = 'Blue',kde = False, bins = 100)"
   ]
  },
  {
   "cell_type": "markdown",
   "metadata": {},
   "source": [
    "**Вывод** : Наименее концентрировано в руде сумма всех необработанных металлов, наиболее сильно распределены металлы после финальной обработки, имея множество высоких значений (в районе 60)."
   ]
  },
  {
   "cell_type": "markdown",
   "metadata": {},
   "source": [
    "### Исследуем данные на аномалии"
   ]
  },
  {
   "cell_type": "markdown",
   "metadata": {},
   "source": [
    "Из вышестоящих графиков наблюдаются очевидные аномалии в виде нулевых значений. Удапим их для таблицы - они будут мешать работе модели в будущем."
   ]
  },
  {
   "cell_type": "code",
   "execution_count": 20,
   "metadata": {},
   "outputs": [],
   "source": [
    "gold_recovery_train = gold_recovery_train.ffill()"
   ]
  },
  {
   "cell_type": "markdown",
   "metadata": {},
   "source": [
    "Проверим отсутствие NAN-ов в датасете"
   ]
  },
  {
   "cell_type": "code",
   "execution_count": 21,
   "metadata": {},
   "outputs": [
    {
     "data": {
      "text/plain": [
       "date                                          0\n",
       "final.output.concentrate_ag                   0\n",
       "final.output.concentrate_pb                   0\n",
       "final.output.concentrate_sol                  0\n",
       "final.output.concentrate_au                   0\n",
       "                                             ..\n",
       "secondary_cleaner.state.floatbank5_a_level    0\n",
       "secondary_cleaner.state.floatbank5_b_air      0\n",
       "secondary_cleaner.state.floatbank5_b_level    0\n",
       "secondary_cleaner.state.floatbank6_a_air      0\n",
       "secondary_cleaner.state.floatbank6_a_level    0\n",
       "Length: 87, dtype: int64"
      ]
     },
     "execution_count": 21,
     "metadata": {},
     "output_type": "execute_result"
    }
   ],
   "source": [
    "gold_recovery_train.isnull().sum()"
   ]
  },
  {
   "cell_type": "code",
   "execution_count": 22,
   "metadata": {},
   "outputs": [
    {
     "name": "stdout",
     "output_type": "stream",
     "text": [
      "<class 'pandas.core.frame.DataFrame'>\n",
      "RangeIndex: 14149 entries, 0 to 14148\n",
      "Data columns (total 87 columns):\n",
      "date                                                  14149 non-null object\n",
      "final.output.concentrate_ag                           14149 non-null float64\n",
      "final.output.concentrate_pb                           14149 non-null float64\n",
      "final.output.concentrate_sol                          14149 non-null float64\n",
      "final.output.concentrate_au                           14149 non-null float64\n",
      "final.output.recovery                                 14149 non-null float64\n",
      "final.output.tail_ag                                  14149 non-null float64\n",
      "final.output.tail_pb                                  14149 non-null float64\n",
      "final.output.tail_sol                                 14149 non-null float64\n",
      "final.output.tail_au                                  14149 non-null float64\n",
      "primary_cleaner.input.sulfate                         14149 non-null float64\n",
      "primary_cleaner.input.depressant                      14149 non-null float64\n",
      "primary_cleaner.input.feed_size                       14149 non-null float64\n",
      "primary_cleaner.input.xanthate                        14149 non-null float64\n",
      "primary_cleaner.output.concentrate_ag                 14149 non-null float64\n",
      "primary_cleaner.output.concentrate_pb                 14149 non-null float64\n",
      "primary_cleaner.output.concentrate_sol                14149 non-null float64\n",
      "primary_cleaner.output.concentrate_au                 14149 non-null float64\n",
      "primary_cleaner.output.tail_ag                        14149 non-null float64\n",
      "primary_cleaner.output.tail_pb                        14149 non-null float64\n",
      "primary_cleaner.output.tail_sol                       14149 non-null float64\n",
      "primary_cleaner.output.tail_au                        14149 non-null float64\n",
      "primary_cleaner.state.floatbank8_a_air                14149 non-null float64\n",
      "primary_cleaner.state.floatbank8_a_level              14149 non-null float64\n",
      "primary_cleaner.state.floatbank8_b_air                14149 non-null float64\n",
      "primary_cleaner.state.floatbank8_b_level              14149 non-null float64\n",
      "primary_cleaner.state.floatbank8_c_air                14149 non-null float64\n",
      "primary_cleaner.state.floatbank8_c_level              14149 non-null float64\n",
      "primary_cleaner.state.floatbank8_d_air                14149 non-null float64\n",
      "primary_cleaner.state.floatbank8_d_level              14149 non-null float64\n",
      "rougher.calculation.sulfate_to_au_concentrate         14149 non-null float64\n",
      "rougher.calculation.floatbank10_sulfate_to_au_feed    14149 non-null float64\n",
      "rougher.calculation.floatbank11_sulfate_to_au_feed    14149 non-null float64\n",
      "rougher.calculation.au_pb_ratio                       14149 non-null float64\n",
      "rougher.input.feed_ag                                 14149 non-null float64\n",
      "rougher.input.feed_pb                                 14149 non-null float64\n",
      "rougher.input.feed_rate                               14149 non-null float64\n",
      "rougher.input.feed_size                               14149 non-null float64\n",
      "rougher.input.feed_sol                                14149 non-null float64\n",
      "rougher.input.feed_au                                 14149 non-null float64\n",
      "rougher.input.floatbank10_sulfate                     14149 non-null float64\n",
      "rougher.input.floatbank10_xanthate                    14149 non-null float64\n",
      "rougher.input.floatbank11_sulfate                     14149 non-null float64\n",
      "rougher.input.floatbank11_xanthate                    14149 non-null float64\n",
      "rougher.output.concentrate_ag                         14149 non-null float64\n",
      "rougher.output.concentrate_pb                         14149 non-null float64\n",
      "rougher.output.concentrate_sol                        14149 non-null float64\n",
      "rougher.output.concentrate_au                         14149 non-null float64\n",
      "rougher.output.recovery                               14149 non-null float64\n",
      "rougher.output.tail_ag                                14149 non-null float64\n",
      "rougher.output.tail_pb                                14149 non-null float64\n",
      "rougher.output.tail_sol                               14149 non-null float64\n",
      "rougher.output.tail_au                                14149 non-null float64\n",
      "rougher.state.floatbank10_a_air                       14149 non-null float64\n",
      "rougher.state.floatbank10_a_level                     14149 non-null float64\n",
      "rougher.state.floatbank10_b_air                       14149 non-null float64\n",
      "rougher.state.floatbank10_b_level                     14149 non-null float64\n",
      "rougher.state.floatbank10_c_air                       14149 non-null float64\n",
      "rougher.state.floatbank10_c_level                     14149 non-null float64\n",
      "rougher.state.floatbank10_d_air                       14149 non-null float64\n",
      "rougher.state.floatbank10_d_level                     14149 non-null float64\n",
      "rougher.state.floatbank10_e_air                       14149 non-null float64\n",
      "rougher.state.floatbank10_e_level                     14149 non-null float64\n",
      "rougher.state.floatbank10_f_air                       14149 non-null float64\n",
      "rougher.state.floatbank10_f_level                     14149 non-null float64\n",
      "secondary_cleaner.output.tail_ag                      14149 non-null float64\n",
      "secondary_cleaner.output.tail_pb                      14149 non-null float64\n",
      "secondary_cleaner.output.tail_sol                     14149 non-null float64\n",
      "secondary_cleaner.output.tail_au                      14149 non-null float64\n",
      "secondary_cleaner.state.floatbank2_a_air              14149 non-null float64\n",
      "secondary_cleaner.state.floatbank2_a_level            14149 non-null float64\n",
      "secondary_cleaner.state.floatbank2_b_air              14149 non-null float64\n",
      "secondary_cleaner.state.floatbank2_b_level            14149 non-null float64\n",
      "secondary_cleaner.state.floatbank3_a_air              14149 non-null float64\n",
      "secondary_cleaner.state.floatbank3_a_level            14149 non-null float64\n",
      "secondary_cleaner.state.floatbank3_b_air              14149 non-null float64\n",
      "secondary_cleaner.state.floatbank3_b_level            14149 non-null float64\n",
      "secondary_cleaner.state.floatbank4_a_air              14149 non-null float64\n",
      "secondary_cleaner.state.floatbank4_a_level            14149 non-null float64\n",
      "secondary_cleaner.state.floatbank4_b_air              14149 non-null float64\n",
      "secondary_cleaner.state.floatbank4_b_level            14149 non-null float64\n",
      "secondary_cleaner.state.floatbank5_a_air              14149 non-null float64\n",
      "secondary_cleaner.state.floatbank5_a_level            14149 non-null float64\n",
      "secondary_cleaner.state.floatbank5_b_air              14149 non-null float64\n",
      "secondary_cleaner.state.floatbank5_b_level            14149 non-null float64\n",
      "secondary_cleaner.state.floatbank6_a_air              14149 non-null float64\n",
      "secondary_cleaner.state.floatbank6_a_level            14149 non-null float64\n",
      "dtypes: float64(86), object(1)\n",
      "memory usage: 9.4+ MB\n"
     ]
    }
   ],
   "source": [
    "gold_recovery_train.info()"
   ]
  },
  {
   "cell_type": "markdown",
   "metadata": {},
   "source": [
    "## Построение модели"
   ]
  },
  {
   "cell_type": "markdown",
   "metadata": {},
   "source": [
    "Напишем функцию для вычисления итоговой sMAPE"
   ]
  },
  {
   "cell_type": "code",
   "execution_count": 23,
   "metadata": {},
   "outputs": [],
   "source": [
    "def smape(target_features, predicted_features):\n",
    "    return 1/len(target_features) * np.sum(2 * np.abs(predicted_features-target_features) / (np.abs(target_features) + np.abs(predicted_features))*100)"
   ]
  },
  {
   "cell_type": "markdown",
   "metadata": {},
   "source": [
    "Обучим разные модели и оценим их качество кросс-валидацией. Выберем лучшую модель и проверим её на тестовой выборке. Опишите выводы. Вам пригодятся формулы метрик качества."
   ]
  },
  {
   "cell_type": "markdown",
   "metadata": {},
   "source": [
    "Целевых признаков 2 - **final.output.concentrate_au**- эффективность обогащения финального концентрата и **rougher.output.concentrate_au** - эффективность обогащения чернового концентрата.\n",
    "из обучающей выборки.\n",
    "Признаки - все остальные столбцы, кроме целевых и \"даты\"."
   ]
  },
  {
   "cell_type": "code",
   "execution_count": 24,
   "metadata": {},
   "outputs": [],
   "source": [
    "target_final = gold_recovery_train['final.output.concentrate_au']\n",
    "features_final = gold_recovery_train.drop(['final.output.concentrate_au','rougher.output.concentrate_au'], axis=1)\n",
    "features_final = features_final[gold_recovery_test.columns]\n",
    "features_final =features_final.drop(['date'], axis = 1)\n",
    "features_train_f, features_valid_f, target_train_f,target_valid_f = train_test_split(features_final,target_final,test_size = 0.25,random_state = 12345)"
   ]
  },
  {
   "cell_type": "code",
   "execution_count": 25,
   "metadata": {},
   "outputs": [],
   "source": [
    "target_rougher = gold_recovery_train['rougher.output.concentrate_au']\n",
    "features_rougher = gold_recovery_train.drop(['final.output.concentrate_au','rougher.output.concentrate_au'], axis=1)\n",
    "features_rougher = features_rougher[gold_recovery_test.columns]\n",
    "features_rougher = features_rougher.drop(['date'], axis = 1)\n",
    "features_train_r, features_valid_r, target_train_r,target_valid_r = train_test_split(features_rougher,target_rougher,test_size = 0.25,random_state = 12345)"
   ]
  },
  {
   "cell_type": "markdown",
   "metadata": {},
   "source": [
    "Так как целевые призраки количественные, то мы решаем задачу регрессии. Рассмотрим три модели - \"Дерево Решений\", \"Линейная Регрессия\" и \"Случайный Лес\"."
   ]
  },
  {
   "cell_type": "code",
   "execution_count": 26,
   "metadata": {},
   "outputs": [
    {
     "data": {
      "text/plain": [
       "((14149, 52), (14149, 52))"
      ]
     },
     "execution_count": 26,
     "metadata": {},
     "output_type": "execute_result"
    }
   ],
   "source": [
    "features_rougher.shape, features_final.shape"
   ]
  },
  {
   "cell_type": "markdown",
   "metadata": {},
   "source": [
    "Добавим недостающие таргетные столбцы в тестовую выборку."
   ]
  },
  {
   "cell_type": "code",
   "execution_count": 27,
   "metadata": {},
   "outputs": [],
   "source": [
    "gold_recovery_test['rougher.output.concentrate_au'] = gold_recovery_full['rougher.output.concentrate_au']\n",
    "gold_recovery_test['final.output.concentrate_au'] = gold_recovery_full['final.output.concentrate_au']"
   ]
  },
  {
   "cell_type": "code",
   "execution_count": 28,
   "metadata": {},
   "outputs": [],
   "source": [
    "target_final_test = gold_recovery_test['final.output.concentrate_au']\n",
    "features_final_test = gold_recovery_test.drop(['final.output.concentrate_au','rougher.output.concentrate_au'], axis=1)\n",
    "features_final_test =features_final_test.drop(['date'], axis = 1)\n",
    "features_train_test_f, features_valid_test_f, target_train_test_f,target_valid_test_f = train_test_split(features_final_test,target_final_test,test_size = 0.25,random_state = 12345)"
   ]
  },
  {
   "cell_type": "code",
   "execution_count": 29,
   "metadata": {},
   "outputs": [],
   "source": [
    "target_rougher_test = gold_recovery_test['rougher.output.concentrate_au']\n",
    "features_rougher_test = gold_recovery_test.drop(['final.output.concentrate_au','rougher.output.concentrate_au'], axis=1)\n",
    "features_rougher_test =features_rougher_test.drop(['date'], axis = 1)\n",
    "features_train_test_r, features_valid_test_r, target_train_test_r,target_valid_test_r = train_test_split(features_rougher_test,target_rougher_test,test_size = 0.25,random_state = 12345)"
   ]
  },
  {
   "cell_type": "markdown",
   "metadata": {},
   "source": [
    "### Модель \"Дерево Решений\""
   ]
  },
  {
   "cell_type": "code",
   "execution_count": 30,
   "metadata": {},
   "outputs": [
    {
     "name": "stdout",
     "output_type": "stream",
     "text": [
      "sMAPE-метрика: 6.084515194113346 ; Глубина дерева: 5\n",
      "sMAPE-метрика: 12.624989775230343 ; Глубина дерева: 5\n",
      "Итоговая sMAPE-метрика: 10.989871129951092\n"
     ]
    }
   ],
   "source": [
    "#parametrs = {'depth': range(1,6)}\n",
    "#grid = GridSearchCV(model,parametrs,scoring = 'f1',cv = 5)\n",
    "#grid.fit(features_train,target_train)\n",
    "#print(grid.best_params_)\n",
    "best_model = 1000\n",
    "best_result_f = 10000\n",
    "best_result_r = 10000\n",
    "best_depth = 0\n",
    "for depth in range(1, 6):\n",
    "    model = DecisionTreeRegressor(random_state = 12345,max_depth = depth )\n",
    "    model.fit(features_train_f,target_train_f) \n",
    "    predictions_valid = model.predict(features_valid_f) \n",
    "    result_f = smape(target_valid_f,predictions_valid)\n",
    "    if result_f < best_result_f:\n",
    "        best_model_f = model\n",
    "        best_result_f = result_f\n",
    "        best_depth = depth\n",
    "    model.fit(features_train_r,target_train_r) \n",
    "    predictions_valid = model.predict(features_valid_r) \n",
    "    result_r = smape(target_valid_r,predictions_valid)\n",
    "    if result_r < best_result_r:\n",
    "        best_model = model\n",
    "        best_result_r = result_r\n",
    "        best_depth_r = depth\n",
    "print(\"sMAPE-метрика:\", best_result_f,\";\", \"Глубина дерева:\", best_depth)\n",
    "print(\"sMAPE-метрика:\", best_result_r,\";\", \"Глубина дерева:\", best_depth_r)\n",
    "print(\"Итоговая sMAPE-метрика:\", result_f*0.25 + best_result_r*0.75)"
   ]
  },
  {
   "cell_type": "markdown",
   "metadata": {},
   "source": [
    "### Линейная регрессия"
   ]
  },
  {
   "cell_type": "code",
   "execution_count": 31,
   "metadata": {
    "scrolled": true
   },
   "outputs": [
    {
     "name": "stdout",
     "output_type": "stream",
     "text": [
      "Итоговая sMAPE-метрика: 10.76106400199324\n"
     ]
    }
   ],
   "source": [
    "model =  LinearRegression()\n",
    "model.fit(features_train_f,target_train_f) \n",
    "predictions_valid_f = model.predict(features_valid_f)\n",
    "result_f = smape(target_valid_f,predictions_valid_f)\n",
    "model.fit(features_train_r,target_train_r) \n",
    "predictions_valid_r = model.predict(features_valid_r)\n",
    "result_r = smape(target_valid_r,predictions_valid_r)\n",
    "print(\"Итоговая sMAPE-метрика:\", result_f*0.25 + result_r * 0.75)"
   ]
  },
  {
   "cell_type": "markdown",
   "metadata": {},
   "source": [
    "### Случайный Лес"
   ]
  },
  {
   "cell_type": "code",
   "execution_count": null,
   "metadata": {},
   "outputs": [],
   "source": [
    "df_train_1 = pd.read_csv('/datasets/gold_recovery_train.csv', index_col='date', parse_dates=True)\n",
    "df_test_1 = pd.read_csv('/datasets/gold_recovery_test.csv', index_col='date', parse_dates=True)\n",
    "df_full_1 = pd.read_csv('/datasets/gold_recovery_full.csv', index_col='date', parse_dates=True)\n",
    "\n",
    "df_train_1 = df_train_1.fillna(method='ffill') \n",
    "df_test_1 = df_test_1.fillna(method='ffill')\n",
    "\n",
    "features_1 = df_test_1.columns.values\n",
    "targets_1 = ['rougher.output.recovery', 'final.output.recovery']\n",
    "\n",
    "features_train_1 = df_train_1[features_1].reset_index(drop=True)\n",
    "target_train_1 = df_train_1[targets_1].reset_index(drop=True)\n",
    "features_test_1 = df_test_1[features_1].reset_index(drop=True)\n",
    "target_test_1 = df_full_1[targets_1].loc[df_test_1.index].reset_index(drop=True)"
   ]
  },
  {
   "cell_type": "code",
   "execution_count": null,
   "metadata": {},
   "outputs": [],
   "source": [
    "best_model = None\n",
    "best_result = 10000\n",
    "best_est = 0\n",
    "best_depth = 0\n",
    "best_model_r = None\n",
    "best_result_r = 10000\n",
    "best_est_r = 0\n",
    "best_depth_r = 0\n",
    "for est in range(10, 51, 10):\n",
    "    for depth in range (1, 11):\n",
    "        model =   RandomForestRegressor(random_state=12345,n_estimators=est, max_depth= depth)\n",
    "        model.fit(features_train_f,target_train_f) \n",
    "        predictions_valid_f = model.predict(features_test_1) \n",
    "        result_f = smape(target_valid_f,predictions_valid_f)\n",
    "        if result_f < best_result:\n",
    "            best_model = model\n",
    "            best_result = result_f\n",
    "            best_est = est\n",
    "            best_depth = depth\n",
    "        model =   RandomForestRegressor(random_state=12345,n_estimators=est, max_depth= depth)\n",
    "        model.fit(features_train_r,target_train_r) \n",
    "        predictions_valid_r = model.predict(features_test_1) \n",
    "        result_r = smape(target_valid_r,predictions_valid_f)\n",
    "        if result_r < best_result_r:\n",
    "            best_model_r = model\n",
    "            best_result_r = result_r\n",
    "            best_est_r = est\n",
    "            best_depth_r = depth\n",
    "              \n",
    "\n",
    "print(\"Итоговая sMAPE-метрика:\",result_f*0.25 + result_r * 0.75 ,\";\" ,\"Количество деревьев:\", best_est, \";\",\"Максимальная глубина:\", depth)"
   ]
  },
  {
   "cell_type": "markdown",
   "metadata": {},
   "source": [
    "**Вывод**: Минимальная итоговая sMAPE-метрика у модели \"Случайный Лес\", так как чем меньше её значение, тем более близки предсказания модели к целевому признаку. Проверим модель на тестовой выборке"
   ]
  },
  {
   "cell_type": "markdown",
   "metadata": {},
   "source": [
    "На тестовой выборке модель так же дала хорошие результаты."
   ]
  },
  {
   "cell_type": "markdown",
   "metadata": {},
   "source": [
    "Сравним нашу модель с базовой. Для этого, напишем функцию dummy_regressor_rougher средствами библиотеки sklearn, стратегию зададим median"
   ]
  },
  {
   "cell_type": "code",
   "execution_count": 32,
   "metadata": {},
   "outputs": [
    {
     "name": "stdout",
     "output_type": "stream",
     "text": [
      "10.383528410641423\n",
      "7.193736170779104\n",
      "7.991184230744684\n"
     ]
    }
   ],
   "source": [
    "dummy_regressor_rougher = DummyRegressor(strategy=\"median\") \n",
    "dummy_regressor_rougher.fit(features_train_r, target_train_r)\n",
    "dummy_rougher_pred = dummy_regressor_rougher.predict(features_train_test_r)\n",
    "smape_dummy_rougher_r = smape(target_train_test_r, dummy_rougher_pred)\n",
    "print(smape_dummy_rougher_r)\n",
    "\n",
    "dummy_regressor_rougher.fit(features_train_f, target_train_f)\n",
    "dummy_rougher_pred = dummy_regressor_rougher.predict(features_train_test_f)\n",
    "smape_dummy_rougher_f = smape(target_train_test_f, dummy_rougher_pred)\n",
    "print(smape_dummy_rougher_f)\n",
    "\n",
    "print((smape_dummy_rougher_r)*0.25 + (smape_dummy_rougher_f)*0.75)"
   ]
  },
  {
   "cell_type": "markdown",
   "metadata": {},
   "source": [
    "Видим, что наша  модель работает лучше базовой"
   ]
  },
  {
   "cell_type": "code",
   "execution_count": 33,
   "metadata": {},
   "outputs": [],
   "source": [
    "df_train_1 = pd.read_csv('/datasets/gold_recovery_train.csv', index_col='date', parse_dates=True)\n",
    "df_test_1 = pd.read_csv('/datasets/gold_recovery_test.csv', index_col='date', parse_dates=True)\n",
    "df_full_1 = pd.read_csv('/datasets/gold_recovery_full.csv', index_col='date', parse_dates=True)\n",
    "\n",
    "df_train_1 = df_train_1.fillna(method='ffill')\n",
    "df_test_1 = df_test_1.fillna(method='ffill')\n",
    "\n",
    "features_1 = df_test_1.columns.values\n",
    "targets = ['rougher.output.recovery','final.output.recovery']\n",
    "#targets_2  = []\n",
    "\n",
    "features_train = df_train_1[features_1].reset_index(drop=True)\n",
    "target_train = df_train_1[targets].reset_index(drop=True)\n",
    "#target_train_2 = df_train_1[targets_2].reset_index(drop=True)\n",
    "features_test_1 = df_test_1[features_1].reset_index(drop=True)\n",
    "target_test_1 = df_full_1[targets].loc[df_test_1.index].reset_index(drop=True)"
   ]
  },
  {
   "cell_type": "code",
   "execution_count": 34,
   "metadata": {},
   "outputs": [
    {
     "data": {
      "text/plain": [
       "array([45.8104855 , 43.46092187, 44.15336341, ..., 44.26014027,\n",
       "       43.14072661, 45.32854697])"
      ]
     },
     "execution_count": 34,
     "metadata": {},
     "output_type": "execute_result"
    }
   ],
   "source": [
    "predictions_valid_f"
   ]
  },
  {
   "cell_type": "markdown",
   "metadata": {},
   "source": [
    "********"
   ]
  },
  {
   "cell_type": "code",
   "execution_count": 35,
   "metadata": {},
   "outputs": [],
   "source": [
    "train = pd.read_csv('/datasets/gold_recovery_train.csv', index_col='date', parse_dates=True)\n",
    "test= pd.read_csv('/datasets/gold_recovery_test.csv', index_col='date', parse_dates=True)\n",
    "full = pd.read_csv('/datasets/gold_recovery_full.csv', index_col='date', parse_dates=True)\n",
    "\n",
    "train = df_train_1.fillna(method='ffill')\n",
    "test = df_test_1.fillna(method='ffill')\n",
    "\n",
    "RS=100"
   ]
  },
  {
   "cell_type": "code",
   "execution_count": 36,
   "metadata": {},
   "outputs": [],
   "source": [
    "def smape(y_true, y_pred):\n",
    "    error = (y_true - y_pred).abs()\n",
    "    scale = (y_true.abs() + y_pred.abs()) / 2\n",
    "    result = (error / scale).mean()\n",
    "    return result\n",
    " \n",
    "\n",
    "def smape_weighted(y_true, y_pred):\n",
    "    y_true.reset_index(drop=True, inplace=True)\n",
    "    y_pred = pd.DataFrame(data=y_pred)\n",
    "    rougher = smape(y_true.iloc[:, 0], y_pred.iloc[:, 0])\n",
    "    final = smape(y_true.iloc[:, 1], y_pred.iloc[:, 1])\n",
    "    return 0.25 * rougher + 0.75 * final\n",
    "\n",
    "\n",
    "target_cols = ['rougher.output.recovery', 'final.output.recovery']\n",
    "features_train = train[test.columns].reset_index(drop=True)\n",
    "target_train = train[target_cols].reset_index(drop=True)\n",
    "\n",
    "\n",
    "#my_scorer =  make_scorer(smape_weighted, greater_is_better=False)\n",
    "\n",
    "params = {\n",
    "        'decision_tree': {\n",
    "            'model': DecisionTreeRegressor(random_state=RS),\n",
    "            'params': {\n",
    "                'max_depth': [5, 6],\n",
    "                'min_samples_split': [2, 3]\n",
    "            }  \n",
    "        },\n",
    "        'random_forest': {\n",
    "            'model': RandomForestRegressor(random_state=RS, n_jobs=-1),\n",
    "            'params': {\n",
    "                'n_estimators': [90, 100],\n",
    "                'max_depth': [4, 5]\n",
    "            }\n",
    "        },\n",
    "        'LinearRegression': {\n",
    "            'model': LinearRegression(n_jobs=-1),\n",
    "            'params': {\n",
    "                'normalize':[True, False]\n",
    "            }\n",
    "        }\n",
    "    }\n",
    "    \n",
    "#def hypertune(X_train, y_train, model_params):\n",
    "#\n",
    "#    scores = []\n",
    "#\n",
    "#    for model_name, mp in model_params.items():\n",
    "#        clf = GridSearchCV(mp['model'], mp['params'], cv=5,\n",
    "#                            scoring=my_scorer, return_train_score=False)\n",
    "#        clf.fit(X_train, y_train)\n",
    "#        scores.append({\n",
    "#            'model': model_name,\n",
    "#            'best_score': f'{clf.best_score_:.2f}',\n",
    "#            'best_params': clf.best_params_\n",
    "#        })\n",
    "#\n",
    "#    scores = pd.DataFrame(scores, columns=['model','best_score', 'best_params'])\n",
    "#    return scores.sort_values(by='best_score', ascending=False)\n",
    "#\n",
    "\n",
    "features_train = train[test.columns].reset_index(drop=True)\n",
    "target_train = train[['rougher.output.recovery', 'final.output.recovery']].reset_index(drop=True)\n",
    "#result = hypertune(features_train, target_train, params)\n",
    "#result\n",
    "\n",
    "#model = LinearRegression(n_jobs=-1)\n",
    "#model.fit(features_train, target_train)\n",
    "#y_pred = model.predict(test.head())\n",
    "#y_true = full.loc[test.head().index, ['rougher.output.recovery', 'final.output.recovery']]\n",
    "#score = smape_weighted(y_true, y_pred)\n",
    "#f'Итоговый SMAPE: {score:.2f}'"
   ]
  },
  {
   "cell_type": "code",
   "execution_count": 37,
   "metadata": {},
   "outputs": [],
   "source": [
    "\n",
    "def smape(y_true, y_pred):\n",
    "    error = abs(y_true - y_pred)\n",
    "    scale = (abs(y_true) + abs(y_pred)) / 2\n",
    "    result = (error / scale).mean()\n",
    "    return result\n",
    " \n",
    "\n",
    "def smape_weighted(y_true, y_pred):\n",
    "    y_true.reset_index(drop=True, inplace=True)\n",
    "    y_pred = pd.DataFrame(data=y_pred)\n",
    "    rougher = smape(y_true.iloc[:, 0], y_pred.iloc[:, 0])\n",
    "    final = smape(y_true.iloc[:, 1], y_pred.iloc[:, 1])\n",
    "    return 0.25 * rougher + 0.75 * final"
   ]
  },
  {
   "cell_type": "code",
   "execution_count": 38,
   "metadata": {},
   "outputs": [
    {
     "data": {
      "text/html": [
       "<div>\n",
       "<style scoped>\n",
       "    .dataframe tbody tr th:only-of-type {\n",
       "        vertical-align: middle;\n",
       "    }\n",
       "\n",
       "    .dataframe tbody tr th {\n",
       "        vertical-align: top;\n",
       "    }\n",
       "\n",
       "    .dataframe thead th {\n",
       "        text-align: right;\n",
       "    }\n",
       "</style>\n",
       "<table border=\"1\" class=\"dataframe\">\n",
       "  <thead>\n",
       "    <tr style=\"text-align: right;\">\n",
       "      <th></th>\n",
       "      <th>primary_cleaner.input.sulfate</th>\n",
       "      <th>primary_cleaner.input.depressant</th>\n",
       "      <th>primary_cleaner.input.feed_size</th>\n",
       "      <th>primary_cleaner.input.xanthate</th>\n",
       "      <th>primary_cleaner.state.floatbank8_a_air</th>\n",
       "      <th>primary_cleaner.state.floatbank8_a_level</th>\n",
       "      <th>primary_cleaner.state.floatbank8_b_air</th>\n",
       "      <th>primary_cleaner.state.floatbank8_b_level</th>\n",
       "      <th>primary_cleaner.state.floatbank8_c_air</th>\n",
       "      <th>primary_cleaner.state.floatbank8_c_level</th>\n",
       "      <th>...</th>\n",
       "      <th>secondary_cleaner.state.floatbank4_a_air</th>\n",
       "      <th>secondary_cleaner.state.floatbank4_a_level</th>\n",
       "      <th>secondary_cleaner.state.floatbank4_b_air</th>\n",
       "      <th>secondary_cleaner.state.floatbank4_b_level</th>\n",
       "      <th>secondary_cleaner.state.floatbank5_a_air</th>\n",
       "      <th>secondary_cleaner.state.floatbank5_a_level</th>\n",
       "      <th>secondary_cleaner.state.floatbank5_b_air</th>\n",
       "      <th>secondary_cleaner.state.floatbank5_b_level</th>\n",
       "      <th>secondary_cleaner.state.floatbank6_a_air</th>\n",
       "      <th>secondary_cleaner.state.floatbank6_a_level</th>\n",
       "    </tr>\n",
       "    <tr>\n",
       "      <th>date</th>\n",
       "      <th></th>\n",
       "      <th></th>\n",
       "      <th></th>\n",
       "      <th></th>\n",
       "      <th></th>\n",
       "      <th></th>\n",
       "      <th></th>\n",
       "      <th></th>\n",
       "      <th></th>\n",
       "      <th></th>\n",
       "      <th></th>\n",
       "      <th></th>\n",
       "      <th></th>\n",
       "      <th></th>\n",
       "      <th></th>\n",
       "      <th></th>\n",
       "      <th></th>\n",
       "      <th></th>\n",
       "      <th></th>\n",
       "      <th></th>\n",
       "      <th></th>\n",
       "    </tr>\n",
       "  </thead>\n",
       "  <tbody>\n",
       "    <tr>\n",
       "      <td>2016-09-01 00:59:59</td>\n",
       "      <td>210.800909</td>\n",
       "      <td>14.993118</td>\n",
       "      <td>8.080000</td>\n",
       "      <td>1.005021</td>\n",
       "      <td>1398.981301</td>\n",
       "      <td>-500.225577</td>\n",
       "      <td>1399.144926</td>\n",
       "      <td>-499.919735</td>\n",
       "      <td>1400.102998</td>\n",
       "      <td>-500.704369</td>\n",
       "      <td>...</td>\n",
       "      <td>12.023554</td>\n",
       "      <td>-497.795834</td>\n",
       "      <td>8.016656</td>\n",
       "      <td>-501.289139</td>\n",
       "      <td>7.946562</td>\n",
       "      <td>-432.317850</td>\n",
       "      <td>4.872511</td>\n",
       "      <td>-500.037437</td>\n",
       "      <td>26.705889</td>\n",
       "      <td>-499.709414</td>\n",
       "    </tr>\n",
       "    <tr>\n",
       "      <td>2016-09-01 01:59:59</td>\n",
       "      <td>215.392455</td>\n",
       "      <td>14.987471</td>\n",
       "      <td>8.080000</td>\n",
       "      <td>0.990469</td>\n",
       "      <td>1398.777912</td>\n",
       "      <td>-500.057435</td>\n",
       "      <td>1398.055362</td>\n",
       "      <td>-499.778182</td>\n",
       "      <td>1396.151033</td>\n",
       "      <td>-499.240168</td>\n",
       "      <td>...</td>\n",
       "      <td>12.058140</td>\n",
       "      <td>-498.695773</td>\n",
       "      <td>8.130979</td>\n",
       "      <td>-499.634209</td>\n",
       "      <td>7.958270</td>\n",
       "      <td>-525.839648</td>\n",
       "      <td>4.878850</td>\n",
       "      <td>-500.162375</td>\n",
       "      <td>25.019940</td>\n",
       "      <td>-499.819438</td>\n",
       "    </tr>\n",
       "    <tr>\n",
       "      <td>2016-09-01 02:59:59</td>\n",
       "      <td>215.259946</td>\n",
       "      <td>12.884934</td>\n",
       "      <td>7.786667</td>\n",
       "      <td>0.996043</td>\n",
       "      <td>1398.493666</td>\n",
       "      <td>-500.868360</td>\n",
       "      <td>1398.860436</td>\n",
       "      <td>-499.764529</td>\n",
       "      <td>1398.075709</td>\n",
       "      <td>-502.151509</td>\n",
       "      <td>...</td>\n",
       "      <td>11.962366</td>\n",
       "      <td>-498.767484</td>\n",
       "      <td>8.096893</td>\n",
       "      <td>-500.827423</td>\n",
       "      <td>8.071056</td>\n",
       "      <td>-500.801673</td>\n",
       "      <td>4.905125</td>\n",
       "      <td>-499.828510</td>\n",
       "      <td>24.994862</td>\n",
       "      <td>-500.622559</td>\n",
       "    </tr>\n",
       "    <tr>\n",
       "      <td>2016-09-01 03:59:59</td>\n",
       "      <td>215.336236</td>\n",
       "      <td>12.006805</td>\n",
       "      <td>7.640000</td>\n",
       "      <td>0.863514</td>\n",
       "      <td>1399.618111</td>\n",
       "      <td>-498.863574</td>\n",
       "      <td>1397.440120</td>\n",
       "      <td>-499.211024</td>\n",
       "      <td>1400.129303</td>\n",
       "      <td>-498.355873</td>\n",
       "      <td>...</td>\n",
       "      <td>12.033091</td>\n",
       "      <td>-498.350935</td>\n",
       "      <td>8.074946</td>\n",
       "      <td>-499.474407</td>\n",
       "      <td>7.897085</td>\n",
       "      <td>-500.868509</td>\n",
       "      <td>4.931400</td>\n",
       "      <td>-499.963623</td>\n",
       "      <td>24.948919</td>\n",
       "      <td>-498.709987</td>\n",
       "    </tr>\n",
       "    <tr>\n",
       "      <td>2016-09-01 04:59:59</td>\n",
       "      <td>199.099327</td>\n",
       "      <td>10.682530</td>\n",
       "      <td>7.530000</td>\n",
       "      <td>0.805575</td>\n",
       "      <td>1401.268123</td>\n",
       "      <td>-500.808305</td>\n",
       "      <td>1398.128818</td>\n",
       "      <td>-499.504543</td>\n",
       "      <td>1402.172226</td>\n",
       "      <td>-500.810606</td>\n",
       "      <td>...</td>\n",
       "      <td>12.025367</td>\n",
       "      <td>-500.786497</td>\n",
       "      <td>8.054678</td>\n",
       "      <td>-500.397500</td>\n",
       "      <td>8.107890</td>\n",
       "      <td>-509.526725</td>\n",
       "      <td>4.957674</td>\n",
       "      <td>-500.360026</td>\n",
       "      <td>25.003331</td>\n",
       "      <td>-500.856333</td>\n",
       "    </tr>\n",
       "    <tr>\n",
       "      <td>...</td>\n",
       "      <td>...</td>\n",
       "      <td>...</td>\n",
       "      <td>...</td>\n",
       "      <td>...</td>\n",
       "      <td>...</td>\n",
       "      <td>...</td>\n",
       "      <td>...</td>\n",
       "      <td>...</td>\n",
       "      <td>...</td>\n",
       "      <td>...</td>\n",
       "      <td>...</td>\n",
       "      <td>...</td>\n",
       "      <td>...</td>\n",
       "      <td>...</td>\n",
       "      <td>...</td>\n",
       "      <td>...</td>\n",
       "      <td>...</td>\n",
       "      <td>...</td>\n",
       "      <td>...</td>\n",
       "      <td>...</td>\n",
       "      <td>...</td>\n",
       "    </tr>\n",
       "    <tr>\n",
       "      <td>2017-12-31 19:59:59</td>\n",
       "      <td>173.957757</td>\n",
       "      <td>15.963399</td>\n",
       "      <td>8.070000</td>\n",
       "      <td>0.896701</td>\n",
       "      <td>1401.930554</td>\n",
       "      <td>-499.728848</td>\n",
       "      <td>1401.441445</td>\n",
       "      <td>-499.193423</td>\n",
       "      <td>1399.810313</td>\n",
       "      <td>-499.599127</td>\n",
       "      <td>...</td>\n",
       "      <td>13.995957</td>\n",
       "      <td>-500.157454</td>\n",
       "      <td>12.069155</td>\n",
       "      <td>-499.673279</td>\n",
       "      <td>7.977259</td>\n",
       "      <td>-499.516126</td>\n",
       "      <td>5.933319</td>\n",
       "      <td>-499.965973</td>\n",
       "      <td>8.987171</td>\n",
       "      <td>-499.755909</td>\n",
       "    </tr>\n",
       "    <tr>\n",
       "      <td>2017-12-31 20:59:59</td>\n",
       "      <td>172.910270</td>\n",
       "      <td>16.002605</td>\n",
       "      <td>8.070000</td>\n",
       "      <td>0.896519</td>\n",
       "      <td>1447.075722</td>\n",
       "      <td>-494.716823</td>\n",
       "      <td>1448.851892</td>\n",
       "      <td>-465.963026</td>\n",
       "      <td>1443.890424</td>\n",
       "      <td>-503.587739</td>\n",
       "      <td>...</td>\n",
       "      <td>16.749781</td>\n",
       "      <td>-496.031539</td>\n",
       "      <td>13.365371</td>\n",
       "      <td>-499.122723</td>\n",
       "      <td>9.288553</td>\n",
       "      <td>-496.892967</td>\n",
       "      <td>7.372897</td>\n",
       "      <td>-499.942956</td>\n",
       "      <td>8.986832</td>\n",
       "      <td>-499.903761</td>\n",
       "    </tr>\n",
       "    <tr>\n",
       "      <td>2017-12-31 21:59:59</td>\n",
       "      <td>171.135718</td>\n",
       "      <td>15.993669</td>\n",
       "      <td>8.070000</td>\n",
       "      <td>1.165996</td>\n",
       "      <td>1498.836182</td>\n",
       "      <td>-501.770403</td>\n",
       "      <td>1499.572353</td>\n",
       "      <td>-495.516347</td>\n",
       "      <td>1502.749213</td>\n",
       "      <td>-520.667442</td>\n",
       "      <td>...</td>\n",
       "      <td>19.994130</td>\n",
       "      <td>-499.791312</td>\n",
       "      <td>15.101425</td>\n",
       "      <td>-499.936252</td>\n",
       "      <td>10.989181</td>\n",
       "      <td>-498.347898</td>\n",
       "      <td>9.020944</td>\n",
       "      <td>-500.040448</td>\n",
       "      <td>8.982038</td>\n",
       "      <td>-497.789882</td>\n",
       "    </tr>\n",
       "    <tr>\n",
       "      <td>2017-12-31 22:59:59</td>\n",
       "      <td>179.697158</td>\n",
       "      <td>15.438979</td>\n",
       "      <td>8.070000</td>\n",
       "      <td>1.501068</td>\n",
       "      <td>1498.466243</td>\n",
       "      <td>-500.483984</td>\n",
       "      <td>1497.986986</td>\n",
       "      <td>-519.200340</td>\n",
       "      <td>1496.569047</td>\n",
       "      <td>-487.479567</td>\n",
       "      <td>...</td>\n",
       "      <td>19.958760</td>\n",
       "      <td>-499.958750</td>\n",
       "      <td>15.026853</td>\n",
       "      <td>-499.723143</td>\n",
       "      <td>11.011607</td>\n",
       "      <td>-499.985046</td>\n",
       "      <td>9.009783</td>\n",
       "      <td>-499.937902</td>\n",
       "      <td>9.012660</td>\n",
       "      <td>-500.154284</td>\n",
       "    </tr>\n",
       "    <tr>\n",
       "      <td>2017-12-31 23:59:59</td>\n",
       "      <td>181.556856</td>\n",
       "      <td>14.995850</td>\n",
       "      <td>8.070000</td>\n",
       "      <td>1.623454</td>\n",
       "      <td>1498.096303</td>\n",
       "      <td>-499.796922</td>\n",
       "      <td>1501.743791</td>\n",
       "      <td>-505.146931</td>\n",
       "      <td>1499.535978</td>\n",
       "      <td>-492.428226</td>\n",
       "      <td>...</td>\n",
       "      <td>20.034715</td>\n",
       "      <td>-500.728588</td>\n",
       "      <td>14.914199</td>\n",
       "      <td>-499.948518</td>\n",
       "      <td>10.986607</td>\n",
       "      <td>-500.658027</td>\n",
       "      <td>8.989497</td>\n",
       "      <td>-500.337588</td>\n",
       "      <td>8.988632</td>\n",
       "      <td>-500.764937</td>\n",
       "    </tr>\n",
       "  </tbody>\n",
       "</table>\n",
       "<p>5856 rows × 52 columns</p>\n",
       "</div>"
      ],
      "text/plain": [
       "                     primary_cleaner.input.sulfate  \\\n",
       "date                                                 \n",
       "2016-09-01 00:59:59                     210.800909   \n",
       "2016-09-01 01:59:59                     215.392455   \n",
       "2016-09-01 02:59:59                     215.259946   \n",
       "2016-09-01 03:59:59                     215.336236   \n",
       "2016-09-01 04:59:59                     199.099327   \n",
       "...                                            ...   \n",
       "2017-12-31 19:59:59                     173.957757   \n",
       "2017-12-31 20:59:59                     172.910270   \n",
       "2017-12-31 21:59:59                     171.135718   \n",
       "2017-12-31 22:59:59                     179.697158   \n",
       "2017-12-31 23:59:59                     181.556856   \n",
       "\n",
       "                     primary_cleaner.input.depressant  \\\n",
       "date                                                    \n",
       "2016-09-01 00:59:59                         14.993118   \n",
       "2016-09-01 01:59:59                         14.987471   \n",
       "2016-09-01 02:59:59                         12.884934   \n",
       "2016-09-01 03:59:59                         12.006805   \n",
       "2016-09-01 04:59:59                         10.682530   \n",
       "...                                               ...   \n",
       "2017-12-31 19:59:59                         15.963399   \n",
       "2017-12-31 20:59:59                         16.002605   \n",
       "2017-12-31 21:59:59                         15.993669   \n",
       "2017-12-31 22:59:59                         15.438979   \n",
       "2017-12-31 23:59:59                         14.995850   \n",
       "\n",
       "                     primary_cleaner.input.feed_size  \\\n",
       "date                                                   \n",
       "2016-09-01 00:59:59                         8.080000   \n",
       "2016-09-01 01:59:59                         8.080000   \n",
       "2016-09-01 02:59:59                         7.786667   \n",
       "2016-09-01 03:59:59                         7.640000   \n",
       "2016-09-01 04:59:59                         7.530000   \n",
       "...                                              ...   \n",
       "2017-12-31 19:59:59                         8.070000   \n",
       "2017-12-31 20:59:59                         8.070000   \n",
       "2017-12-31 21:59:59                         8.070000   \n",
       "2017-12-31 22:59:59                         8.070000   \n",
       "2017-12-31 23:59:59                         8.070000   \n",
       "\n",
       "                     primary_cleaner.input.xanthate  \\\n",
       "date                                                  \n",
       "2016-09-01 00:59:59                        1.005021   \n",
       "2016-09-01 01:59:59                        0.990469   \n",
       "2016-09-01 02:59:59                        0.996043   \n",
       "2016-09-01 03:59:59                        0.863514   \n",
       "2016-09-01 04:59:59                        0.805575   \n",
       "...                                             ...   \n",
       "2017-12-31 19:59:59                        0.896701   \n",
       "2017-12-31 20:59:59                        0.896519   \n",
       "2017-12-31 21:59:59                        1.165996   \n",
       "2017-12-31 22:59:59                        1.501068   \n",
       "2017-12-31 23:59:59                        1.623454   \n",
       "\n",
       "                     primary_cleaner.state.floatbank8_a_air  \\\n",
       "date                                                          \n",
       "2016-09-01 00:59:59                             1398.981301   \n",
       "2016-09-01 01:59:59                             1398.777912   \n",
       "2016-09-01 02:59:59                             1398.493666   \n",
       "2016-09-01 03:59:59                             1399.618111   \n",
       "2016-09-01 04:59:59                             1401.268123   \n",
       "...                                                     ...   \n",
       "2017-12-31 19:59:59                             1401.930554   \n",
       "2017-12-31 20:59:59                             1447.075722   \n",
       "2017-12-31 21:59:59                             1498.836182   \n",
       "2017-12-31 22:59:59                             1498.466243   \n",
       "2017-12-31 23:59:59                             1498.096303   \n",
       "\n",
       "                     primary_cleaner.state.floatbank8_a_level  \\\n",
       "date                                                            \n",
       "2016-09-01 00:59:59                               -500.225577   \n",
       "2016-09-01 01:59:59                               -500.057435   \n",
       "2016-09-01 02:59:59                               -500.868360   \n",
       "2016-09-01 03:59:59                               -498.863574   \n",
       "2016-09-01 04:59:59                               -500.808305   \n",
       "...                                                       ...   \n",
       "2017-12-31 19:59:59                               -499.728848   \n",
       "2017-12-31 20:59:59                               -494.716823   \n",
       "2017-12-31 21:59:59                               -501.770403   \n",
       "2017-12-31 22:59:59                               -500.483984   \n",
       "2017-12-31 23:59:59                               -499.796922   \n",
       "\n",
       "                     primary_cleaner.state.floatbank8_b_air  \\\n",
       "date                                                          \n",
       "2016-09-01 00:59:59                             1399.144926   \n",
       "2016-09-01 01:59:59                             1398.055362   \n",
       "2016-09-01 02:59:59                             1398.860436   \n",
       "2016-09-01 03:59:59                             1397.440120   \n",
       "2016-09-01 04:59:59                             1398.128818   \n",
       "...                                                     ...   \n",
       "2017-12-31 19:59:59                             1401.441445   \n",
       "2017-12-31 20:59:59                             1448.851892   \n",
       "2017-12-31 21:59:59                             1499.572353   \n",
       "2017-12-31 22:59:59                             1497.986986   \n",
       "2017-12-31 23:59:59                             1501.743791   \n",
       "\n",
       "                     primary_cleaner.state.floatbank8_b_level  \\\n",
       "date                                                            \n",
       "2016-09-01 00:59:59                               -499.919735   \n",
       "2016-09-01 01:59:59                               -499.778182   \n",
       "2016-09-01 02:59:59                               -499.764529   \n",
       "2016-09-01 03:59:59                               -499.211024   \n",
       "2016-09-01 04:59:59                               -499.504543   \n",
       "...                                                       ...   \n",
       "2017-12-31 19:59:59                               -499.193423   \n",
       "2017-12-31 20:59:59                               -465.963026   \n",
       "2017-12-31 21:59:59                               -495.516347   \n",
       "2017-12-31 22:59:59                               -519.200340   \n",
       "2017-12-31 23:59:59                               -505.146931   \n",
       "\n",
       "                     primary_cleaner.state.floatbank8_c_air  \\\n",
       "date                                                          \n",
       "2016-09-01 00:59:59                             1400.102998   \n",
       "2016-09-01 01:59:59                             1396.151033   \n",
       "2016-09-01 02:59:59                             1398.075709   \n",
       "2016-09-01 03:59:59                             1400.129303   \n",
       "2016-09-01 04:59:59                             1402.172226   \n",
       "...                                                     ...   \n",
       "2017-12-31 19:59:59                             1399.810313   \n",
       "2017-12-31 20:59:59                             1443.890424   \n",
       "2017-12-31 21:59:59                             1502.749213   \n",
       "2017-12-31 22:59:59                             1496.569047   \n",
       "2017-12-31 23:59:59                             1499.535978   \n",
       "\n",
       "                     primary_cleaner.state.floatbank8_c_level  ...  \\\n",
       "date                                                           ...   \n",
       "2016-09-01 00:59:59                               -500.704369  ...   \n",
       "2016-09-01 01:59:59                               -499.240168  ...   \n",
       "2016-09-01 02:59:59                               -502.151509  ...   \n",
       "2016-09-01 03:59:59                               -498.355873  ...   \n",
       "2016-09-01 04:59:59                               -500.810606  ...   \n",
       "...                                                       ...  ...   \n",
       "2017-12-31 19:59:59                               -499.599127  ...   \n",
       "2017-12-31 20:59:59                               -503.587739  ...   \n",
       "2017-12-31 21:59:59                               -520.667442  ...   \n",
       "2017-12-31 22:59:59                               -487.479567  ...   \n",
       "2017-12-31 23:59:59                               -492.428226  ...   \n",
       "\n",
       "                     secondary_cleaner.state.floatbank4_a_air  \\\n",
       "date                                                            \n",
       "2016-09-01 00:59:59                                 12.023554   \n",
       "2016-09-01 01:59:59                                 12.058140   \n",
       "2016-09-01 02:59:59                                 11.962366   \n",
       "2016-09-01 03:59:59                                 12.033091   \n",
       "2016-09-01 04:59:59                                 12.025367   \n",
       "...                                                       ...   \n",
       "2017-12-31 19:59:59                                 13.995957   \n",
       "2017-12-31 20:59:59                                 16.749781   \n",
       "2017-12-31 21:59:59                                 19.994130   \n",
       "2017-12-31 22:59:59                                 19.958760   \n",
       "2017-12-31 23:59:59                                 20.034715   \n",
       "\n",
       "                     secondary_cleaner.state.floatbank4_a_level  \\\n",
       "date                                                              \n",
       "2016-09-01 00:59:59                                 -497.795834   \n",
       "2016-09-01 01:59:59                                 -498.695773   \n",
       "2016-09-01 02:59:59                                 -498.767484   \n",
       "2016-09-01 03:59:59                                 -498.350935   \n",
       "2016-09-01 04:59:59                                 -500.786497   \n",
       "...                                                         ...   \n",
       "2017-12-31 19:59:59                                 -500.157454   \n",
       "2017-12-31 20:59:59                                 -496.031539   \n",
       "2017-12-31 21:59:59                                 -499.791312   \n",
       "2017-12-31 22:59:59                                 -499.958750   \n",
       "2017-12-31 23:59:59                                 -500.728588   \n",
       "\n",
       "                     secondary_cleaner.state.floatbank4_b_air  \\\n",
       "date                                                            \n",
       "2016-09-01 00:59:59                                  8.016656   \n",
       "2016-09-01 01:59:59                                  8.130979   \n",
       "2016-09-01 02:59:59                                  8.096893   \n",
       "2016-09-01 03:59:59                                  8.074946   \n",
       "2016-09-01 04:59:59                                  8.054678   \n",
       "...                                                       ...   \n",
       "2017-12-31 19:59:59                                 12.069155   \n",
       "2017-12-31 20:59:59                                 13.365371   \n",
       "2017-12-31 21:59:59                                 15.101425   \n",
       "2017-12-31 22:59:59                                 15.026853   \n",
       "2017-12-31 23:59:59                                 14.914199   \n",
       "\n",
       "                     secondary_cleaner.state.floatbank4_b_level  \\\n",
       "date                                                              \n",
       "2016-09-01 00:59:59                                 -501.289139   \n",
       "2016-09-01 01:59:59                                 -499.634209   \n",
       "2016-09-01 02:59:59                                 -500.827423   \n",
       "2016-09-01 03:59:59                                 -499.474407   \n",
       "2016-09-01 04:59:59                                 -500.397500   \n",
       "...                                                         ...   \n",
       "2017-12-31 19:59:59                                 -499.673279   \n",
       "2017-12-31 20:59:59                                 -499.122723   \n",
       "2017-12-31 21:59:59                                 -499.936252   \n",
       "2017-12-31 22:59:59                                 -499.723143   \n",
       "2017-12-31 23:59:59                                 -499.948518   \n",
       "\n",
       "                     secondary_cleaner.state.floatbank5_a_air  \\\n",
       "date                                                            \n",
       "2016-09-01 00:59:59                                  7.946562   \n",
       "2016-09-01 01:59:59                                  7.958270   \n",
       "2016-09-01 02:59:59                                  8.071056   \n",
       "2016-09-01 03:59:59                                  7.897085   \n",
       "2016-09-01 04:59:59                                  8.107890   \n",
       "...                                                       ...   \n",
       "2017-12-31 19:59:59                                  7.977259   \n",
       "2017-12-31 20:59:59                                  9.288553   \n",
       "2017-12-31 21:59:59                                 10.989181   \n",
       "2017-12-31 22:59:59                                 11.011607   \n",
       "2017-12-31 23:59:59                                 10.986607   \n",
       "\n",
       "                     secondary_cleaner.state.floatbank5_a_level  \\\n",
       "date                                                              \n",
       "2016-09-01 00:59:59                                 -432.317850   \n",
       "2016-09-01 01:59:59                                 -525.839648   \n",
       "2016-09-01 02:59:59                                 -500.801673   \n",
       "2016-09-01 03:59:59                                 -500.868509   \n",
       "2016-09-01 04:59:59                                 -509.526725   \n",
       "...                                                         ...   \n",
       "2017-12-31 19:59:59                                 -499.516126   \n",
       "2017-12-31 20:59:59                                 -496.892967   \n",
       "2017-12-31 21:59:59                                 -498.347898   \n",
       "2017-12-31 22:59:59                                 -499.985046   \n",
       "2017-12-31 23:59:59                                 -500.658027   \n",
       "\n",
       "                     secondary_cleaner.state.floatbank5_b_air  \\\n",
       "date                                                            \n",
       "2016-09-01 00:59:59                                  4.872511   \n",
       "2016-09-01 01:59:59                                  4.878850   \n",
       "2016-09-01 02:59:59                                  4.905125   \n",
       "2016-09-01 03:59:59                                  4.931400   \n",
       "2016-09-01 04:59:59                                  4.957674   \n",
       "...                                                       ...   \n",
       "2017-12-31 19:59:59                                  5.933319   \n",
       "2017-12-31 20:59:59                                  7.372897   \n",
       "2017-12-31 21:59:59                                  9.020944   \n",
       "2017-12-31 22:59:59                                  9.009783   \n",
       "2017-12-31 23:59:59                                  8.989497   \n",
       "\n",
       "                     secondary_cleaner.state.floatbank5_b_level  \\\n",
       "date                                                              \n",
       "2016-09-01 00:59:59                                 -500.037437   \n",
       "2016-09-01 01:59:59                                 -500.162375   \n",
       "2016-09-01 02:59:59                                 -499.828510   \n",
       "2016-09-01 03:59:59                                 -499.963623   \n",
       "2016-09-01 04:59:59                                 -500.360026   \n",
       "...                                                         ...   \n",
       "2017-12-31 19:59:59                                 -499.965973   \n",
       "2017-12-31 20:59:59                                 -499.942956   \n",
       "2017-12-31 21:59:59                                 -500.040448   \n",
       "2017-12-31 22:59:59                                 -499.937902   \n",
       "2017-12-31 23:59:59                                 -500.337588   \n",
       "\n",
       "                     secondary_cleaner.state.floatbank6_a_air  \\\n",
       "date                                                            \n",
       "2016-09-01 00:59:59                                 26.705889   \n",
       "2016-09-01 01:59:59                                 25.019940   \n",
       "2016-09-01 02:59:59                                 24.994862   \n",
       "2016-09-01 03:59:59                                 24.948919   \n",
       "2016-09-01 04:59:59                                 25.003331   \n",
       "...                                                       ...   \n",
       "2017-12-31 19:59:59                                  8.987171   \n",
       "2017-12-31 20:59:59                                  8.986832   \n",
       "2017-12-31 21:59:59                                  8.982038   \n",
       "2017-12-31 22:59:59                                  9.012660   \n",
       "2017-12-31 23:59:59                                  8.988632   \n",
       "\n",
       "                     secondary_cleaner.state.floatbank6_a_level  \n",
       "date                                                             \n",
       "2016-09-01 00:59:59                                 -499.709414  \n",
       "2016-09-01 01:59:59                                 -499.819438  \n",
       "2016-09-01 02:59:59                                 -500.622559  \n",
       "2016-09-01 03:59:59                                 -498.709987  \n",
       "2016-09-01 04:59:59                                 -500.856333  \n",
       "...                                                         ...  \n",
       "2017-12-31 19:59:59                                 -499.755909  \n",
       "2017-12-31 20:59:59                                 -499.903761  \n",
       "2017-12-31 21:59:59                                 -497.789882  \n",
       "2017-12-31 22:59:59                                 -500.154284  \n",
       "2017-12-31 23:59:59                                 -500.764937  \n",
       "\n",
       "[5856 rows x 52 columns]"
      ]
     },
     "execution_count": 38,
     "metadata": {},
     "output_type": "execute_result"
    }
   ],
   "source": [
    "test"
   ]
  },
  {
   "cell_type": "markdown",
   "metadata": {},
   "source": [
    "*********************"
   ]
  },
  {
   "cell_type": "markdown",
   "metadata": {},
   "source": []
  },
  {
   "cell_type": "code",
   "execution_count": 40,
   "metadata": {},
   "outputs": [
    {
     "name": "stdout",
     "output_type": "stream",
     "text": [
      "Итоговый SMAPE: 0.10258917612379576 Количество деревьев: 20 ; Максимальная глубина: 10\n"
     ]
    }
   ],
   "source": [
    "best_model = None\n",
    "best_result = [1,1]\n",
    "best_est = 0\n",
    "best_depth = 0\n",
    "best_model_r = None\n",
    "best_result_r = [1,1]\n",
    "best_est_r = 0\n",
    "best_depth_r = 0\n",
    "for est in range(10, 51, 10):\n",
    "    for depth in range (1, 11):\n",
    "        model =   RandomForestRegressor(random_state=12345,n_estimators=est, max_depth= depth)\n",
    "        model.fit(features_train,target_train) \n",
    "        y_pred = model.predict(test) \n",
    "        y_true = full.loc[test.index, ['rougher.output.recovery', 'final.output.recovery']]\n",
    "        result_f = smape(y_true,y_pred)\n",
    "#        print(result_f )\n",
    "        if (result_f[0] < best_result[0])&(result_f[1] < best_result[1]):\n",
    "            best_model = model\n",
    "            best_result[0] = result_f[0]\n",
    "            best_result[1] = result_f[1]\n",
    "            best_est = est\n",
    "            best_depth = depth\n",
    "        score = smape_weighted(y_true, y_pred)           \n",
    "#        model =   RandomForestRegressor(random_state=12345,n_estimators=est, max_depth= depth)\n",
    "#        model.fit(features_train,target_train) \n",
    "#        predictions_valid_r = model.predict(features_test_1) \n",
    " #       result_r = smape(target_test_1,predictions_valid_r)        \n",
    " #       if result_r < best_result_r:\n",
    " #           best_model_r = model\n",
    " #           best_result_r = result_r\n",
    " #           best_est_r = est\n",
    " #           best_depth_r = depth\n",
    "              \n",
    "\n",
    "print(\"Итоговый SMAPE:\", score, \"Количество деревьев:\", best_est, \";\",\"Максимальная глубина:\", depth)"
   ]
  },
  {
   "cell_type": "markdown",
   "metadata": {},
   "source": []
  },
  {
   "cell_type": "markdown",
   "metadata": {},
   "source": [
    "## Чек-лист готовности проекта"
   ]
  },
  {
   "cell_type": "markdown",
   "metadata": {},
   "source": [
    "- [x]  Jupyter Notebook открыт\n",
    "- [x]  Весь код выполняется без ошибок\n",
    "- [x]  Ячейки с кодом расположены в порядке выполнения\n",
    "- [x]  Выполнен шаг 1: данные подготовлены\n",
    "    - [x]  Проверена формула вычисления эффективности обогащения\n",
    "    - [x]  Проанализированы признаки, недоступные в тестовой выборке\n",
    "    - [x]  Проведена предобработка данных\n",
    "- [x]  Выполнен шаг 2: данные проанализированы\n",
    "    - [x]  Исследовано изменение концентрации элементов на каждом этапе\n",
    "    - [x]  Проанализированы распределения размеров гранул на обучающей и тестовой выборках\n",
    "    - [x]  Исследованы суммарные концентрации\n",
    "- [x]  Выполнен шаг 3: построена модель прогнозирования\n",
    "    - [x]  Написана функция для вычисления итогового *sMAPE*\n",
    "    - [x]  Обучено и проверено несколько моделей\n",
    "    - [x]  Выбрана лучшая модель, её качество проверено на тестовой выборке"
   ]
  }
 ],
 "metadata": {
  "ExecuteTimeLog": [
   {
    "duration": 424,
    "start_time": "2021-08-15T20:17:33.445Z"
   },
   {
    "duration": 741,
    "start_time": "2021-08-15T20:17:46.744Z"
   },
   {
    "duration": 873,
    "start_time": "2021-08-15T20:17:49.497Z"
   },
   {
    "duration": 28,
    "start_time": "2021-08-15T20:21:22.030Z"
   },
   {
    "duration": 16,
    "start_time": "2021-08-15T20:22:02.866Z"
   },
   {
    "duration": 29,
    "start_time": "2021-08-15T20:22:24.221Z"
   },
   {
    "duration": 367,
    "start_time": "2021-08-15T20:22:48.225Z"
   },
   {
    "duration": 840,
    "start_time": "2021-08-15T20:24:38.103Z"
   },
   {
    "duration": 140,
    "start_time": "2021-08-15T20:24:59.910Z"
   },
   {
    "duration": 363,
    "start_time": "2021-08-15T20:25:06.463Z"
   },
   {
    "duration": 211,
    "start_time": "2021-08-15T20:25:12.419Z"
   },
   {
    "duration": 31,
    "start_time": "2021-08-15T20:38:22.365Z"
   },
   {
    "duration": 3,
    "start_time": "2021-08-15T20:40:44.488Z"
   },
   {
    "duration": 3,
    "start_time": "2021-08-15T20:41:00.327Z"
   },
   {
    "duration": 3,
    "start_time": "2021-08-15T20:41:05.435Z"
   },
   {
    "duration": 3,
    "start_time": "2021-08-15T20:41:10.862Z"
   },
   {
    "duration": 3,
    "start_time": "2021-08-15T20:41:14.426Z"
   },
   {
    "duration": 123,
    "start_time": "2021-08-15T20:41:25.783Z"
   },
   {
    "duration": 3,
    "start_time": "2021-08-15T20:41:31.440Z"
   },
   {
    "duration": 30,
    "start_time": "2021-08-15T20:44:24.851Z"
   },
   {
    "duration": 24,
    "start_time": "2021-08-15T20:49:04.143Z"
   },
   {
    "duration": 477,
    "start_time": "2021-08-15T21:01:43.650Z"
   },
   {
    "duration": 360,
    "start_time": "2021-08-15T21:02:33.889Z"
   },
   {
    "duration": 114,
    "start_time": "2021-08-15T21:02:53.648Z"
   },
   {
    "duration": 428,
    "start_time": "2021-08-15T21:02:55.860Z"
   },
   {
    "duration": 347,
    "start_time": "2021-08-15T21:03:10.698Z"
   },
   {
    "duration": 343,
    "start_time": "2021-08-15T21:03:22.954Z"
   },
   {
    "duration": 339,
    "start_time": "2021-08-16T07:34:15.202Z"
   },
   {
    "duration": 718,
    "start_time": "2021-08-16T07:34:39.390Z"
   },
   {
    "duration": 943,
    "start_time": "2021-08-16T07:34:40.111Z"
   },
   {
    "duration": 26,
    "start_time": "2021-08-16T07:34:41.057Z"
   },
   {
    "duration": 5,
    "start_time": "2021-08-16T07:34:41.085Z"
   },
   {
    "duration": 6,
    "start_time": "2021-08-16T07:34:41.092Z"
   },
   {
    "duration": 391,
    "start_time": "2021-08-16T07:34:41.100Z"
   },
   {
    "duration": 4,
    "start_time": "2021-08-16T07:34:41.494Z"
   },
   {
    "duration": 6,
    "start_time": "2021-08-16T07:34:41.500Z"
   },
   {
    "duration": 58,
    "start_time": "2021-08-16T07:34:41.510Z"
   },
   {
    "duration": 363,
    "start_time": "2021-08-16T07:34:41.571Z"
   },
   {
    "duration": 459,
    "start_time": "2021-08-16T07:35:07.272Z"
   },
   {
    "duration": 14,
    "start_time": "2021-08-16T07:35:22.693Z"
   },
   {
    "duration": 9,
    "start_time": "2021-08-16T07:35:33.401Z"
   },
   {
    "duration": 696,
    "start_time": "2021-08-16T07:35:41.011Z"
   },
   {
    "duration": 738,
    "start_time": "2021-08-16T07:35:41.709Z"
   },
   {
    "duration": 34,
    "start_time": "2021-08-16T07:35:42.450Z"
   },
   {
    "duration": 2,
    "start_time": "2021-08-16T07:35:42.487Z"
   },
   {
    "duration": 13,
    "start_time": "2021-08-16T07:35:42.492Z"
   },
   {
    "duration": 374,
    "start_time": "2021-08-16T07:35:42.508Z"
   },
   {
    "duration": 3,
    "start_time": "2021-08-16T07:35:42.885Z"
   },
   {
    "duration": 6,
    "start_time": "2021-08-16T07:35:42.893Z"
   },
   {
    "duration": 39,
    "start_time": "2021-08-16T07:35:42.902Z"
   },
   {
    "duration": 34,
    "start_time": "2021-08-16T07:35:42.944Z"
   },
   {
    "duration": 645,
    "start_time": "2021-08-16T08:12:28.180Z"
   },
   {
    "duration": 4,
    "start_time": "2021-08-16T08:12:33.043Z"
   },
   {
    "duration": 6,
    "start_time": "2021-08-16T08:16:18.483Z"
   },
   {
    "duration": 19,
    "start_time": "2021-08-16T08:21:43.778Z"
   },
   {
    "duration": 26,
    "start_time": "2021-08-16T08:39:03.818Z"
   },
   {
    "duration": 197,
    "start_time": "2021-08-16T08:40:56.517Z"
   },
   {
    "duration": 495,
    "start_time": "2021-08-16T09:01:14.027Z"
   },
   {
    "duration": 6103,
    "start_time": "2021-08-16T09:01:33.644Z"
   },
   {
    "duration": 6560,
    "start_time": "2021-08-16T09:03:21.322Z"
   },
   {
    "duration": 7,
    "start_time": "2021-08-16T09:03:41.601Z"
   },
   {
    "duration": 6418,
    "start_time": "2021-08-16T09:03:54.883Z"
   },
   {
    "duration": 7,
    "start_time": "2021-08-16T09:04:12.875Z"
   },
   {
    "duration": 110,
    "start_time": "2021-08-16T09:04:43.215Z"
   },
   {
    "duration": 8,
    "start_time": "2021-08-16T09:06:51.988Z"
   },
   {
    "duration": 8,
    "start_time": "2021-08-16T09:07:20.695Z"
   },
   {
    "duration": 8,
    "start_time": "2021-08-16T09:07:46.625Z"
   },
   {
    "duration": 10,
    "start_time": "2021-08-16T09:07:59.286Z"
   },
   {
    "duration": 90,
    "start_time": "2021-08-16T09:08:04.135Z"
   },
   {
    "duration": 9,
    "start_time": "2021-08-16T09:08:17.466Z"
   },
   {
    "duration": 7,
    "start_time": "2021-08-16T09:08:22.909Z"
   },
   {
    "duration": 83,
    "start_time": "2021-08-16T09:33:31.829Z"
   },
   {
    "duration": 82,
    "start_time": "2021-08-16T09:33:49.485Z"
   },
   {
    "duration": 100,
    "start_time": "2021-08-16T09:34:02.871Z"
   },
   {
    "duration": 73,
    "start_time": "2021-08-16T09:34:13.521Z"
   },
   {
    "duration": 8,
    "start_time": "2021-08-16T09:34:16.674Z"
   },
   {
    "duration": 9,
    "start_time": "2021-08-16T09:34:30.951Z"
   },
   {
    "duration": 7,
    "start_time": "2021-08-16T09:35:52.058Z"
   },
   {
    "duration": 9,
    "start_time": "2021-08-16T09:36:20.313Z"
   },
   {
    "duration": 618,
    "start_time": "2021-08-16T10:23:45.218Z"
   },
   {
    "duration": 600,
    "start_time": "2021-08-16T10:24:41.314Z"
   },
   {
    "duration": 589,
    "start_time": "2021-08-16T10:26:41.983Z"
   },
   {
    "duration": 639,
    "start_time": "2021-08-16T10:28:38.040Z"
   },
   {
    "duration": 881,
    "start_time": "2021-08-16T10:29:27.265Z"
   },
   {
    "duration": 1154,
    "start_time": "2021-08-16T10:29:40.274Z"
   },
   {
    "duration": 1297,
    "start_time": "2021-08-16T10:30:46.774Z"
   },
   {
    "duration": 1201,
    "start_time": "2021-08-16T10:31:22.275Z"
   },
   {
    "duration": 3,
    "start_time": "2021-08-16T10:36:08.532Z"
   },
   {
    "duration": 828,
    "start_time": "2021-08-16T10:48:38.117Z"
   },
   {
    "duration": 940,
    "start_time": "2021-08-16T10:49:00.727Z"
   },
   {
    "duration": 1056,
    "start_time": "2021-08-16T10:49:55.311Z"
   },
   {
    "duration": 876,
    "start_time": "2021-08-16T10:50:48.133Z"
   },
   {
    "duration": 1243,
    "start_time": "2021-08-16T10:51:07.066Z"
   },
   {
    "duration": 1319,
    "start_time": "2021-08-16T10:51:24.180Z"
   },
   {
    "duration": 1176,
    "start_time": "2021-08-16T10:51:27.807Z"
   },
   {
    "duration": 871,
    "start_time": "2021-08-16T10:52:59.884Z"
   },
   {
    "duration": 7,
    "start_time": "2021-08-16T12:31:47.386Z"
   },
   {
    "duration": 1508,
    "start_time": "2021-08-16T12:33:58.298Z"
   },
   {
    "duration": 7,
    "start_time": "2021-08-16T12:37:50.841Z"
   },
   {
    "duration": 7,
    "start_time": "2021-08-16T12:38:07.012Z"
   },
   {
    "duration": 1204,
    "start_time": "2021-08-16T12:39:29.979Z"
   },
   {
    "duration": 5,
    "start_time": "2021-08-16T13:52:02.550Z"
   },
   {
    "duration": 4,
    "start_time": "2021-08-16T13:56:17.199Z"
   },
   {
    "duration": 340,
    "start_time": "2021-08-17T06:48:53.567Z"
   },
   {
    "duration": 248,
    "start_time": "2021-08-17T06:49:23.321Z"
   },
   {
    "duration": 1565,
    "start_time": "2021-08-17T06:49:29.882Z"
   },
   {
    "duration": 745,
    "start_time": "2021-08-17T06:49:31.450Z"
   },
   {
    "duration": 25,
    "start_time": "2021-08-17T06:49:32.198Z"
   },
   {
    "duration": 36,
    "start_time": "2021-08-17T06:49:32.226Z"
   },
   {
    "duration": 3,
    "start_time": "2021-08-17T06:49:32.264Z"
   },
   {
    "duration": 373,
    "start_time": "2021-08-17T06:49:32.270Z"
   },
   {
    "duration": 9,
    "start_time": "2021-08-17T06:49:32.645Z"
   },
   {
    "duration": 3,
    "start_time": "2021-08-17T06:49:32.658Z"
   },
   {
    "duration": 35,
    "start_time": "2021-08-17T06:49:32.664Z"
   },
   {
    "duration": 17,
    "start_time": "2021-08-17T06:49:32.702Z"
   },
   {
    "duration": 36,
    "start_time": "2021-08-17T06:49:32.722Z"
   },
   {
    "duration": 12,
    "start_time": "2021-08-17T06:49:32.761Z"
   },
   {
    "duration": 16,
    "start_time": "2021-08-17T06:49:32.776Z"
   },
   {
    "duration": 43,
    "start_time": "2021-08-17T06:49:32.795Z"
   },
   {
    "duration": 1605,
    "start_time": "2021-08-17T06:49:32.841Z"
   },
   {
    "duration": 1279,
    "start_time": "2021-08-17T06:49:34.454Z"
   },
   {
    "duration": 1182,
    "start_time": "2021-08-17T06:49:35.735Z"
   },
   {
    "duration": 869,
    "start_time": "2021-08-17T06:49:36.920Z"
   },
   {
    "duration": 941,
    "start_time": "2021-08-17T06:49:37.792Z"
   },
   {
    "duration": 20,
    "start_time": "2021-08-17T06:49:38.736Z"
   },
   {
    "duration": 1234,
    "start_time": "2021-08-17T06:49:38.759Z"
   },
   {
    "duration": 5,
    "start_time": "2021-08-17T06:49:39.995Z"
   },
   {
    "duration": 425,
    "start_time": "2021-08-17T06:49:40.003Z"
   },
   {
    "duration": 369,
    "start_time": "2021-08-17T06:50:02.479Z"
   },
   {
    "duration": 25,
    "start_time": "2021-08-17T06:50:19.328Z"
   },
   {
    "duration": 6,
    "start_time": "2021-08-17T06:54:36.288Z"
   },
   {
    "duration": 316,
    "start_time": "2021-08-17T06:55:38.701Z"
   },
   {
    "duration": 6,
    "start_time": "2021-08-17T07:00:09.871Z"
   },
   {
    "duration": 13,
    "start_time": "2021-08-17T07:00:32.688Z"
   },
   {
    "duration": 13,
    "start_time": "2021-08-17T07:00:57.829Z"
   },
   {
    "duration": 12,
    "start_time": "2021-08-17T07:01:11.038Z"
   },
   {
    "duration": 8,
    "start_time": "2021-08-17T07:01:38.075Z"
   },
   {
    "duration": 12,
    "start_time": "2021-08-17T07:01:46.763Z"
   },
   {
    "duration": 285,
    "start_time": "2021-08-17T07:03:40.221Z"
   },
   {
    "duration": 13,
    "start_time": "2021-08-17T07:03:54.141Z"
   },
   {
    "duration": 301,
    "start_time": "2021-08-17T07:07:22.831Z"
   },
   {
    "duration": 322,
    "start_time": "2021-08-17T07:08:10.135Z"
   },
   {
    "duration": 288,
    "start_time": "2021-08-17T07:08:29.349Z"
   },
   {
    "duration": 299,
    "start_time": "2021-08-17T07:08:38.697Z"
   },
   {
    "duration": 4,
    "start_time": "2021-08-17T07:08:52.084Z"
   },
   {
    "duration": 5,
    "start_time": "2021-08-17T07:09:03.441Z"
   },
   {
    "duration": 11,
    "start_time": "2021-08-17T07:09:13.085Z"
   },
   {
    "duration": 281,
    "start_time": "2021-08-17T07:14:30.086Z"
   },
   {
    "duration": 268,
    "start_time": "2021-08-17T07:14:44.097Z"
   },
   {
    "duration": 295,
    "start_time": "2021-08-17T07:15:00.756Z"
   },
   {
    "duration": 365,
    "start_time": "2021-08-17T07:15:48.178Z"
   },
   {
    "duration": 25,
    "start_time": "2021-08-17T07:16:16.841Z"
   },
   {
    "duration": 407,
    "start_time": "2021-08-17T07:43:54.519Z"
   },
   {
    "duration": 43,
    "start_time": "2021-08-17T07:44:19.215Z"
   },
   {
    "duration": 23,
    "start_time": "2021-08-17T07:44:25.708Z"
   },
   {
    "duration": 364,
    "start_time": "2021-08-17T07:44:52.915Z"
   },
   {
    "duration": 758,
    "start_time": "2021-08-17T07:45:40.699Z"
   },
   {
    "duration": 347,
    "start_time": "2021-08-17T07:46:39.902Z"
   },
   {
    "duration": 363,
    "start_time": "2021-08-17T07:47:00.739Z"
   },
   {
    "duration": 12,
    "start_time": "2021-08-17T07:47:41.418Z"
   },
   {
    "duration": 307,
    "start_time": "2021-08-17T07:48:04.903Z"
   },
   {
    "duration": 266,
    "start_time": "2021-08-17T07:48:16.614Z"
   },
   {
    "duration": 275,
    "start_time": "2021-08-17T07:48:25.299Z"
   },
   {
    "duration": 24,
    "start_time": "2021-08-17T07:48:33.160Z"
   },
   {
    "duration": 1535,
    "start_time": "2021-08-17T07:51:35.349Z"
   },
   {
    "duration": 747,
    "start_time": "2021-08-17T07:51:36.887Z"
   },
   {
    "duration": 35,
    "start_time": "2021-08-17T07:51:37.637Z"
   },
   {
    "duration": 17,
    "start_time": "2021-08-17T07:51:37.675Z"
   },
   {
    "duration": 26,
    "start_time": "2021-08-17T07:51:37.695Z"
   },
   {
    "duration": 405,
    "start_time": "2021-08-17T07:51:37.724Z"
   },
   {
    "duration": 3,
    "start_time": "2021-08-17T07:51:38.131Z"
   },
   {
    "duration": 16,
    "start_time": "2021-08-17T07:51:38.138Z"
   },
   {
    "duration": 40,
    "start_time": "2021-08-17T07:51:38.156Z"
   },
   {
    "duration": 18,
    "start_time": "2021-08-17T07:51:38.198Z"
   },
   {
    "duration": 9,
    "start_time": "2021-08-17T07:51:38.218Z"
   },
   {
    "duration": 27,
    "start_time": "2021-08-17T07:51:38.229Z"
   },
   {
    "duration": 15,
    "start_time": "2021-08-17T07:51:38.260Z"
   },
   {
    "duration": 12,
    "start_time": "2021-08-17T07:51:38.278Z"
   },
   {
    "duration": 1212,
    "start_time": "2021-08-17T07:51:38.293Z"
   },
   {
    "duration": 1230,
    "start_time": "2021-08-17T07:51:39.507Z"
   },
   {
    "duration": 1163,
    "start_time": "2021-08-17T07:51:40.739Z"
   },
   {
    "duration": 889,
    "start_time": "2021-08-17T07:51:41.906Z"
   },
   {
    "duration": 1016,
    "start_time": "2021-08-17T07:51:42.798Z"
   },
   {
    "duration": 8,
    "start_time": "2021-08-17T07:51:43.818Z"
   },
   {
    "duration": 1247,
    "start_time": "2021-08-17T07:51:43.829Z"
   },
   {
    "duration": 5,
    "start_time": "2021-08-17T07:51:45.079Z"
   },
   {
    "duration": 40,
    "start_time": "2021-08-17T07:51:45.088Z"
   },
   {
    "duration": 5,
    "start_time": "2021-08-17T07:51:45.131Z"
   },
   {
    "duration": 32,
    "start_time": "2021-08-17T07:51:45.139Z"
   },
   {
    "duration": 24,
    "start_time": "2021-08-17T07:51:45.174Z"
   },
   {
    "duration": 19,
    "start_time": "2021-08-17T07:52:00.497Z"
   },
   {
    "duration": 4,
    "start_time": "2021-08-17T07:52:26.832Z"
   },
   {
    "duration": 55,
    "start_time": "2021-08-17T07:53:01.291Z"
   },
   {
    "duration": 13,
    "start_time": "2021-08-17T07:53:18.851Z"
   },
   {
    "duration": 53,
    "start_time": "2021-08-17T07:53:30.630Z"
   },
   {
    "duration": 411,
    "start_time": "2021-08-17T07:54:16.911Z"
   },
   {
    "duration": 56,
    "start_time": "2021-08-17T07:54:57.213Z"
   },
   {
    "duration": 14,
    "start_time": "2021-08-17T07:55:02.592Z"
   },
   {
    "duration": 49,
    "start_time": "2021-08-17T07:55:42.442Z"
   },
   {
    "duration": 12,
    "start_time": "2021-08-17T07:55:50.531Z"
   },
   {
    "duration": 19,
    "start_time": "2021-08-17T07:56:06.377Z"
   },
   {
    "duration": 17,
    "start_time": "2021-08-17T07:56:39.458Z"
   },
   {
    "duration": 15,
    "start_time": "2021-08-17T07:56:54.747Z"
   },
   {
    "duration": 27,
    "start_time": "2021-08-17T07:57:54.777Z"
   },
   {
    "duration": 15,
    "start_time": "2021-08-17T07:59:11.353Z"
   },
   {
    "duration": 23,
    "start_time": "2021-08-17T07:59:19.687Z"
   },
   {
    "duration": 12,
    "start_time": "2021-08-17T08:00:01.106Z"
   },
   {
    "duration": 22,
    "start_time": "2021-08-17T08:00:04.167Z"
   },
   {
    "duration": 11,
    "start_time": "2021-08-17T08:00:33.364Z"
   },
   {
    "duration": 22,
    "start_time": "2021-08-17T08:00:35.712Z"
   },
   {
    "duration": 11,
    "start_time": "2021-08-17T08:01:01.951Z"
   },
   {
    "duration": 24,
    "start_time": "2021-08-17T08:01:05.192Z"
   },
   {
    "duration": 3,
    "start_time": "2021-08-17T09:09:18.972Z"
   },
   {
    "duration": 3,
    "start_time": "2021-08-17T09:09:21.494Z"
   },
   {
    "duration": 3,
    "start_time": "2021-08-17T09:09:27.103Z"
   },
   {
    "duration": 3,
    "start_time": "2021-08-17T09:09:30.636Z"
   },
   {
    "duration": 3,
    "start_time": "2021-08-17T09:09:34.330Z"
   },
   {
    "duration": 3,
    "start_time": "2021-08-17T09:09:37.127Z"
   },
   {
    "duration": 3,
    "start_time": "2021-08-17T09:09:42.458Z"
   },
   {
    "duration": 46,
    "start_time": "2021-08-17T09:10:46.270Z"
   },
   {
    "duration": 11,
    "start_time": "2021-08-17T09:10:55.007Z"
   },
   {
    "duration": 462,
    "start_time": "2021-08-17T09:11:02.958Z"
   },
   {
    "duration": 13,
    "start_time": "2021-08-17T09:11:14.280Z"
   },
   {
    "duration": 24,
    "start_time": "2021-08-17T09:11:21.878Z"
   },
   {
    "duration": 309,
    "start_time": "2021-08-17T09:12:45.783Z"
   },
   {
    "duration": 4,
    "start_time": "2021-08-17T09:15:36.756Z"
   },
   {
    "duration": 18,
    "start_time": "2021-08-17T09:15:39.524Z"
   },
   {
    "duration": 316,
    "start_time": "2021-08-17T09:15:42.020Z"
   },
   {
    "duration": 396,
    "start_time": "2021-08-17T09:20:27.558Z"
   },
   {
    "duration": 272,
    "start_time": "2021-08-17T09:20:37.995Z"
   },
   {
    "duration": 6,
    "start_time": "2021-08-17T09:21:42.513Z"
   },
   {
    "duration": 298,
    "start_time": "2021-08-17T09:22:04.976Z"
   },
   {
    "duration": 368,
    "start_time": "2021-08-17T09:22:20.119Z"
   },
   {
    "duration": 374,
    "start_time": "2021-08-17T09:37:28.589Z"
   },
   {
    "duration": 383,
    "start_time": "2021-08-17T10:33:01.641Z"
   },
   {
    "duration": 441,
    "start_time": "2021-08-17T10:35:07.673Z"
   },
   {
    "duration": 334,
    "start_time": "2021-08-17T10:36:41.489Z"
   },
   {
    "duration": 434,
    "start_time": "2021-08-17T10:40:18.020Z"
   },
   {
    "duration": 289,
    "start_time": "2021-08-17T11:01:41.769Z"
   },
   {
    "duration": 301,
    "start_time": "2021-08-17T11:07:14.790Z"
   },
   {
    "duration": 408,
    "start_time": "2021-08-17T11:07:57.306Z"
   },
   {
    "duration": 1365,
    "start_time": "2021-08-17T11:12:55.698Z"
   },
   {
    "duration": 1373,
    "start_time": "2021-08-17T11:14:00.804Z"
   },
   {
    "duration": 311,
    "start_time": "2021-08-17T11:15:49.616Z"
   },
   {
    "duration": 6,
    "start_time": "2021-08-17T11:16:07.699Z"
   },
   {
    "duration": 438154,
    "start_time": "2021-08-17T11:16:13.295Z"
   },
   {
    "duration": 18,
    "start_time": "2021-08-17T11:23:31.455Z"
   },
   {
    "duration": 29,
    "start_time": "2021-08-17T11:23:31.475Z"
   },
   {
    "duration": 17,
    "start_time": "2021-08-17T11:23:50.023Z"
   },
   {
    "duration": 19,
    "start_time": "2021-08-17T11:23:51.934Z"
   },
   {
    "duration": 409,
    "start_time": "2021-08-17T11:24:27.029Z"
   },
   {
    "duration": 1387,
    "start_time": "2021-08-17T11:24:41.938Z"
   },
   {
    "duration": 1389,
    "start_time": "2021-08-17T11:25:38.402Z"
   },
   {
    "duration": 93,
    "start_time": "2021-08-17T11:27:29.974Z"
   },
   {
    "duration": 1617,
    "start_time": "2021-08-17T11:27:41.115Z"
   },
   {
    "duration": 1636,
    "start_time": "2021-08-17T11:28:49.338Z"
   },
   {
    "duration": 279,
    "start_time": "2021-08-17T11:34:46.015Z"
   },
   {
    "duration": 390,
    "start_time": "2021-08-17T11:35:06.884Z"
   },
   {
    "duration": 382,
    "start_time": "2021-08-17T11:35:31.196Z"
   },
   {
    "duration": 611,
    "start_time": "2021-08-17T11:35:49.330Z"
   },
   {
    "duration": 3865,
    "start_time": "2021-08-17T11:36:09.890Z"
   },
   {
    "duration": 623,
    "start_time": "2021-08-17T11:38:11.800Z"
   },
   {
    "duration": 286,
    "start_time": "2021-08-17T11:41:54.987Z"
   },
   {
    "duration": 14,
    "start_time": "2021-08-17T11:42:33.529Z"
   },
   {
    "duration": 16,
    "start_time": "2021-08-17T11:42:36.316Z"
   },
   {
    "duration": 660,
    "start_time": "2021-08-17T11:43:05.571Z"
   },
   {
    "duration": 826,
    "start_time": "2021-08-17T11:45:07.036Z"
   },
   {
    "duration": 906918,
    "start_time": "2021-08-17T11:48:37.552Z"
   },
   {
    "duration": 852809,
    "start_time": "2021-08-17T12:14:02.821Z"
   },
   {
    "duration": 301,
    "start_time": "2021-08-17T12:38:44.957Z"
   },
   {
    "duration": 7254,
    "start_time": "2021-08-17T12:38:53.740Z"
   },
   {
    "duration": 1354,
    "start_time": "2021-08-17T12:38:59.643Z"
   },
   {
    "duration": 3,
    "start_time": "2021-08-17T12:40:29.808Z"
   },
   {
    "duration": 3,
    "start_time": "2021-08-17T12:40:34.220Z"
   },
   {
    "duration": 1572,
    "start_time": "2021-08-17T13:26:11.526Z"
   },
   {
    "duration": 1025,
    "start_time": "2021-08-17T13:26:13.101Z"
   },
   {
    "duration": 25,
    "start_time": "2021-08-17T13:27:45.042Z"
   },
   {
    "duration": 16,
    "start_time": "2021-08-17T13:27:45.207Z"
   },
   {
    "duration": 25,
    "start_time": "2021-08-17T13:27:45.733Z"
   },
   {
    "duration": 363,
    "start_time": "2021-08-17T13:27:46.329Z"
   },
   {
    "duration": 3,
    "start_time": "2021-08-17T13:27:47.551Z"
   },
   {
    "duration": 3,
    "start_time": "2021-08-17T13:27:48.159Z"
   },
   {
    "duration": 31,
    "start_time": "2021-08-17T13:27:50.119Z"
   },
   {
    "duration": 15,
    "start_time": "2021-08-17T13:27:50.305Z"
   },
   {
    "duration": 6,
    "start_time": "2021-08-17T13:27:53.263Z"
   },
   {
    "duration": 8,
    "start_time": "2021-08-17T13:37:25.455Z"
   },
   {
    "duration": 8,
    "start_time": "2021-08-17T13:37:26.464Z"
   },
   {
    "duration": 8,
    "start_time": "2021-08-17T13:37:27.593Z"
   },
   {
    "duration": 1239,
    "start_time": "2021-08-17T13:37:29.488Z"
   },
   {
    "duration": 1268,
    "start_time": "2021-08-17T13:37:30.731Z"
   },
   {
    "duration": 1171,
    "start_time": "2021-08-17T13:37:32.002Z"
   },
   {
    "duration": 855,
    "start_time": "2021-08-17T13:40:18.040Z"
   },
   {
    "duration": 976,
    "start_time": "2021-08-17T13:40:18.898Z"
   },
   {
    "duration": 6,
    "start_time": "2021-08-17T13:41:53.538Z"
   },
   {
    "duration": 1204,
    "start_time": "2021-08-17T13:41:54.026Z"
   },
   {
    "duration": 14,
    "start_time": "2021-08-17T13:42:05.129Z"
   },
   {
    "duration": 16,
    "start_time": "2021-08-17T13:42:05.537Z"
   },
   {
    "duration": 27,
    "start_time": "2021-08-17T13:42:05.777Z"
   },
   {
    "duration": 4,
    "start_time": "2021-08-17T13:45:44.945Z"
   },
   {
    "duration": 25,
    "start_time": "2021-08-17T13:45:46.643Z"
   },
   {
    "duration": 25,
    "start_time": "2021-08-17T13:45:47.515Z"
   },
   {
    "duration": 5,
    "start_time": "2021-08-17T13:46:32.290Z"
   },
   {
    "duration": 411,
    "start_time": "2021-08-17T14:13:36.259Z"
   },
   {
    "duration": 1830,
    "start_time": "2021-08-17T14:13:45.368Z"
   },
   {
    "duration": 743,
    "start_time": "2021-08-17T14:13:47.202Z"
   },
   {
    "duration": 26,
    "start_time": "2021-08-17T14:13:47.953Z"
   },
   {
    "duration": 16,
    "start_time": "2021-08-17T14:13:47.981Z"
   },
   {
    "duration": 27,
    "start_time": "2021-08-17T14:13:48.000Z"
   },
   {
    "duration": 376,
    "start_time": "2021-08-17T14:13:48.055Z"
   },
   {
    "duration": 42,
    "start_time": "2021-08-17T14:13:48.434Z"
   },
   {
    "duration": 13,
    "start_time": "2021-08-17T14:13:48.479Z"
   },
   {
    "duration": 6,
    "start_time": "2021-08-17T14:13:48.496Z"
   },
   {
    "duration": 9,
    "start_time": "2021-08-17T14:13:48.505Z"
   },
   {
    "duration": 45,
    "start_time": "2021-08-17T14:13:48.516Z"
   },
   {
    "duration": 10,
    "start_time": "2021-08-17T14:13:48.564Z"
   },
   {
    "duration": 1169,
    "start_time": "2021-08-17T14:13:48.577Z"
   },
   {
    "duration": 1341,
    "start_time": "2021-08-17T14:13:49.753Z"
   },
   {
    "duration": 1267,
    "start_time": "2021-08-17T14:13:51.096Z"
   },
   {
    "duration": 1402,
    "start_time": "2021-08-17T14:13:52.366Z"
   },
   {
    "duration": 1397,
    "start_time": "2021-08-17T14:13:53.771Z"
   },
   {
    "duration": 6,
    "start_time": "2021-08-17T14:13:55.170Z"
   },
   {
    "duration": 1177,
    "start_time": "2021-08-17T14:13:55.178Z"
   },
   {
    "duration": 14,
    "start_time": "2021-08-17T14:13:56.358Z"
   },
   {
    "duration": 27,
    "start_time": "2021-08-17T14:13:56.374Z"
   },
   {
    "duration": 28,
    "start_time": "2021-08-17T14:13:56.404Z"
   },
   {
    "duration": 4,
    "start_time": "2021-08-17T14:13:56.455Z"
   },
   {
    "duration": 27,
    "start_time": "2021-08-17T14:13:56.462Z"
   },
   {
    "duration": 23,
    "start_time": "2021-08-17T14:13:56.491Z"
   },
   {
    "duration": 5,
    "start_time": "2021-08-17T14:13:56.517Z"
   },
   {
    "duration": 3649,
    "start_time": "2021-08-17T14:13:56.556Z"
   },
   {
    "duration": 949,
    "start_time": "2021-08-17T14:14:00.208Z"
   },
   {
    "duration": 1162068,
    "start_time": "2021-08-17T14:14:01.160Z"
   },
   {
    "duration": 4,
    "start_time": "2021-08-17T14:33:23.231Z"
   },
   {
    "duration": 19,
    "start_time": "2021-08-17T14:33:23.238Z"
   },
   {
    "duration": 429,
    "start_time": "2021-08-17T14:33:23.264Z"
   },
   {
    "duration": 102,
    "start_time": "2021-08-17T14:34:50.738Z"
   },
   {
    "duration": 90,
    "start_time": "2021-08-17T14:35:03.295Z"
   },
   {
    "duration": 23,
    "start_time": "2021-08-17T14:35:28.771Z"
   },
   {
    "duration": 301,
    "start_time": "2021-08-17T14:36:23.925Z"
   },
   {
    "duration": 23,
    "start_time": "2021-08-17T14:36:32.340Z"
   },
   {
    "duration": 23,
    "start_time": "2021-08-17T14:36:44.333Z"
   },
   {
    "duration": 6,
    "start_time": "2021-08-17T14:37:15.834Z"
   },
   {
    "duration": 656,
    "start_time": "2021-08-17T14:51:30.018Z"
   },
   {
    "duration": 6,
    "start_time": "2021-08-17T14:51:52.002Z"
   },
   {
    "duration": 268,
    "start_time": "2021-08-17T14:51:57.011Z"
   },
   {
    "duration": 302,
    "start_time": "2021-08-17T14:55:57.667Z"
   },
   {
    "duration": 264,
    "start_time": "2021-08-17T14:56:35.918Z"
   },
   {
    "duration": 6,
    "start_time": "2021-08-17T15:03:27.210Z"
   },
   {
    "duration": 7,
    "start_time": "2021-08-17T15:04:13.432Z"
   },
   {
    "duration": 16,
    "start_time": "2021-08-17T15:07:09.214Z"
   },
   {
    "duration": 13,
    "start_time": "2021-08-17T15:08:57.165Z"
   },
   {
    "duration": 576,
    "start_time": "2021-08-17T15:09:53.414Z"
   },
   {
    "duration": 596,
    "start_time": "2021-08-17T15:10:38.993Z"
   },
   {
    "duration": 9,
    "start_time": "2021-08-17T15:10:59.156Z"
   },
   {
    "duration": 8,
    "start_time": "2021-08-17T15:11:45.898Z"
   },
   {
    "duration": 14,
    "start_time": "2021-08-17T15:12:54.536Z"
   },
   {
    "duration": 18,
    "start_time": "2021-08-17T15:13:49.093Z"
   },
   {
    "duration": 13,
    "start_time": "2021-08-17T15:14:53.147Z"
   },
   {
    "duration": 296,
    "start_time": "2021-08-17T15:20:50.396Z"
   },
   {
    "duration": 286,
    "start_time": "2021-08-17T15:24:06.348Z"
   },
   {
    "duration": 421,
    "start_time": "2021-08-18T06:50:09.872Z"
   },
   {
    "duration": 1606,
    "start_time": "2021-08-18T06:50:27.448Z"
   },
   {
    "duration": 801,
    "start_time": "2021-08-18T06:50:29.057Z"
   },
   {
    "duration": 33,
    "start_time": "2021-08-18T06:50:29.866Z"
   },
   {
    "duration": 16,
    "start_time": "2021-08-18T06:50:29.902Z"
   },
   {
    "duration": 60,
    "start_time": "2021-08-18T06:50:29.921Z"
   },
   {
    "duration": 425,
    "start_time": "2021-08-18T06:50:29.985Z"
   },
   {
    "duration": 32,
    "start_time": "2021-08-18T06:50:30.412Z"
   },
   {
    "duration": 34,
    "start_time": "2021-08-18T06:50:30.447Z"
   },
   {
    "duration": 6,
    "start_time": "2021-08-18T06:50:30.627Z"
   },
   {
    "duration": 9,
    "start_time": "2021-08-18T06:50:32.490Z"
   },
   {
    "duration": 9,
    "start_time": "2021-08-18T06:50:32.658Z"
   },
   {
    "duration": 9,
    "start_time": "2021-08-18T06:50:32.842Z"
   },
   {
    "duration": 1202,
    "start_time": "2021-08-18T06:50:33.833Z"
   },
   {
    "duration": 1335,
    "start_time": "2021-08-18T06:50:35.037Z"
   },
   {
    "duration": 1256,
    "start_time": "2021-08-18T06:50:36.376Z"
   },
   {
    "duration": 925,
    "start_time": "2021-08-18T06:50:37.634Z"
   },
   {
    "duration": 1051,
    "start_time": "2021-08-18T06:50:38.562Z"
   },
   {
    "duration": 7,
    "start_time": "2021-08-18T06:50:39.620Z"
   },
   {
    "duration": 1221,
    "start_time": "2021-08-18T06:50:39.794Z"
   },
   {
    "duration": 14,
    "start_time": "2021-08-18T06:50:41.018Z"
   },
   {
    "duration": 14,
    "start_time": "2021-08-18T06:50:41.267Z"
   },
   {
    "duration": 23,
    "start_time": "2021-08-18T06:50:41.449Z"
   },
   {
    "duration": 5,
    "start_time": "2021-08-18T06:50:43.010Z"
   },
   {
    "duration": 27,
    "start_time": "2021-08-18T06:50:43.785Z"
   },
   {
    "duration": 25,
    "start_time": "2021-08-18T06:50:44.034Z"
   },
   {
    "duration": 6,
    "start_time": "2021-08-18T06:50:44.513Z"
   },
   {
    "duration": 8,
    "start_time": "2021-08-18T06:50:45.089Z"
   },
   {
    "duration": 15,
    "start_time": "2021-08-18T06:50:45.698Z"
   },
   {
    "duration": 15,
    "start_time": "2021-08-18T06:50:45.881Z"
   },
   {
    "duration": 2227,
    "start_time": "2021-08-18T06:50:46.730Z"
   },
   {
    "duration": 433,
    "start_time": "2021-08-18T06:50:49.242Z"
   },
   {
    "duration": 702603,
    "start_time": "2021-08-18T06:51:00.070Z"
   },
   {
    "duration": 463,
    "start_time": "2021-08-18T07:05:58.272Z"
   },
   {
    "duration": 97,
    "start_time": "2021-08-18T11:58:54.380Z"
   },
   {
    "duration": 349,
    "start_time": "2021-08-18T15:26:36.063Z"
   },
   {
    "duration": 1275,
    "start_time": "2021-08-18T15:26:47.254Z"
   },
   {
    "duration": 2175,
    "start_time": "2021-08-18T15:26:48.531Z"
   },
   {
    "duration": 19,
    "start_time": "2021-08-18T15:26:50.708Z"
   },
   {
    "duration": 12,
    "start_time": "2021-08-18T15:26:50.741Z"
   },
   {
    "duration": 16,
    "start_time": "2021-08-18T15:26:50.755Z"
   },
   {
    "duration": 263,
    "start_time": "2021-08-18T15:26:50.773Z"
   },
   {
    "duration": 25,
    "start_time": "2021-08-18T15:26:51.038Z"
   },
   {
    "duration": 17,
    "start_time": "2021-08-18T15:26:51.067Z"
   },
   {
    "duration": 5,
    "start_time": "2021-08-18T15:26:51.087Z"
   },
   {
    "duration": 11,
    "start_time": "2021-08-18T15:26:51.095Z"
   },
   {
    "duration": 37,
    "start_time": "2021-08-18T15:26:51.109Z"
   },
   {
    "duration": 18,
    "start_time": "2021-08-18T15:26:51.148Z"
   },
   {
    "duration": 1036,
    "start_time": "2021-08-18T15:26:51.168Z"
   },
   {
    "duration": 1150,
    "start_time": "2021-08-18T15:26:52.206Z"
   },
   {
    "duration": 1122,
    "start_time": "2021-08-18T15:26:53.359Z"
   },
   {
    "duration": 798,
    "start_time": "2021-08-18T15:26:54.484Z"
   },
   {
    "duration": 976,
    "start_time": "2021-08-18T15:26:55.285Z"
   },
   {
    "duration": 7,
    "start_time": "2021-08-18T15:26:56.263Z"
   },
   {
    "duration": 828,
    "start_time": "2021-08-18T15:26:56.273Z"
   },
   {
    "duration": 15,
    "start_time": "2021-08-18T15:26:57.104Z"
   },
   {
    "duration": 24,
    "start_time": "2021-08-18T15:26:57.121Z"
   },
   {
    "duration": 17,
    "start_time": "2021-08-18T15:26:57.147Z"
   },
   {
    "duration": 3,
    "start_time": "2021-08-18T15:26:57.169Z"
   },
   {
    "duration": 24,
    "start_time": "2021-08-18T15:26:57.174Z"
   },
   {
    "duration": 56,
    "start_time": "2021-08-18T15:26:57.200Z"
   },
   {
    "duration": 5,
    "start_time": "2021-08-18T15:26:57.258Z"
   },
   {
    "duration": 7,
    "start_time": "2021-08-18T15:26:57.266Z"
   },
   {
    "duration": 17,
    "start_time": "2021-08-18T15:26:57.275Z"
   },
   {
    "duration": 47,
    "start_time": "2021-08-18T15:26:57.295Z"
   },
   {
    "duration": 1868,
    "start_time": "2021-08-18T15:26:57.344Z"
   },
   {
    "duration": 527,
    "start_time": "2021-08-18T15:26:59.214Z"
   },
   {
    "duration": 1292,
    "start_time": "2021-08-18T15:29:40.529Z"
   },
   {
    "duration": 687,
    "start_time": "2021-08-18T15:29:41.823Z"
   },
   {
    "duration": 27,
    "start_time": "2021-08-18T15:29:42.514Z"
   },
   {
    "duration": 14,
    "start_time": "2021-08-18T15:29:42.543Z"
   },
   {
    "duration": 18,
    "start_time": "2021-08-18T15:29:42.559Z"
   },
   {
    "duration": 280,
    "start_time": "2021-08-18T15:29:42.579Z"
   },
   {
    "duration": 20,
    "start_time": "2021-08-18T15:29:42.862Z"
   },
   {
    "duration": 23,
    "start_time": "2021-08-18T15:29:42.885Z"
   },
   {
    "duration": 5,
    "start_time": "2021-08-18T15:29:42.910Z"
   },
   {
    "duration": 27,
    "start_time": "2021-08-18T15:29:42.917Z"
   },
   {
    "duration": 6,
    "start_time": "2021-08-18T15:29:42.946Z"
   },
   {
    "duration": 13,
    "start_time": "2021-08-18T15:29:42.953Z"
   },
   {
    "duration": 1060,
    "start_time": "2021-08-18T15:29:42.969Z"
   },
   {
    "duration": 786,
    "start_time": "2021-08-18T15:29:44.031Z"
   },
   {
    "duration": 725,
    "start_time": "2021-08-18T15:29:44.818Z"
   },
   {
    "duration": 524,
    "start_time": "2021-08-18T15:29:45.545Z"
   },
   {
    "duration": 642,
    "start_time": "2021-08-18T15:29:46.071Z"
   },
   {
    "duration": 6,
    "start_time": "2021-08-18T15:29:46.715Z"
   },
   {
    "duration": 743,
    "start_time": "2021-08-18T15:29:46.723Z"
   },
   {
    "duration": 13,
    "start_time": "2021-08-18T15:29:47.469Z"
   },
   {
    "duration": 13,
    "start_time": "2021-08-18T15:29:47.484Z"
   },
   {
    "duration": 42,
    "start_time": "2021-08-18T15:29:47.502Z"
   },
   {
    "duration": 4,
    "start_time": "2021-08-18T15:29:47.546Z"
   },
   {
    "duration": 29,
    "start_time": "2021-08-18T15:29:47.552Z"
   },
   {
    "duration": 22,
    "start_time": "2021-08-18T15:29:47.583Z"
   },
   {
    "duration": 4,
    "start_time": "2021-08-18T15:29:47.607Z"
   },
   {
    "duration": 6,
    "start_time": "2021-08-18T15:29:47.642Z"
   },
   {
    "duration": 14,
    "start_time": "2021-08-18T15:29:47.650Z"
   },
   {
    "duration": 14,
    "start_time": "2021-08-18T15:29:47.666Z"
   },
   {
    "duration": 2023,
    "start_time": "2021-08-18T15:29:47.682Z"
   },
   {
    "duration": 442,
    "start_time": "2021-08-18T15:29:49.706Z"
   },
   {
    "duration": 6375,
    "start_time": "2021-08-18T15:29:50.150Z"
   },
   {
    "duration": 1511,
    "start_time": "2021-08-18T15:29:56.527Z"
   },
   {
    "duration": 3597,
    "start_time": "2021-08-18T15:29:54.444Z"
   },
   {
    "duration": 4278,
    "start_time": "2021-08-23T12:18:49.387Z"
   },
   {
    "duration": 915,
    "start_time": "2021-08-23T12:18:53.667Z"
   },
   {
    "duration": 15,
    "start_time": "2021-08-23T12:18:54.584Z"
   },
   {
    "duration": 24,
    "start_time": "2021-08-23T12:18:54.601Z"
   },
   {
    "duration": 28,
    "start_time": "2021-08-23T12:18:54.627Z"
   },
   {
    "duration": 221,
    "start_time": "2021-08-23T12:18:54.657Z"
   },
   {
    "duration": 17,
    "start_time": "2021-08-23T12:18:54.880Z"
   },
   {
    "duration": 18,
    "start_time": "2021-08-23T12:18:54.899Z"
   },
   {
    "duration": 27,
    "start_time": "2021-08-23T12:18:54.919Z"
   },
   {
    "duration": 6,
    "start_time": "2021-08-23T12:18:59.785Z"
   },
   {
    "duration": 7,
    "start_time": "2021-08-23T12:19:00.488Z"
   },
   {
    "duration": 5,
    "start_time": "2021-08-23T12:19:00.697Z"
   },
   {
    "duration": 725,
    "start_time": "2021-08-23T12:19:02.448Z"
   },
   {
    "duration": 1866,
    "start_time": "2021-08-23T12:19:03.175Z"
   },
   {
    "duration": 1755,
    "start_time": "2021-08-23T12:19:05.044Z"
   },
   {
    "duration": 1000,
    "start_time": "2021-08-23T12:19:06.802Z"
   },
   {
    "duration": 1178,
    "start_time": "2021-08-23T12:19:07.805Z"
   },
   {
    "duration": 6,
    "start_time": "2021-08-23T12:19:08.985Z"
   },
   {
    "duration": 1234,
    "start_time": "2021-08-23T12:19:09.042Z"
   },
   {
    "duration": 63,
    "start_time": "2021-08-23T12:19:10.278Z"
   },
   {
    "duration": 10,
    "start_time": "2021-08-23T12:19:10.764Z"
   },
   {
    "duration": 16,
    "start_time": "2021-08-23T12:19:11.106Z"
   },
   {
    "duration": 22,
    "start_time": "2021-08-23T12:19:13.189Z"
   },
   {
    "duration": 18,
    "start_time": "2021-08-23T12:19:14.520Z"
   },
   {
    "duration": 18,
    "start_time": "2021-08-23T12:19:14.775Z"
   },
   {
    "duration": 4,
    "start_time": "2021-08-23T12:19:15.225Z"
   },
   {
    "duration": 5,
    "start_time": "2021-08-23T12:19:16.291Z"
   },
   {
    "duration": 11,
    "start_time": "2021-08-23T12:19:16.506Z"
   },
   {
    "duration": 10,
    "start_time": "2021-08-23T12:19:16.697Z"
   },
   {
    "duration": 2457,
    "start_time": "2021-08-23T12:19:17.568Z"
   },
   {
    "duration": 610,
    "start_time": "2021-08-23T12:19:24.041Z"
   },
   {
    "duration": 9,
    "start_time": "2021-08-23T12:30:33.088Z"
   },
   {
    "duration": 342,
    "start_time": "2021-08-23T12:47:55.351Z"
   },
   {
    "duration": 1212,
    "start_time": "2021-08-23T12:48:01.827Z"
   },
   {
    "duration": 612,
    "start_time": "2021-08-23T12:48:03.041Z"
   },
   {
    "duration": 30,
    "start_time": "2021-08-23T12:48:03.657Z"
   },
   {
    "duration": 10,
    "start_time": "2021-08-23T12:48:03.689Z"
   },
   {
    "duration": 15,
    "start_time": "2021-08-23T12:48:03.700Z"
   },
   {
    "duration": 257,
    "start_time": "2021-08-23T12:48:03.717Z"
   },
   {
    "duration": 27,
    "start_time": "2021-08-23T12:48:03.976Z"
   },
   {
    "duration": 12,
    "start_time": "2021-08-23T12:48:04.005Z"
   },
   {
    "duration": 4,
    "start_time": "2021-08-23T12:48:04.019Z"
   },
   {
    "duration": 7,
    "start_time": "2021-08-23T12:48:04.025Z"
   },
   {
    "duration": 7,
    "start_time": "2021-08-23T12:48:04.033Z"
   },
   {
    "duration": 46,
    "start_time": "2021-08-23T12:48:04.042Z"
   },
   {
    "duration": 758,
    "start_time": "2021-08-23T12:48:04.091Z"
   },
   {
    "duration": 829,
    "start_time": "2021-08-23T12:48:04.851Z"
   },
   {
    "duration": 762,
    "start_time": "2021-08-23T12:48:05.682Z"
   },
   {
    "duration": 571,
    "start_time": "2021-08-23T12:48:06.446Z"
   },
   {
    "duration": 640,
    "start_time": "2021-08-23T12:48:07.019Z"
   },
   {
    "duration": 5,
    "start_time": "2021-08-23T12:48:07.661Z"
   },
   {
    "duration": 762,
    "start_time": "2021-08-23T12:48:07.668Z"
   },
   {
    "duration": 12,
    "start_time": "2021-08-23T12:48:08.432Z"
   },
   {
    "duration": 10,
    "start_time": "2021-08-23T12:48:08.445Z"
   },
   {
    "duration": 36,
    "start_time": "2021-08-23T12:48:08.458Z"
   },
   {
    "duration": 3,
    "start_time": "2021-08-23T12:48:08.496Z"
   },
   {
    "duration": 22,
    "start_time": "2021-08-23T12:48:08.501Z"
   },
   {
    "duration": 24,
    "start_time": "2021-08-23T12:48:08.525Z"
   },
   {
    "duration": 4,
    "start_time": "2021-08-23T12:48:08.551Z"
   },
   {
    "duration": 28,
    "start_time": "2021-08-23T12:48:08.557Z"
   },
   {
    "duration": 14,
    "start_time": "2021-08-23T12:48:08.587Z"
   },
   {
    "duration": 12,
    "start_time": "2021-08-23T12:48:08.602Z"
   },
   {
    "duration": 1764,
    "start_time": "2021-08-23T12:48:08.615Z"
   },
   {
    "duration": 603,
    "start_time": "2021-08-23T12:48:10.385Z"
   },
   {
    "duration": 941,
    "start_time": "2021-08-23T12:48:10.990Z"
   },
   {
    "duration": 1144,
    "start_time": "2021-08-23T12:48:11.933Z"
   },
   {
    "duration": 583,
    "start_time": "2021-08-23T12:48:12.496Z"
   },
   {
    "duration": 582,
    "start_time": "2021-08-23T12:48:12.498Z"
   },
   {
    "duration": 813,
    "start_time": "2021-08-23T12:49:24.219Z"
   },
   {
    "duration": 1146,
    "start_time": "2021-08-23T12:52:31.181Z"
   },
   {
    "duration": 1042,
    "start_time": "2021-08-23T12:53:08.245Z"
   },
   {
    "duration": 1229,
    "start_time": "2021-08-23T12:56:06.210Z"
   },
   {
    "duration": 603,
    "start_time": "2021-08-23T12:56:07.441Z"
   },
   {
    "duration": 18,
    "start_time": "2021-08-23T12:56:08.046Z"
   },
   {
    "duration": 23,
    "start_time": "2021-08-23T12:56:08.066Z"
   },
   {
    "duration": 15,
    "start_time": "2021-08-23T12:56:08.091Z"
   },
   {
    "duration": 262,
    "start_time": "2021-08-23T12:56:08.108Z"
   },
   {
    "duration": 24,
    "start_time": "2021-08-23T12:56:08.372Z"
   },
   {
    "duration": 8,
    "start_time": "2021-08-23T12:56:08.399Z"
   },
   {
    "duration": 4,
    "start_time": "2021-08-23T12:56:08.410Z"
   },
   {
    "duration": 8,
    "start_time": "2021-08-23T12:56:08.416Z"
   },
   {
    "duration": 8,
    "start_time": "2021-08-23T12:56:08.425Z"
   },
   {
    "duration": 10,
    "start_time": "2021-08-23T12:56:08.434Z"
   },
   {
    "duration": 740,
    "start_time": "2021-08-23T12:56:08.485Z"
   },
   {
    "duration": 797,
    "start_time": "2021-08-23T12:56:09.227Z"
   },
   {
    "duration": 750,
    "start_time": "2021-08-23T12:56:10.026Z"
   },
   {
    "duration": 551,
    "start_time": "2021-08-23T12:56:10.778Z"
   },
   {
    "duration": 631,
    "start_time": "2021-08-23T12:56:11.331Z"
   },
   {
    "duration": 5,
    "start_time": "2021-08-23T12:56:11.963Z"
   },
   {
    "duration": 768,
    "start_time": "2021-08-23T12:56:11.969Z"
   },
   {
    "duration": 10,
    "start_time": "2021-08-23T12:56:12.739Z"
   },
   {
    "duration": 15,
    "start_time": "2021-08-23T12:56:12.751Z"
   },
   {
    "duration": 39,
    "start_time": "2021-08-23T12:56:12.767Z"
   },
   {
    "duration": 18,
    "start_time": "2021-08-23T12:56:12.809Z"
   },
   {
    "duration": 39,
    "start_time": "2021-08-23T12:56:12.830Z"
   },
   {
    "duration": 34,
    "start_time": "2021-08-23T12:56:12.871Z"
   },
   {
    "duration": 24,
    "start_time": "2021-08-23T12:56:12.907Z"
   },
   {
    "duration": 24,
    "start_time": "2021-08-23T12:56:12.933Z"
   },
   {
    "duration": 1703,
    "start_time": "2021-08-23T12:56:12.960Z"
   },
   {
    "duration": 622,
    "start_time": "2021-08-23T12:56:14.664Z"
   },
   {
    "duration": 908,
    "start_time": "2021-08-23T12:56:15.290Z"
   },
   {
    "duration": 1127,
    "start_time": "2021-08-23T12:56:16.200Z"
   },
   {
    "duration": 515,
    "start_time": "2021-08-23T12:56:16.815Z"
   },
   {
    "duration": 513,
    "start_time": "2021-08-23T12:56:16.818Z"
   },
   {
    "duration": 504,
    "start_time": "2021-08-23T12:56:16.829Z"
   },
   {
    "duration": 320,
    "start_time": "2021-08-23T12:58:54.053Z"
   },
   {
    "duration": 427,
    "start_time": "2021-08-23T12:59:07.662Z"
   },
   {
    "duration": 354,
    "start_time": "2021-08-23T12:59:13.321Z"
   },
   {
    "duration": 408,
    "start_time": "2021-08-23T12:59:56.387Z"
   },
   {
    "duration": 11,
    "start_time": "2021-08-23T13:00:03.804Z"
   },
   {
    "duration": 11,
    "start_time": "2021-08-23T13:00:05.112Z"
   },
   {
    "duration": 13,
    "start_time": "2021-08-23T13:00:09.520Z"
   },
   {
    "duration": 920,
    "start_time": "2021-08-23T13:00:15.425Z"
   },
   {
    "duration": 1146,
    "start_time": "2021-08-23T13:00:19.446Z"
   },
   {
    "duration": 320,
    "start_time": "2021-08-23T13:04:52.807Z"
   },
   {
    "duration": 1428,
    "start_time": "2021-08-23T13:06:39.405Z"
   },
   {
    "duration": 640,
    "start_time": "2021-08-23T13:06:40.835Z"
   },
   {
    "duration": 20,
    "start_time": "2021-08-23T13:06:41.477Z"
   },
   {
    "duration": 10,
    "start_time": "2021-08-23T13:06:41.499Z"
   },
   {
    "duration": 14,
    "start_time": "2021-08-23T13:06:41.511Z"
   },
   {
    "duration": 259,
    "start_time": "2021-08-23T13:06:41.527Z"
   },
   {
    "duration": 21,
    "start_time": "2021-08-23T13:06:41.787Z"
   },
   {
    "duration": 10,
    "start_time": "2021-08-23T13:06:41.811Z"
   },
   {
    "duration": 4,
    "start_time": "2021-08-23T13:06:41.824Z"
   },
   {
    "duration": 10,
    "start_time": "2021-08-23T13:06:41.830Z"
   },
   {
    "duration": 13,
    "start_time": "2021-08-23T13:06:41.841Z"
   },
   {
    "duration": 7,
    "start_time": "2021-08-23T13:06:41.884Z"
   },
   {
    "duration": 760,
    "start_time": "2021-08-23T13:06:41.893Z"
   },
   {
    "duration": 825,
    "start_time": "2021-08-23T13:06:42.655Z"
   },
   {
    "duration": 753,
    "start_time": "2021-08-23T13:06:43.481Z"
   },
   {
    "duration": 560,
    "start_time": "2021-08-23T13:06:44.236Z"
   },
   {
    "duration": 645,
    "start_time": "2021-08-23T13:06:44.798Z"
   },
   {
    "duration": 5,
    "start_time": "2021-08-23T13:06:45.445Z"
   },
   {
    "duration": 750,
    "start_time": "2021-08-23T13:06:45.451Z"
   },
   {
    "duration": 12,
    "start_time": "2021-08-23T13:06:46.203Z"
   },
   {
    "duration": 12,
    "start_time": "2021-08-23T13:06:46.217Z"
   },
   {
    "duration": 15,
    "start_time": "2021-08-23T13:06:46.231Z"
   },
   {
    "duration": 35,
    "start_time": "2021-08-23T13:06:46.250Z"
   },
   {
    "duration": 24,
    "start_time": "2021-08-23T13:06:46.287Z"
   },
   {
    "duration": 23,
    "start_time": "2021-08-23T13:06:46.313Z"
   },
   {
    "duration": 5,
    "start_time": "2021-08-23T13:06:46.338Z"
   },
   {
    "duration": 7,
    "start_time": "2021-08-23T13:06:46.345Z"
   },
   {
    "duration": 40,
    "start_time": "2021-08-23T13:06:46.353Z"
   },
   {
    "duration": 12,
    "start_time": "2021-08-23T13:06:46.395Z"
   },
   {
    "duration": 1735,
    "start_time": "2021-08-23T13:06:46.409Z"
   },
   {
    "duration": 542,
    "start_time": "2021-08-23T13:06:48.146Z"
   },
   {
    "duration": 10,
    "start_time": "2021-08-23T13:06:48.689Z"
   },
   {
    "duration": 9093,
    "start_time": "2021-08-23T13:06:48.700Z"
   },
   {
    "duration": 450,
    "start_time": "2021-08-23T13:06:57.345Z"
   },
   {
    "duration": 870,
    "start_time": "2021-08-23T13:08:58.974Z"
   },
   {
    "duration": 852,
    "start_time": "2021-08-23T13:09:31.111Z"
   },
   {
    "duration": 313,
    "start_time": "2021-08-23T13:09:38.383Z"
   },
   {
    "duration": 8756,
    "start_time": "2021-08-23T13:09:59.947Z"
   },
   {
    "duration": 9150,
    "start_time": "2021-08-23T13:11:33.928Z"
   },
   {
    "duration": 8588,
    "start_time": "2021-08-23T13:13:06.411Z"
   },
   {
    "duration": 848,
    "start_time": "2021-08-23T13:13:22.329Z"
   },
   {
    "duration": 343,
    "start_time": "2021-08-23T13:14:55.634Z"
   },
   {
    "duration": 457,
    "start_time": "2021-08-23T13:15:07.140Z"
   },
   {
    "duration": 828,
    "start_time": "2021-08-23T13:17:02.756Z"
   },
   {
    "duration": 350,
    "start_time": "2021-08-23T13:17:21.463Z"
   },
   {
    "duration": 322,
    "start_time": "2021-08-23T13:20:52.320Z"
   },
   {
    "duration": 1220,
    "start_time": "2021-08-23T13:23:07.088Z"
   },
   {
    "duration": 1674,
    "start_time": "2021-08-23T20:24:09.744Z"
   },
   {
    "duration": 771,
    "start_time": "2021-08-23T20:24:11.420Z"
   },
   {
    "duration": 1068,
    "start_time": "2021-08-23T20:24:21.397Z"
   },
   {
    "duration": 1241,
    "start_time": "2021-08-23T20:24:27.893Z"
   },
   {
    "duration": 6,
    "start_time": "2021-08-23T20:24:47.413Z"
   },
   {
    "duration": 1378,
    "start_time": "2021-08-23T20:24:52.811Z"
   },
   {
    "duration": 37300,
    "start_time": "2021-08-23T20:25:36.983Z"
   },
   {
    "duration": 59433,
    "start_time": "2021-08-23T20:26:18.646Z"
   },
   {
    "duration": 1370,
    "start_time": "2021-08-23T20:57:17.852Z"
   },
   {
    "duration": 1589,
    "start_time": "2021-08-23T21:00:40.221Z"
   },
   {
    "duration": 18,
    "start_time": "2021-08-23T21:04:06.863Z"
   },
   {
    "duration": 7,
    "start_time": "2021-08-23T21:05:35.843Z"
   },
   {
    "duration": 139,
    "start_time": "2021-08-23T21:11:50.840Z"
   },
   {
    "duration": 13410,
    "start_time": "2021-08-23T21:12:02.310Z"
   },
   {
    "duration": 13052,
    "start_time": "2021-08-23T21:12:59.743Z"
   },
   {
    "duration": 12790,
    "start_time": "2021-08-23T21:14:07.771Z"
   },
   {
    "duration": 4,
    "start_time": "2021-08-23T21:16:06.786Z"
   },
   {
    "duration": 10108,
    "start_time": "2021-08-23T21:16:10.092Z"
   },
   {
    "duration": 9645,
    "start_time": "2021-08-23T21:20:40.154Z"
   },
   {
    "duration": 290,
    "start_time": "2021-08-23T21:29:41.019Z"
   },
   {
    "duration": 410,
    "start_time": "2021-08-23T21:30:52.532Z"
   },
   {
    "duration": 507,
    "start_time": "2021-08-23T21:31:18.288Z"
   },
   {
    "duration": 381,
    "start_time": "2021-08-23T21:34:26.071Z"
   },
   {
    "duration": 1328,
    "start_time": "2021-08-23T21:36:22.953Z"
   },
   {
    "duration": 958,
    "start_time": "2021-08-23T21:37:29.227Z"
   },
   {
    "duration": 905,
    "start_time": "2021-08-23T21:38:30.714Z"
   },
   {
    "duration": 972,
    "start_time": "2021-08-23T21:39:42.012Z"
   },
   {
    "duration": 1034,
    "start_time": "2021-08-23T21:45:39.932Z"
   },
   {
    "duration": 319,
    "start_time": "2021-08-23T21:45:44.707Z"
   },
   {
    "duration": 1022,
    "start_time": "2021-08-23T21:46:04.145Z"
   },
   {
    "duration": 558284,
    "start_time": "2021-08-23T21:46:05.171Z"
   },
   {
    "duration": 1453,
    "start_time": "2021-08-23T21:56:58.594Z"
   },
   {
    "duration": 536223,
    "start_time": "2021-08-23T21:57:00.732Z"
   },
   {
    "duration": 325,
    "start_time": "2021-08-24T06:32:56.540Z"
   },
   {
    "duration": 1599,
    "start_time": "2021-08-24T06:33:04.770Z"
   },
   {
    "duration": 757,
    "start_time": "2021-08-24T06:33:06.372Z"
   },
   {
    "duration": 39,
    "start_time": "2021-08-24T06:33:07.132Z"
   },
   {
    "duration": 15,
    "start_time": "2021-08-24T06:33:07.174Z"
   },
   {
    "duration": 25,
    "start_time": "2021-08-24T06:33:07.192Z"
   },
   {
    "duration": 489,
    "start_time": "2021-08-24T06:33:07.219Z"
   },
   {
    "duration": 30,
    "start_time": "2021-08-24T06:33:07.711Z"
   },
   {
    "duration": 36,
    "start_time": "2021-08-24T06:33:07.745Z"
   },
   {
    "duration": 4,
    "start_time": "2021-08-24T06:33:07.784Z"
   },
   {
    "duration": 8,
    "start_time": "2021-08-24T06:33:07.791Z"
   },
   {
    "duration": 10,
    "start_time": "2021-08-24T06:33:07.801Z"
   },
   {
    "duration": 54,
    "start_time": "2021-08-24T06:33:07.814Z"
   },
   {
    "duration": 1215,
    "start_time": "2021-08-24T06:33:07.871Z"
   },
   {
    "duration": 1342,
    "start_time": "2021-08-24T06:33:09.089Z"
   },
   {
    "duration": 1218,
    "start_time": "2021-08-24T06:33:10.433Z"
   },
   {
    "duration": 918,
    "start_time": "2021-08-24T06:33:11.653Z"
   },
   {
    "duration": 999,
    "start_time": "2021-08-24T06:33:12.573Z"
   },
   {
    "duration": 7,
    "start_time": "2021-08-24T06:33:13.575Z"
   },
   {
    "duration": 1381,
    "start_time": "2021-08-24T06:33:13.584Z"
   },
   {
    "duration": 14,
    "start_time": "2021-08-24T06:33:14.968Z"
   },
   {
    "duration": 13,
    "start_time": "2021-08-24T06:33:14.984Z"
   },
   {
    "duration": 25,
    "start_time": "2021-08-24T06:33:15.000Z"
   },
   {
    "duration": 4,
    "start_time": "2021-08-24T06:33:15.069Z"
   },
   {
    "duration": 27,
    "start_time": "2021-08-24T06:33:15.080Z"
   },
   {
    "duration": 24,
    "start_time": "2021-08-24T06:33:15.110Z"
   },
   {
    "duration": 5,
    "start_time": "2021-08-24T06:33:15.137Z"
   },
   {
    "duration": 8,
    "start_time": "2021-08-24T06:33:15.169Z"
   },
   {
    "duration": 17,
    "start_time": "2021-08-24T06:33:15.180Z"
   },
   {
    "duration": 17,
    "start_time": "2021-08-24T06:33:15.199Z"
   },
   {
    "duration": 2384,
    "start_time": "2021-08-24T06:33:15.218Z"
   },
   {
    "duration": 569,
    "start_time": "2021-08-24T06:33:17.604Z"
   },
   {
    "duration": 98,
    "start_time": "2021-08-24T06:33:18.176Z"
   },
   {
    "duration": 1556,
    "start_time": "2021-08-24T06:33:18.278Z"
   },
   {
    "duration": 14259,
    "start_time": "2021-08-24T06:33:05.578Z"
   },
   {
    "duration": 14252,
    "start_time": "2021-08-24T06:33:05.587Z"
   },
   {
    "duration": 14247,
    "start_time": "2021-08-24T06:33:05.594Z"
   },
   {
    "duration": 14241,
    "start_time": "2021-08-24T06:33:05.601Z"
   },
   {
    "duration": 14235,
    "start_time": "2021-08-24T06:33:05.609Z"
   },
   {
    "duration": 1873,
    "start_time": "2021-08-24T06:34:21.650Z"
   },
   {
    "duration": 1052,
    "start_time": "2021-08-24T06:34:32.732Z"
   },
   {
    "duration": 991,
    "start_time": "2021-08-24T06:34:39.921Z"
   },
   {
    "duration": 270,
    "start_time": "2021-08-24T06:40:46.753Z"
   },
   {
    "duration": 1032,
    "start_time": "2021-08-24T06:41:09.978Z"
   },
   {
    "duration": 1113,
    "start_time": "2021-08-24T06:41:15.830Z"
   },
   {
    "duration": 6,
    "start_time": "2021-08-24T06:59:56.538Z"
   },
   {
    "duration": 6,
    "start_time": "2021-08-24T07:01:31.289Z"
   },
   {
    "duration": 1592,
    "start_time": "2021-08-24T07:01:35.971Z"
   },
   {
    "duration": 1377,
    "start_time": "2021-08-24T07:02:04.565Z"
   },
   {
    "duration": 275,
    "start_time": "2021-08-24T07:05:48.650Z"
   },
   {
    "duration": 261,
    "start_time": "2021-08-24T07:06:57.474Z"
   },
   {
    "duration": 7,
    "start_time": "2021-08-24T07:10:58.267Z"
   },
   {
    "duration": 1381,
    "start_time": "2021-08-24T07:11:05.744Z"
   },
   {
    "duration": 6,
    "start_time": "2021-08-24T07:12:09.356Z"
   },
   {
    "duration": 1077,
    "start_time": "2021-08-24T07:12:18.183Z"
   },
   {
    "duration": 1576,
    "start_time": "2021-08-24T07:13:41.107Z"
   },
   {
    "duration": 733,
    "start_time": "2021-08-24T07:13:42.686Z"
   },
   {
    "duration": 25,
    "start_time": "2021-08-24T07:13:43.426Z"
   },
   {
    "duration": 28,
    "start_time": "2021-08-24T07:13:43.453Z"
   },
   {
    "duration": 26,
    "start_time": "2021-08-24T07:13:43.483Z"
   },
   {
    "duration": 391,
    "start_time": "2021-08-24T07:13:43.511Z"
   },
   {
    "duration": 29,
    "start_time": "2021-08-24T07:13:43.905Z"
   },
   {
    "duration": 31,
    "start_time": "2021-08-24T07:13:43.936Z"
   },
   {
    "duration": 5,
    "start_time": "2021-08-24T07:13:43.969Z"
   },
   {
    "duration": 11,
    "start_time": "2021-08-24T07:13:43.976Z"
   },
   {
    "duration": 9,
    "start_time": "2021-08-24T07:13:43.989Z"
   },
   {
    "duration": 13,
    "start_time": "2021-08-24T07:13:44.000Z"
   },
   {
    "duration": 1164,
    "start_time": "2021-08-24T07:13:44.016Z"
   },
   {
    "duration": 1299,
    "start_time": "2021-08-24T07:13:45.182Z"
   },
   {
    "duration": 1160,
    "start_time": "2021-08-24T07:13:46.483Z"
   },
   {
    "duration": 861,
    "start_time": "2021-08-24T07:13:47.645Z"
   },
   {
    "duration": 965,
    "start_time": "2021-08-24T07:13:48.509Z"
   },
   {
    "duration": 7,
    "start_time": "2021-08-24T07:13:49.477Z"
   },
   {
    "duration": 1165,
    "start_time": "2021-08-24T07:13:49.486Z"
   },
   {
    "duration": 19,
    "start_time": "2021-08-24T07:13:50.653Z"
   },
   {
    "duration": 14,
    "start_time": "2021-08-24T07:13:50.675Z"
   },
   {
    "duration": 24,
    "start_time": "2021-08-24T07:13:50.694Z"
   },
   {
    "duration": 4,
    "start_time": "2021-08-24T07:13:50.721Z"
   },
   {
    "duration": 25,
    "start_time": "2021-08-24T07:13:50.768Z"
   },
   {
    "duration": 27,
    "start_time": "2021-08-24T07:13:50.796Z"
   },
   {
    "duration": 12,
    "start_time": "2021-08-24T07:13:50.826Z"
   },
   {
    "duration": 31,
    "start_time": "2021-08-24T07:13:50.840Z"
   },
   {
    "duration": 22,
    "start_time": "2021-08-24T07:13:50.874Z"
   },
   {
    "duration": 16,
    "start_time": "2021-08-24T07:13:50.898Z"
   },
   {
    "duration": 2151,
    "start_time": "2021-08-24T07:13:50.917Z"
   },
   {
    "duration": 498,
    "start_time": "2021-08-24T07:13:53.071Z"
   },
   {
    "duration": 100,
    "start_time": "2021-08-24T07:13:53.574Z"
   },
   {
    "duration": 1042,
    "start_time": "2021-08-24T07:13:53.676Z"
   },
   {
    "duration": 5,
    "start_time": "2021-08-24T07:13:54.720Z"
   },
   {
    "duration": 103,
    "start_time": "2021-08-24T07:13:54.727Z"
   },
   {
    "duration": 14405,
    "start_time": "2021-08-24T07:13:40.427Z"
   },
   {
    "duration": 14399,
    "start_time": "2021-08-24T07:13:40.435Z"
   },
   {
    "duration": 14391,
    "start_time": "2021-08-24T07:13:40.444Z"
   },
   {
    "duration": 14380,
    "start_time": "2021-08-24T07:13:40.456Z"
   },
   {
    "duration": 14375,
    "start_time": "2021-08-24T07:13:40.463Z"
   },
   {
    "duration": 1021,
    "start_time": "2021-08-24T07:14:46.818Z"
   },
   {
    "duration": 575,
    "start_time": "2021-08-24T07:14:52.971Z"
   },
   {
    "duration": 6,
    "start_time": "2021-08-24T07:15:05.937Z"
   },
   {
    "duration": 1062,
    "start_time": "2021-08-24T07:15:10.110Z"
   },
   {
    "duration": 1042,
    "start_time": "2021-08-24T08:00:58.638Z"
   },
   {
    "duration": 1669,
    "start_time": "2021-08-24T08:04:57.878Z"
   },
   {
    "duration": 775,
    "start_time": "2021-08-24T08:04:59.549Z"
   },
   {
    "duration": 26,
    "start_time": "2021-08-24T08:05:00.327Z"
   },
   {
    "duration": 24,
    "start_time": "2021-08-24T08:05:00.355Z"
   },
   {
    "duration": 35,
    "start_time": "2021-08-24T08:05:00.382Z"
   },
   {
    "duration": 380,
    "start_time": "2021-08-24T08:05:00.420Z"
   },
   {
    "duration": 30,
    "start_time": "2021-08-24T08:05:00.803Z"
   },
   {
    "duration": 38,
    "start_time": "2021-08-24T08:05:00.837Z"
   },
   {
    "duration": 13,
    "start_time": "2021-08-24T08:05:00.878Z"
   },
   {
    "duration": 35,
    "start_time": "2021-08-24T08:05:00.893Z"
   },
   {
    "duration": 35,
    "start_time": "2021-08-24T08:05:00.930Z"
   },
   {
    "duration": 39,
    "start_time": "2021-08-24T08:05:00.967Z"
   },
   {
    "duration": 1224,
    "start_time": "2021-08-24T08:05:01.009Z"
   },
   {
    "duration": 1250,
    "start_time": "2021-08-24T08:05:02.236Z"
   },
   {
    "duration": 1186,
    "start_time": "2021-08-24T08:05:03.488Z"
   },
   {
    "duration": 890,
    "start_time": "2021-08-24T08:05:04.677Z"
   },
   {
    "duration": 990,
    "start_time": "2021-08-24T08:05:05.569Z"
   },
   {
    "duration": 8,
    "start_time": "2021-08-24T08:05:06.561Z"
   },
   {
    "duration": 1196,
    "start_time": "2021-08-24T08:05:06.571Z"
   },
   {
    "duration": 14,
    "start_time": "2021-08-24T08:05:07.770Z"
   },
   {
    "duration": 17,
    "start_time": "2021-08-24T08:05:07.787Z"
   },
   {
    "duration": 63,
    "start_time": "2021-08-24T08:05:07.807Z"
   },
   {
    "duration": 4,
    "start_time": "2021-08-24T08:05:07.877Z"
   },
   {
    "duration": 27,
    "start_time": "2021-08-24T08:05:07.885Z"
   },
   {
    "duration": 58,
    "start_time": "2021-08-24T08:05:07.915Z"
   },
   {
    "duration": 7,
    "start_time": "2021-08-24T08:05:07.975Z"
   },
   {
    "duration": 9,
    "start_time": "2021-08-24T08:05:07.985Z"
   },
   {
    "duration": 16,
    "start_time": "2021-08-24T08:05:07.996Z"
   },
   {
    "duration": 53,
    "start_time": "2021-08-24T08:05:08.014Z"
   },
   {
    "duration": 2182,
    "start_time": "2021-08-24T08:05:08.071Z"
   },
   {
    "duration": 717,
    "start_time": "2021-08-24T08:05:10.256Z"
   },
   {
    "duration": 98,
    "start_time": "2021-08-24T08:05:10.976Z"
   },
   {
    "duration": 1056,
    "start_time": "2021-08-24T08:05:11.076Z"
   },
   {
    "duration": 6,
    "start_time": "2021-08-24T08:05:12.135Z"
   },
   {
    "duration": 1045,
    "start_time": "2021-08-24T08:05:12.144Z"
   },
   {
    "duration": 1062,
    "start_time": "2021-08-24T08:05:13.191Z"
   },
   {
    "duration": 15542,
    "start_time": "2021-08-24T08:04:58.714Z"
   },
   {
    "duration": 15508,
    "start_time": "2021-08-24T08:04:58.749Z"
   },
   {
    "duration": 7,
    "start_time": "2021-08-24T08:05:23.673Z"
   },
   {
    "duration": 1057,
    "start_time": "2021-08-24T08:05:26.817Z"
   },
   {
    "duration": 1142,
    "start_time": "2021-08-24T08:05:56.450Z"
   },
   {
    "duration": 1653,
    "start_time": "2021-08-24T10:42:53.614Z"
   },
   {
    "duration": 721,
    "start_time": "2021-08-24T10:42:55.269Z"
   },
   {
    "duration": 24,
    "start_time": "2021-08-24T10:42:55.993Z"
   },
   {
    "duration": 36,
    "start_time": "2021-08-24T10:42:56.020Z"
   },
   {
    "duration": 23,
    "start_time": "2021-08-24T10:42:56.306Z"
   },
   {
    "duration": 986,
    "start_time": "2021-08-24T10:43:07.852Z"
   },
   {
    "duration": 1263,
    "start_time": "2021-08-24T10:44:00.347Z"
   },
   {
    "duration": 991,
    "start_time": "2021-08-24T10:44:21.429Z"
   },
   {
    "duration": 6,
    "start_time": "2021-08-24T10:45:16.243Z"
   },
   {
    "duration": 43157,
    "start_time": "2021-08-24T10:45:18.812Z"
   },
   {
    "duration": 4752,
    "start_time": "2021-08-24T10:46:42.653Z"
   },
   {
    "duration": 106,
    "start_time": "2021-08-24T10:48:13.299Z"
   },
   {
    "duration": 2265,
    "start_time": "2021-08-24T10:48:22.332Z"
   },
   {
    "duration": 4671,
    "start_time": "2021-08-24T10:48:53.292Z"
   },
   {
    "duration": 964,
    "start_time": "2021-08-24T10:56:52.275Z"
   },
   {
    "duration": 505,
    "start_time": "2021-08-24T10:56:53.242Z"
   },
   {
    "duration": 1654,
    "start_time": "2021-08-24T10:56:59.428Z"
   },
   {
    "duration": 6,
    "start_time": "2021-08-24T10:57:09.365Z"
   },
   {
    "duration": 4665,
    "start_time": "2021-08-24T10:57:11.980Z"
   },
   {
    "duration": 24,
    "start_time": "2021-08-24T10:57:53.562Z"
   },
   {
    "duration": 1336,
    "start_time": "2021-08-24T10:57:57.964Z"
   },
   {
    "duration": 6,
    "start_time": "2021-08-24T10:58:09.216Z"
   },
   {
    "duration": 4684,
    "start_time": "2021-08-24T10:58:12.109Z"
   },
   {
    "duration": 47,
    "start_time": "2021-08-24T10:59:35.365Z"
   },
   {
    "duration": 4661,
    "start_time": "2021-08-24T11:00:12.852Z"
   },
   {
    "duration": 153,
    "start_time": "2021-08-24T11:15:15.965Z"
   },
   {
    "duration": 492,
    "start_time": "2021-08-24T11:15:53.711Z"
   },
   {
    "duration": 1917,
    "start_time": "2021-08-24T11:16:01.510Z"
   },
   {
    "duration": 863,
    "start_time": "2021-08-24T11:16:03.430Z"
   },
   {
    "duration": 26,
    "start_time": "2021-08-24T11:16:04.296Z"
   },
   {
    "duration": 40,
    "start_time": "2021-08-24T11:16:04.325Z"
   },
   {
    "duration": 24,
    "start_time": "2021-08-24T11:16:04.367Z"
   },
   {
    "duration": 400,
    "start_time": "2021-08-24T11:16:04.394Z"
   },
   {
    "duration": 30,
    "start_time": "2021-08-24T11:16:04.796Z"
   },
   {
    "duration": 34,
    "start_time": "2021-08-24T11:16:04.830Z"
   },
   {
    "duration": 5,
    "start_time": "2021-08-24T11:16:04.867Z"
   },
   {
    "duration": 11,
    "start_time": "2021-08-24T11:16:04.875Z"
   },
   {
    "duration": 17,
    "start_time": "2021-08-24T11:16:04.889Z"
   },
   {
    "duration": 47,
    "start_time": "2021-08-24T11:16:04.908Z"
   },
   {
    "duration": 1154,
    "start_time": "2021-08-24T11:16:04.957Z"
   },
   {
    "duration": 1246,
    "start_time": "2021-08-24T11:16:06.114Z"
   },
   {
    "duration": 1237,
    "start_time": "2021-08-24T11:16:07.363Z"
   },
   {
    "duration": 993,
    "start_time": "2021-08-24T11:16:08.603Z"
   },
   {
    "duration": 948,
    "start_time": "2021-08-24T11:16:09.598Z"
   },
   {
    "duration": 11,
    "start_time": "2021-08-24T11:16:10.549Z"
   },
   {
    "duration": 1261,
    "start_time": "2021-08-24T11:16:10.562Z"
   },
   {
    "duration": 29,
    "start_time": "2021-08-24T11:16:11.826Z"
   },
   {
    "duration": 13,
    "start_time": "2021-08-24T11:16:11.858Z"
   },
   {
    "duration": 23,
    "start_time": "2021-08-24T11:16:11.874Z"
   },
   {
    "duration": 4,
    "start_time": "2021-08-24T11:16:11.903Z"
   },
   {
    "duration": 70,
    "start_time": "2021-08-24T11:16:11.910Z"
   },
   {
    "duration": 25,
    "start_time": "2021-08-24T11:16:11.982Z"
   },
   {
    "duration": 22,
    "start_time": "2021-08-24T11:16:12.009Z"
   },
   {
    "duration": 22,
    "start_time": "2021-08-24T11:16:12.034Z"
   },
   {
    "duration": 16,
    "start_time": "2021-08-24T11:16:12.058Z"
   },
   {
    "duration": 16,
    "start_time": "2021-08-24T11:16:12.076Z"
   },
   {
    "duration": 2163,
    "start_time": "2021-08-24T11:16:12.094Z"
   },
   {
    "duration": 600,
    "start_time": "2021-08-24T11:16:14.261Z"
   },
   {
    "duration": 99,
    "start_time": "2021-08-24T11:16:14.866Z"
   },
   {
    "duration": 1265,
    "start_time": "2021-08-24T11:16:14.967Z"
   },
   {
    "duration": 5,
    "start_time": "2021-08-24T11:16:16.235Z"
   },
   {
    "duration": 1014,
    "start_time": "2021-08-24T11:16:16.242Z"
   },
   {
    "duration": 27,
    "start_time": "2021-08-24T11:16:17.258Z"
   },
   {
    "duration": 19,
    "start_time": "2021-08-24T11:16:17.288Z"
   },
   {
    "duration": 44,
    "start_time": "2021-08-24T11:16:17.310Z"
   },
   {
    "duration": 555867,
    "start_time": "2021-08-24T11:16:17.356Z"
   },
   {
    "duration": 1775,
    "start_time": "2021-08-24T11:56:52.291Z"
   },
   {
    "duration": 41,
    "start_time": "2021-08-24T11:59:36.213Z"
   },
   {
    "duration": 1655,
    "start_time": "2021-08-24T12:00:08.266Z"
   },
   {
    "duration": 812,
    "start_time": "2021-08-24T12:00:09.924Z"
   },
   {
    "duration": 35,
    "start_time": "2021-08-24T12:00:10.740Z"
   },
   {
    "duration": 19,
    "start_time": "2021-08-24T12:00:10.779Z"
   },
   {
    "duration": 55,
    "start_time": "2021-08-24T12:00:10.801Z"
   },
   {
    "duration": 366,
    "start_time": "2021-08-24T12:00:10.859Z"
   },
   {
    "duration": 40,
    "start_time": "2021-08-24T12:00:11.228Z"
   },
   {
    "duration": 26,
    "start_time": "2021-08-24T12:00:11.274Z"
   },
   {
    "duration": 26,
    "start_time": "2021-08-24T12:00:11.304Z"
   },
   {
    "duration": 18,
    "start_time": "2021-08-24T12:00:11.334Z"
   },
   {
    "duration": 38,
    "start_time": "2021-08-24T12:00:11.355Z"
   },
   {
    "duration": 38,
    "start_time": "2021-08-24T12:00:11.396Z"
   },
   {
    "duration": 1118,
    "start_time": "2021-08-24T12:00:11.437Z"
   },
   {
    "duration": 1220,
    "start_time": "2021-08-24T12:00:12.558Z"
   },
   {
    "duration": 1154,
    "start_time": "2021-08-24T12:00:13.780Z"
   },
   {
    "duration": 869,
    "start_time": "2021-08-24T12:00:14.936Z"
   },
   {
    "duration": 959,
    "start_time": "2021-08-24T12:00:15.808Z"
   },
   {
    "duration": 7,
    "start_time": "2021-08-24T12:00:16.770Z"
   },
   {
    "duration": 1157,
    "start_time": "2021-08-24T12:00:16.780Z"
   },
   {
    "duration": 28,
    "start_time": "2021-08-24T12:00:17.939Z"
   },
   {
    "duration": 34,
    "start_time": "2021-08-24T12:00:17.969Z"
   },
   {
    "duration": 27,
    "start_time": "2021-08-24T12:00:18.005Z"
   },
   {
    "duration": 8,
    "start_time": "2021-08-24T12:00:18.037Z"
   },
   {
    "duration": 47,
    "start_time": "2021-08-24T12:00:18.048Z"
   },
   {
    "duration": 41,
    "start_time": "2021-08-24T12:00:18.098Z"
   },
   {
    "duration": 30,
    "start_time": "2021-08-24T12:00:18.142Z"
   },
   {
    "duration": 21,
    "start_time": "2021-08-24T12:00:18.175Z"
   },
   {
    "duration": 29,
    "start_time": "2021-08-24T12:00:18.199Z"
   },
   {
    "duration": 25,
    "start_time": "2021-08-24T12:00:18.231Z"
   },
   {
    "duration": 2097,
    "start_time": "2021-08-24T12:00:18.259Z"
   },
   {
    "duration": 599,
    "start_time": "2021-08-24T12:00:20.359Z"
   },
   {
    "duration": 14,
    "start_time": "2021-08-24T12:00:20.961Z"
   },
   {
    "duration": 1034,
    "start_time": "2021-08-24T12:00:21.054Z"
   },
   {
    "duration": 5,
    "start_time": "2021-08-24T12:00:22.091Z"
   },
   {
    "duration": 1034,
    "start_time": "2021-08-24T12:00:22.099Z"
   },
   {
    "duration": 33,
    "start_time": "2021-08-24T12:00:23.136Z"
   },
   {
    "duration": 19,
    "start_time": "2021-08-24T12:00:23.171Z"
   },
   {
    "duration": 59,
    "start_time": "2021-08-24T12:00:23.193Z"
   },
   {
    "duration": 2227,
    "start_time": "2021-08-24T12:00:23.255Z"
   },
   {
    "duration": 552008,
    "start_time": "2021-08-24T12:02:16.498Z"
   }
  ],
  "kernelspec": {
   "display_name": "Python 3 (ipykernel)",
   "language": "python",
   "name": "python3"
  },
  "language_info": {
   "codemirror_mode": {
    "name": "ipython",
    "version": 3
   },
   "file_extension": ".py",
   "mimetype": "text/x-python",
   "name": "python",
   "nbconvert_exporter": "python",
   "pygments_lexer": "ipython3",
   "version": "3.9.5"
  },
  "toc": {
   "base_numbering": 1,
   "nav_menu": {},
   "number_sections": true,
   "sideBar": true,
   "skip_h1_title": true,
   "title_cell": "Table of Contents",
   "title_sidebar": "Contents",
   "toc_cell": false,
   "toc_position": {},
   "toc_section_display": true,
   "toc_window_display": false
  }
 },
 "nbformat": 4,
 "nbformat_minor": 2
}
